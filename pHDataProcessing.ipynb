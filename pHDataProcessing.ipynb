{
 "cells": [
  {
   "cell_type": "code",
   "execution_count": 1,
   "metadata": {
    "colab": {},
    "colab_type": "code",
    "id": "6N3Yx7hJQCNx"
   },
   "outputs": [],
   "source": [
    "import numpy as np\n",
    "import pandas as pd\n",
    "import matplotlib.pyplot as plt"
   ]
  },
  {
   "cell_type": "code",
   "execution_count": 2,
   "metadata": {
    "colab": {},
    "colab_type": "code",
    "id": "pV8gfNwAQCN1"
   },
   "outputs": [],
   "source": [
    "df = pd.read_csv('ph-data.csv')"
   ]
  },
  {
   "cell_type": "code",
   "execution_count": 3,
   "metadata": {
    "colab": {
     "base_uri": "https://localhost:8080/",
     "height": 204
    },
    "colab_type": "code",
    "id": "AzPlneQnQCN4",
    "outputId": "cb64636f-84f2-4eaf-a52b-826c6ed7e511"
   },
   "outputs": [
    {
     "data": {
      "text/html": [
       "<div>\n",
       "<style scoped>\n",
       "    .dataframe tbody tr th:only-of-type {\n",
       "        vertical-align: middle;\n",
       "    }\n",
       "\n",
       "    .dataframe tbody tr th {\n",
       "        vertical-align: top;\n",
       "    }\n",
       "\n",
       "    .dataframe thead th {\n",
       "        text-align: right;\n",
       "    }\n",
       "</style>\n",
       "<table border=\"1\" class=\"dataframe\">\n",
       "  <thead>\n",
       "    <tr style=\"text-align: right;\">\n",
       "      <th></th>\n",
       "      <th>blue</th>\n",
       "      <th>green</th>\n",
       "      <th>red</th>\n",
       "      <th>label</th>\n",
       "    </tr>\n",
       "  </thead>\n",
       "  <tbody>\n",
       "    <tr>\n",
       "      <td>0</td>\n",
       "      <td>36</td>\n",
       "      <td>27</td>\n",
       "      <td>231</td>\n",
       "      <td>0</td>\n",
       "    </tr>\n",
       "    <tr>\n",
       "      <td>1</td>\n",
       "      <td>36</td>\n",
       "      <td>84</td>\n",
       "      <td>250</td>\n",
       "      <td>1</td>\n",
       "    </tr>\n",
       "    <tr>\n",
       "      <td>2</td>\n",
       "      <td>37</td>\n",
       "      <td>164</td>\n",
       "      <td>255</td>\n",
       "      <td>2</td>\n",
       "    </tr>\n",
       "    <tr>\n",
       "      <td>3</td>\n",
       "      <td>22</td>\n",
       "      <td>205</td>\n",
       "      <td>255</td>\n",
       "      <td>3</td>\n",
       "    </tr>\n",
       "    <tr>\n",
       "      <td>4</td>\n",
       "      <td>38</td>\n",
       "      <td>223</td>\n",
       "      <td>221</td>\n",
       "      <td>4</td>\n",
       "    </tr>\n",
       "  </tbody>\n",
       "</table>\n",
       "</div>"
      ],
      "text/plain": [
       "   blue  green  red  label\n",
       "0    36     27  231      0\n",
       "1    36     84  250      1\n",
       "2    37    164  255      2\n",
       "3    22    205  255      3\n",
       "4    38    223  221      4"
      ]
     },
     "execution_count": 3,
     "metadata": {},
     "output_type": "execute_result"
    }
   ],
   "source": [
    "df.head()"
   ]
  },
  {
   "cell_type": "code",
   "execution_count": 4,
   "metadata": {
    "colab": {
     "base_uri": "https://localhost:8080/",
     "height": 170
    },
    "colab_type": "code",
    "id": "wRttdB6-QCN9",
    "outputId": "79d56643-9367-4223-ac40-4ed6f2aa0232"
   },
   "outputs": [
    {
     "name": "stdout",
     "output_type": "stream",
     "text": [
      "<class 'pandas.core.frame.DataFrame'>\n",
      "RangeIndex: 653 entries, 0 to 652\n",
      "Data columns (total 4 columns):\n",
      "blue     653 non-null int64\n",
      "green    653 non-null int64\n",
      "red      653 non-null int64\n",
      "label    653 non-null int64\n",
      "dtypes: int64(4)\n",
      "memory usage: 20.5 KB\n"
     ]
    }
   ],
   "source": [
    "df.info()"
   ]
  },
  {
   "cell_type": "code",
   "execution_count": 5,
   "metadata": {
    "colab": {
     "base_uri": "https://localhost:8080/",
     "height": 297
    },
    "colab_type": "code",
    "id": "X5cqVk_cQCOB",
    "outputId": "55d07224-bef9-4ad2-c0e1-6a0f69090df1"
   },
   "outputs": [
    {
     "data": {
      "text/html": [
       "<div>\n",
       "<style scoped>\n",
       "    .dataframe tbody tr th:only-of-type {\n",
       "        vertical-align: middle;\n",
       "    }\n",
       "\n",
       "    .dataframe tbody tr th {\n",
       "        vertical-align: top;\n",
       "    }\n",
       "\n",
       "    .dataframe thead th {\n",
       "        text-align: right;\n",
       "    }\n",
       "</style>\n",
       "<table border=\"1\" class=\"dataframe\">\n",
       "  <thead>\n",
       "    <tr style=\"text-align: right;\">\n",
       "      <th></th>\n",
       "      <th>blue</th>\n",
       "      <th>green</th>\n",
       "      <th>red</th>\n",
       "      <th>label</th>\n",
       "    </tr>\n",
       "  </thead>\n",
       "  <tbody>\n",
       "    <tr>\n",
       "      <td>count</td>\n",
       "      <td>653.000000</td>\n",
       "      <td>653.000000</td>\n",
       "      <td>653.000000</td>\n",
       "      <td>653.000000</td>\n",
       "    </tr>\n",
       "    <tr>\n",
       "      <td>mean</td>\n",
       "      <td>89.290965</td>\n",
       "      <td>130.094946</td>\n",
       "      <td>120.655436</td>\n",
       "      <td>7.055130</td>\n",
       "    </tr>\n",
       "    <tr>\n",
       "      <td>std</td>\n",
       "      <td>74.974850</td>\n",
       "      <td>72.487085</td>\n",
       "      <td>89.581264</td>\n",
       "      <td>4.287951</td>\n",
       "    </tr>\n",
       "    <tr>\n",
       "      <td>min</td>\n",
       "      <td>0.000000</td>\n",
       "      <td>0.000000</td>\n",
       "      <td>0.000000</td>\n",
       "      <td>0.000000</td>\n",
       "    </tr>\n",
       "    <tr>\n",
       "      <td>25%</td>\n",
       "      <td>22.000000</td>\n",
       "      <td>68.000000</td>\n",
       "      <td>52.000000</td>\n",
       "      <td>3.000000</td>\n",
       "    </tr>\n",
       "    <tr>\n",
       "      <td>50%</td>\n",
       "      <td>67.000000</td>\n",
       "      <td>146.000000</td>\n",
       "      <td>90.000000</td>\n",
       "      <td>7.000000</td>\n",
       "    </tr>\n",
       "    <tr>\n",
       "      <td>75%</td>\n",
       "      <td>162.000000</td>\n",
       "      <td>189.000000</td>\n",
       "      <td>224.000000</td>\n",
       "      <td>11.000000</td>\n",
       "    </tr>\n",
       "    <tr>\n",
       "      <td>max</td>\n",
       "      <td>255.000000</td>\n",
       "      <td>255.000000</td>\n",
       "      <td>255.000000</td>\n",
       "      <td>14.000000</td>\n",
       "    </tr>\n",
       "  </tbody>\n",
       "</table>\n",
       "</div>"
      ],
      "text/plain": [
       "             blue       green         red       label\n",
       "count  653.000000  653.000000  653.000000  653.000000\n",
       "mean    89.290965  130.094946  120.655436    7.055130\n",
       "std     74.974850   72.487085   89.581264    4.287951\n",
       "min      0.000000    0.000000    0.000000    0.000000\n",
       "25%     22.000000   68.000000   52.000000    3.000000\n",
       "50%     67.000000  146.000000   90.000000    7.000000\n",
       "75%    162.000000  189.000000  224.000000   11.000000\n",
       "max    255.000000  255.000000  255.000000   14.000000"
      ]
     },
     "execution_count": 5,
     "metadata": {},
     "output_type": "execute_result"
    }
   ],
   "source": [
    "df.describe()"
   ]
  },
  {
   "cell_type": "code",
   "execution_count": 6,
   "metadata": {
    "colab": {},
    "colab_type": "code",
    "id": "buKOgMNBQCOE"
   },
   "outputs": [],
   "source": [
    "# Mean label is 7.05 which shows that this the average pH is around 7 which is neutral.\n",
    "# Min pH is 0 and max pH is 14.\n",
    "# Thus data obtained is optimal for training our model."
   ]
  },
  {
   "cell_type": "code",
   "execution_count": 7,
   "metadata": {
    "colab": {},
    "colab_type": "code",
    "id": "LlUtkycCQCOH"
   },
   "outputs": [],
   "source": [
    "%matplotlib inline"
   ]
  },
  {
   "cell_type": "code",
   "execution_count": 8,
   "metadata": {
    "colab": {
     "base_uri": "https://localhost:8080/",
     "height": 283
    },
    "colab_type": "code",
    "id": "0byODb_GQCOL",
    "outputId": "3f9e0d6d-4009-4973-8dfd-d5e2fe5eb40a",
    "scrolled": true
   },
   "outputs": [
    {
     "data": {
      "image/png": "[encoded data removed]",
      "text/plain": [
       "<Figure size 432x288 with 1 Axes>"
      ]
     },
     "metadata": {
      "needs_background": "light"
     },
     "output_type": "display_data"
    }
   ],
   "source": [
    "plt.plot(df['label'].value_counts().sort_index())\n",
    "plt.xlabel('pH values')\n",
    "plt.ylabel('Value Count')\n",
    "plt.show()"
   ]
  },
  {
   "cell_type": "code",
   "execution_count": 9,
   "metadata": {
    "colab": {
     "base_uri": "https://localhost:8080/",
     "height": 1000
    },
    "colab_type": "code",
    "id": "xLQE5vZuQCOO",
    "outputId": "b4386711-3085-4404-9f25-7d4756eca952"
   },
   "outputs": [
    {
     "data": {
      "text/html": [
       "<div>\n",
       "<style scoped>\n",
       "    .dataframe tbody tr th:only-of-type {\n",
       "        vertical-align: middle;\n",
       "    }\n",
       "\n",
       "    .dataframe tbody tr th {\n",
       "        vertical-align: top;\n",
       "    }\n",
       "\n",
       "    .dataframe thead th {\n",
       "        text-align: right;\n",
       "    }\n",
       "</style>\n",
       "<table border=\"1\" class=\"dataframe\">\n",
       "  <thead>\n",
       "    <tr style=\"text-align: right;\">\n",
       "      <th></th>\n",
       "      <th>blue</th>\n",
       "      <th>green</th>\n",
       "      <th>red</th>\n",
       "      <th>label</th>\n",
       "    </tr>\n",
       "  </thead>\n",
       "  <tbody>\n",
       "    <tr>\n",
       "      <td>0</td>\n",
       "      <td>36</td>\n",
       "      <td>27</td>\n",
       "      <td>231</td>\n",
       "      <td>0</td>\n",
       "    </tr>\n",
       "    <tr>\n",
       "      <td>1</td>\n",
       "      <td>36</td>\n",
       "      <td>84</td>\n",
       "      <td>250</td>\n",
       "      <td>1</td>\n",
       "    </tr>\n",
       "    <tr>\n",
       "      <td>2</td>\n",
       "      <td>37</td>\n",
       "      <td>164</td>\n",
       "      <td>255</td>\n",
       "      <td>2</td>\n",
       "    </tr>\n",
       "    <tr>\n",
       "      <td>3</td>\n",
       "      <td>22</td>\n",
       "      <td>205</td>\n",
       "      <td>255</td>\n",
       "      <td>3</td>\n",
       "    </tr>\n",
       "    <tr>\n",
       "      <td>4</td>\n",
       "      <td>38</td>\n",
       "      <td>223</td>\n",
       "      <td>221</td>\n",
       "      <td>4</td>\n",
       "    </tr>\n",
       "    <tr>\n",
       "      <td>...</td>\n",
       "      <td>...</td>\n",
       "      <td>...</td>\n",
       "      <td>...</td>\n",
       "      <td>...</td>\n",
       "    </tr>\n",
       "    <tr>\n",
       "      <td>648</td>\n",
       "      <td>201</td>\n",
       "      <td>123</td>\n",
       "      <td>0</td>\n",
       "      <td>10</td>\n",
       "    </tr>\n",
       "    <tr>\n",
       "      <td>649</td>\n",
       "      <td>203</td>\n",
       "      <td>51</td>\n",
       "      <td>46</td>\n",
       "      <td>11</td>\n",
       "    </tr>\n",
       "    <tr>\n",
       "      <td>650</td>\n",
       "      <td>169</td>\n",
       "      <td>62</td>\n",
       "      <td>48</td>\n",
       "      <td>12</td>\n",
       "    </tr>\n",
       "    <tr>\n",
       "      <td>651</td>\n",
       "      <td>173</td>\n",
       "      <td>37</td>\n",
       "      <td>79</td>\n",
       "      <td>13</td>\n",
       "    </tr>\n",
       "    <tr>\n",
       "      <td>652</td>\n",
       "      <td>131</td>\n",
       "      <td>2</td>\n",
       "      <td>77</td>\n",
       "      <td>14</td>\n",
       "    </tr>\n",
       "  </tbody>\n",
       "</table>\n",
       "<p>653 rows × 4 columns</p>\n",
       "</div>"
      ],
      "text/plain": [
       "     blue  green  red  label\n",
       "0      36     27  231      0\n",
       "1      36     84  250      1\n",
       "2      37    164  255      2\n",
       "3      22    205  255      3\n",
       "4      38    223  221      4\n",
       "..    ...    ...  ...    ...\n",
       "648   201    123    0     10\n",
       "649   203     51   46     11\n",
       "650   169     62   48     12\n",
       "651   173     37   79     13\n",
       "652   131      2   77     14\n",
       "\n",
       "[653 rows x 4 columns]"
      ]
     },
     "execution_count": 9,
     "metadata": {},
     "output_type": "execute_result"
    }
   ],
   "source": [
    "df"
   ]
  },
  {
   "cell_type": "code",
   "execution_count": 10,
   "metadata": {
    "colab": {},
    "colab_type": "code",
    "id": "JeROFo9bQCOR"
   },
   "outputs": [],
   "source": [
    "# Find duplicate values and NA in data"
   ]
  },
  {
   "cell_type": "code",
   "execution_count": 11,
   "metadata": {
    "colab": {},
    "colab_type": "code",
    "id": "xlNukzDiQCOW"
   },
   "outputs": [],
   "source": [
    "duplicate_rows = df[df.duplicated()]"
   ]
  },
  {
   "cell_type": "code",
   "execution_count": 12,
   "metadata": {
    "colab": {},
    "colab_type": "code",
    "id": "GpwOGwO0QCOa"
   },
   "outputs": [],
   "source": [
    "null_rows = df[df.isna()]"
   ]
  },
  {
   "cell_type": "code",
   "execution_count": 13,
   "metadata": {
    "colab": {},
    "colab_type": "code",
    "id": "dZYymhoMQCOd"
   },
   "outputs": [],
   "source": [
    "df.loc[df['label'] < 7, 'Nature'] = 'Acidic'"
   ]
  },
  {
   "cell_type": "code",
   "execution_count": 14,
   "metadata": {
    "colab": {},
    "colab_type": "code",
    "id": "ktzu3o3pQCOg"
   },
   "outputs": [],
   "source": [
    "df.loc[df['label'] == 7, 'Nature'] = 'Neutral'"
   ]
  },
  {
   "cell_type": "code",
   "execution_count": 15,
   "metadata": {
    "colab": {},
    "colab_type": "code",
    "id": "h69rmRm1QCOj"
   },
   "outputs": [],
   "source": [
    "df.loc[df['label'] > 7, 'Nature'] = 'Basic'"
   ]
  },
  {
   "cell_type": "code",
   "execution_count": 16,
   "metadata": {
    "colab": {
     "base_uri": "https://localhost:8080/",
     "height": 85
    },
    "colab_type": "code",
    "id": "TGVvcQPLQCOm",
    "outputId": "5a12c78f-6743-493d-acdb-59218b025b82"
   },
   "outputs": [
    {
     "data": {
      "text/plain": [
       "Basic      307\n",
       "Acidic     302\n",
       "Neutral     44\n",
       "Name: Nature, dtype: int64"
      ]
     },
     "execution_count": 16,
     "metadata": {},
     "output_type": "execute_result"
    }
   ],
   "source": [
    "df['Nature'].value_counts()\n",
    "# Nature Column gives info about the nature of the sample."
   ]
  },
  {
   "cell_type": "code",
   "execution_count": 17,
   "metadata": {
    "colab": {},
    "colab_type": "code",
    "id": "z-ojqodnQCOq"
   },
   "outputs": [],
   "source": [
    "df_Nature = df.groupby('Nature')"
   ]
  },
  {
   "cell_type": "code",
   "execution_count": 18,
   "metadata": {
    "colab": {
     "base_uri": "https://localhost:8080/",
     "height": 514
    },
    "colab_type": "code",
    "id": "mUxZtparQCOt",
    "outputId": "ce836676-6dc5-402a-a405-a907dcb890c8"
   },
   "outputs": [
    {
     "data": {
      "text/html": [
       "<div>\n",
       "<style scoped>\n",
       "    .dataframe tbody tr th:only-of-type {\n",
       "        vertical-align: middle;\n",
       "    }\n",
       "\n",
       "    .dataframe tbody tr th {\n",
       "        vertical-align: top;\n",
       "    }\n",
       "\n",
       "    .dataframe thead th {\n",
       "        text-align: right;\n",
       "    }\n",
       "</style>\n",
       "<table border=\"1\" class=\"dataframe\">\n",
       "  <thead>\n",
       "    <tr style=\"text-align: right;\">\n",
       "      <th></th>\n",
       "      <th>blue</th>\n",
       "      <th>green</th>\n",
       "      <th>red</th>\n",
       "      <th>label</th>\n",
       "      <th>Nature</th>\n",
       "    </tr>\n",
       "  </thead>\n",
       "  <tbody>\n",
       "    <tr>\n",
       "      <td>0</td>\n",
       "      <td>36</td>\n",
       "      <td>27</td>\n",
       "      <td>231</td>\n",
       "      <td>0</td>\n",
       "      <td>Acidic</td>\n",
       "    </tr>\n",
       "    <tr>\n",
       "      <td>1</td>\n",
       "      <td>36</td>\n",
       "      <td>84</td>\n",
       "      <td>250</td>\n",
       "      <td>1</td>\n",
       "      <td>Acidic</td>\n",
       "    </tr>\n",
       "    <tr>\n",
       "      <td>2</td>\n",
       "      <td>37</td>\n",
       "      <td>164</td>\n",
       "      <td>255</td>\n",
       "      <td>2</td>\n",
       "      <td>Acidic</td>\n",
       "    </tr>\n",
       "    <tr>\n",
       "      <td>3</td>\n",
       "      <td>22</td>\n",
       "      <td>205</td>\n",
       "      <td>255</td>\n",
       "      <td>3</td>\n",
       "      <td>Acidic</td>\n",
       "    </tr>\n",
       "    <tr>\n",
       "      <td>4</td>\n",
       "      <td>38</td>\n",
       "      <td>223</td>\n",
       "      <td>221</td>\n",
       "      <td>4</td>\n",
       "      <td>Acidic</td>\n",
       "    </tr>\n",
       "    <tr>\n",
       "      <td>7</td>\n",
       "      <td>13</td>\n",
       "      <td>156</td>\n",
       "      <td>0</td>\n",
       "      <td>7</td>\n",
       "      <td>Neutral</td>\n",
       "    </tr>\n",
       "    <tr>\n",
       "      <td>8</td>\n",
       "      <td>92</td>\n",
       "      <td>166</td>\n",
       "      <td>0</td>\n",
       "      <td>8</td>\n",
       "      <td>Basic</td>\n",
       "    </tr>\n",
       "    <tr>\n",
       "      <td>9</td>\n",
       "      <td>184</td>\n",
       "      <td>191</td>\n",
       "      <td>0</td>\n",
       "      <td>9</td>\n",
       "      <td>Basic</td>\n",
       "    </tr>\n",
       "    <tr>\n",
       "      <td>10</td>\n",
       "      <td>200</td>\n",
       "      <td>136</td>\n",
       "      <td>1</td>\n",
       "      <td>10</td>\n",
       "      <td>Basic</td>\n",
       "    </tr>\n",
       "    <tr>\n",
       "      <td>11</td>\n",
       "      <td>198</td>\n",
       "      <td>76</td>\n",
       "      <td>0</td>\n",
       "      <td>11</td>\n",
       "      <td>Basic</td>\n",
       "    </tr>\n",
       "    <tr>\n",
       "      <td>12</td>\n",
       "      <td>180</td>\n",
       "      <td>38</td>\n",
       "      <td>51</td>\n",
       "      <td>12</td>\n",
       "      <td>Basic</td>\n",
       "    </tr>\n",
       "    <tr>\n",
       "      <td>22</td>\n",
       "      <td>75</td>\n",
       "      <td>169</td>\n",
       "      <td>51</td>\n",
       "      <td>7</td>\n",
       "      <td>Neutral</td>\n",
       "    </tr>\n",
       "    <tr>\n",
       "      <td>37</td>\n",
       "      <td>73</td>\n",
       "      <td>170</td>\n",
       "      <td>52</td>\n",
       "      <td>7</td>\n",
       "      <td>Neutral</td>\n",
       "    </tr>\n",
       "    <tr>\n",
       "      <td>52</td>\n",
       "      <td>73</td>\n",
       "      <td>169</td>\n",
       "      <td>51</td>\n",
       "      <td>7</td>\n",
       "      <td>Neutral</td>\n",
       "    </tr>\n",
       "    <tr>\n",
       "      <td>67</td>\n",
       "      <td>0</td>\n",
       "      <td>153</td>\n",
       "      <td>0</td>\n",
       "      <td>7</td>\n",
       "      <td>Neutral</td>\n",
       "    </tr>\n",
       "  </tbody>\n",
       "</table>\n",
       "</div>"
      ],
      "text/plain": [
       "    blue  green  red  label   Nature\n",
       "0     36     27  231      0   Acidic\n",
       "1     36     84  250      1   Acidic\n",
       "2     37    164  255      2   Acidic\n",
       "3     22    205  255      3   Acidic\n",
       "4     38    223  221      4   Acidic\n",
       "7     13    156    0      7  Neutral\n",
       "8     92    166    0      8    Basic\n",
       "9    184    191    0      9    Basic\n",
       "10   200    136    1     10    Basic\n",
       "11   198     76    0     11    Basic\n",
       "12   180     38   51     12    Basic\n",
       "22    75    169   51      7  Neutral\n",
       "37    73    170   52      7  Neutral\n",
       "52    73    169   51      7  Neutral\n",
       "67     0    153    0      7  Neutral"
      ]
     },
     "execution_count": 18,
     "metadata": {},
     "output_type": "execute_result"
    }
   ],
   "source": [
    "df_Nature.head()"
   ]
  },
  {
   "cell_type": "code",
   "execution_count": 19,
   "metadata": {
    "colab": {},
    "colab_type": "code",
    "id": "u0nS5WdKQCOw"
   },
   "outputs": [],
   "source": [
    "# Training our data"
   ]
  },
  {
   "cell_type": "code",
   "execution_count": 20,
   "metadata": {
    "colab": {
     "base_uri": "https://localhost:8080/",
     "height": 204
    },
    "colab_type": "code",
    "id": "0FdrLgoRQCOz",
    "outputId": "2bb7e279-990c-44de-9049-a7031b35585b"
   },
   "outputs": [
    {
     "data": {
      "text/html": [
       "<div>\n",
       "<style scoped>\n",
       "    .dataframe tbody tr th:only-of-type {\n",
       "        vertical-align: middle;\n",
       "    }\n",
       "\n",
       "    .dataframe tbody tr th {\n",
       "        vertical-align: top;\n",
       "    }\n",
       "\n",
       "    .dataframe thead th {\n",
       "        text-align: right;\n",
       "    }\n",
       "</style>\n",
       "<table border=\"1\" class=\"dataframe\">\n",
       "  <thead>\n",
       "    <tr style=\"text-align: right;\">\n",
       "      <th></th>\n",
       "      <th>blue</th>\n",
       "      <th>green</th>\n",
       "      <th>red</th>\n",
       "      <th>label</th>\n",
       "      <th>Nature</th>\n",
       "    </tr>\n",
       "  </thead>\n",
       "  <tbody>\n",
       "    <tr>\n",
       "      <td>0</td>\n",
       "      <td>36</td>\n",
       "      <td>27</td>\n",
       "      <td>231</td>\n",
       "      <td>0</td>\n",
       "      <td>Acidic</td>\n",
       "    </tr>\n",
       "    <tr>\n",
       "      <td>1</td>\n",
       "      <td>36</td>\n",
       "      <td>84</td>\n",
       "      <td>250</td>\n",
       "      <td>1</td>\n",
       "      <td>Acidic</td>\n",
       "    </tr>\n",
       "    <tr>\n",
       "      <td>2</td>\n",
       "      <td>37</td>\n",
       "      <td>164</td>\n",
       "      <td>255</td>\n",
       "      <td>2</td>\n",
       "      <td>Acidic</td>\n",
       "    </tr>\n",
       "    <tr>\n",
       "      <td>3</td>\n",
       "      <td>22</td>\n",
       "      <td>205</td>\n",
       "      <td>255</td>\n",
       "      <td>3</td>\n",
       "      <td>Acidic</td>\n",
       "    </tr>\n",
       "    <tr>\n",
       "      <td>4</td>\n",
       "      <td>38</td>\n",
       "      <td>223</td>\n",
       "      <td>221</td>\n",
       "      <td>4</td>\n",
       "      <td>Acidic</td>\n",
       "    </tr>\n",
       "  </tbody>\n",
       "</table>\n",
       "</div>"
      ],
      "text/plain": [
       "   blue  green  red  label  Nature\n",
       "0    36     27  231      0  Acidic\n",
       "1    36     84  250      1  Acidic\n",
       "2    37    164  255      2  Acidic\n",
       "3    22    205  255      3  Acidic\n",
       "4    38    223  221      4  Acidic"
      ]
     },
     "execution_count": 20,
     "metadata": {},
     "output_type": "execute_result"
    }
   ],
   "source": [
    "df.head()"
   ]
  },
  {
   "cell_type": "code",
   "execution_count": 21,
   "metadata": {
    "colab": {},
    "colab_type": "code",
    "id": "I2J6_MEUQCO4"
   },
   "outputs": [],
   "source": [
    "import seaborn as sns"
   ]
  },
  {
   "cell_type": "code",
   "execution_count": 22,
   "metadata": {
    "colab": {
     "base_uri": "https://localhost:8080/",
     "height": 766
    },
    "colab_type": "code",
    "id": "KdgMUww9QCO9",
    "outputId": "117e039f-abfd-4074-fb6d-76419d7073d6"
   },
   "outputs": [
    {
     "data": {
      "text/plain": [
       "<seaborn.axisgrid.PairGrid at 0x7fa68075fb38>"
      ]
     },
     "execution_count": 22,
     "metadata": {},
     "output_type": "execute_result"
    },
    {
     "data": {
      "image/png": "[encoded data removed]",
      "text/plain": [
       "<Figure size 720x720 with 20 Axes>"
      ]
     },
     "metadata": {
      "needs_background": "light"
     },
     "output_type": "display_data"
    }
   ],
   "source": [
    "sns.pairplot(df)"
   ]
  },
  {
   "cell_type": "code",
   "execution_count": 23,
   "metadata": {
    "colab": {
     "base_uri": "https://localhost:8080/",
     "height": 300
    },
    "colab_type": "code",
    "id": "LdKmL00aQCPD",
    "outputId": "b32e94ba-996e-44eb-f960-fcc84cde1d18"
   },
   "outputs": [
    {
     "data": {
      "text/plain": [
       "<matplotlib.axes._subplots.AxesSubplot at 0x7fa689359eb8>"
      ]
     },
     "execution_count": 23,
     "metadata": {},
     "output_type": "execute_result"
    },
    {
     "data": {
      "image/png": "[encoded data removed]",
      "text/plain": [
       "<Figure size 432x288 with 1 Axes>"
      ]
     },
     "metadata": {
      "needs_background": "light"
     },
     "output_type": "display_data"
    }
   ],
   "source": [
    "sns.distplot(df['label'])"
   ]
  },
  {
   "cell_type": "code",
   "execution_count": 24,
   "metadata": {
    "colab": {
     "base_uri": "https://localhost:8080/",
     "height": 286
    },
    "colab_type": "code",
    "id": "e0LWQzJhQCPG",
    "outputId": "e71e0fb3-9d44-4bc2-ca0e-e440ee0f7725"
   },
   "outputs": [
    {
     "data": {
      "text/plain": [
       "<matplotlib.axes._subplots.AxesSubplot at 0x7fa67dd55198>"
      ]
     },
     "execution_count": 24,
     "metadata": {},
     "output_type": "execute_result"
    },
    {
     "data": {
      "image/png": "[encoded data removed]",
      "text/plain": [
       "<Figure size 432x288 with 2 Axes>"
      ]
     },
     "metadata": {
      "needs_background": "light"
     },
     "output_type": "display_data"
    }
   ],
   "source": [
    "sns.heatmap(df.corr())\n",
    "# No positive correlation can be observed bwetween 2 columns\n",
    "# But interestingly we can see high negative correlation between red-blue \n",
    "# columns."
   ]
  },
  {
   "cell_type": "code",
   "execution_count": 25,
   "metadata": {
    "colab": {},
    "colab_type": "code",
    "id": "jir7d9QRQCPJ"
   },
   "outputs": [],
   "source": [
    "# Splitting into train and test test"
   ]
  },
  {
   "cell_type": "code",
   "execution_count": 26,
   "metadata": {
    "colab": {
     "base_uri": "https://localhost:8080/",
     "height": 34
    },
    "colab_type": "code",
    "id": "CEWgZmxEQCPN",
    "outputId": "2236200f-4721-4b5b-db55-8cac3a07b91c"
   },
   "outputs": [
    {
     "data": {
      "text/plain": [
       "Index(['blue', 'green', 'red', 'label', 'Nature'], dtype='object')"
      ]
     },
     "execution_count": 26,
     "metadata": {},
     "output_type": "execute_result"
    }
   ],
   "source": [
    "df.columns"
   ]
  },
  {
   "cell_type": "code",
   "execution_count": 27,
   "metadata": {
    "colab": {},
    "colab_type": "code",
    "id": "igsZVnQKQCPQ"
   },
   "outputs": [],
   "source": [
    "X = df[['blue', 'green', 'red']]"
   ]
  },
  {
   "cell_type": "code",
   "execution_count": 28,
   "metadata": {
    "colab": {},
    "colab_type": "code",
    "id": "I8DBOwN7QCPT"
   },
   "outputs": [],
   "source": [
    "y = df['label']"
   ]
  },
  {
   "cell_type": "code",
   "execution_count": 29,
   "metadata": {
    "colab": {},
    "colab_type": "code",
    "id": "stYO32HQQCPV"
   },
   "outputs": [],
   "source": [
    "from sklearn.model_selection import train_test_split"
   ]
  },
  {
   "cell_type": "code",
   "execution_count": 30,
   "metadata": {
    "colab": {},
    "colab_type": "code",
    "id": "SG52SvknQCPY"
   },
   "outputs": [],
   "source": [
    "X_train, X_test, y_train, y_test = train_test_split(X,y,test_size=0.25, random_state=10)"
   ]
  },
  {
   "cell_type": "code",
   "execution_count": 31,
   "metadata": {
    "colab": {},
    "colab_type": "code",
    "id": "0e84dxMCQCPb"
   },
   "outputs": [],
   "source": [
    "from sklearn.linear_model import LinearRegression"
   ]
  },
  {
   "cell_type": "code",
   "execution_count": 32,
   "metadata": {
    "colab": {},
    "colab_type": "code",
    "id": "DUOS4MQiQCPd"
   },
   "outputs": [],
   "source": [
    "lm = LinearRegression()"
   ]
  },
  {
   "cell_type": "code",
   "execution_count": 33,
   "metadata": {
    "colab": {
     "base_uri": "https://localhost:8080/",
     "height": 54
    },
    "colab_type": "code",
    "id": "Faek_E3YQCPh",
    "outputId": "c2042b77-30cf-4471-fdf9-f718d890fba8"
   },
   "outputs": [
    {
     "data": {
      "text/plain": [
       "LinearRegression(copy_X=True, fit_intercept=True, n_jobs=None, normalize=False)"
      ]
     },
     "execution_count": 33,
     "metadata": {},
     "output_type": "execute_result"
    }
   ],
   "source": [
    "lm.fit(X_train, y_train)"
   ]
  },
  {
   "cell_type": "code",
   "execution_count": 34,
   "metadata": {
    "colab": {
     "base_uri": "https://localhost:8080/",
     "height": 34
    },
    "colab_type": "code",
    "id": "ERS2C81CQCPk",
    "outputId": "3287a3c6-175c-4a39-e797-3cf1e6c683be"
   },
   "outputs": [
    {
     "data": {
      "text/plain": [
       "7.972687221289089"
      ]
     },
     "execution_count": 34,
     "metadata": {},
     "output_type": "execute_result"
    }
   ],
   "source": [
    "lm.intercept_"
   ]
  },
  {
   "cell_type": "code",
   "execution_count": 35,
   "metadata": {
    "colab": {
     "base_uri": "https://localhost:8080/",
     "height": 34
    },
    "colab_type": "code",
    "id": "HMzb7LJ1QCPp",
    "outputId": "9afe0c64-1168-43fc-842e-cb81bc39c976"
   },
   "outputs": [
    {
     "data": {
      "text/plain": [
       "array([ 0.0258191 , -0.004937  , -0.02186446])"
      ]
     },
     "execution_count": 35,
     "metadata": {},
     "output_type": "execute_result"
    }
   ],
   "source": [
    "lm.coef_"
   ]
  },
  {
   "cell_type": "code",
   "execution_count": 36,
   "metadata": {
    "colab": {},
    "colab_type": "code",
    "id": "E9sFSd52QCPr"
   },
   "outputs": [],
   "source": [
    "cdf = pd.DataFrame(lm.coef_, X.columns, columns=['Coefficients'])"
   ]
  },
  {
   "cell_type": "code",
   "execution_count": 37,
   "metadata": {
    "colab": {
     "base_uri": "https://localhost:8080/",
     "height": 142
    },
    "colab_type": "code",
    "id": "9Pnz5mK6QCPu",
    "outputId": "fda21813-4732-4266-c5fb-b7aebe0bd24d"
   },
   "outputs": [
    {
     "data": {
      "text/html": [
       "<div>\n",
       "<style scoped>\n",
       "    .dataframe tbody tr th:only-of-type {\n",
       "        vertical-align: middle;\n",
       "    }\n",
       "\n",
       "    .dataframe tbody tr th {\n",
       "        vertical-align: top;\n",
       "    }\n",
       "\n",
       "    .dataframe thead th {\n",
       "        text-align: right;\n",
       "    }\n",
       "</style>\n",
       "<table border=\"1\" class=\"dataframe\">\n",
       "  <thead>\n",
       "    <tr style=\"text-align: right;\">\n",
       "      <th></th>\n",
       "      <th>Coefficients</th>\n",
       "    </tr>\n",
       "  </thead>\n",
       "  <tbody>\n",
       "    <tr>\n",
       "      <td>blue</td>\n",
       "      <td>0.025819</td>\n",
       "    </tr>\n",
       "    <tr>\n",
       "      <td>green</td>\n",
       "      <td>-0.004937</td>\n",
       "    </tr>\n",
       "    <tr>\n",
       "      <td>red</td>\n",
       "      <td>-0.021864</td>\n",
       "    </tr>\n",
       "  </tbody>\n",
       "</table>\n",
       "</div>"
      ],
      "text/plain": [
       "       Coefficients\n",
       "blue       0.025819\n",
       "green     -0.004937\n",
       "red       -0.021864"
      ]
     },
     "execution_count": 37,
     "metadata": {},
     "output_type": "execute_result"
    }
   ],
   "source": [
    "cdf.head()"
   ]
  },
  {
   "cell_type": "markdown",
   "metadata": {
    "colab_type": "text",
    "id": "vi8MJEiOQCPx"
   },
   "source": [
    "Predictions"
   ]
  },
  {
   "cell_type": "code",
   "execution_count": 38,
   "metadata": {
    "colab": {},
    "colab_type": "code",
    "id": "BoD2yLtiQCPy"
   },
   "outputs": [],
   "source": [
    "pred_LinearReg = lm.predict(X_test)"
   ]
  },
  {
   "cell_type": "code",
   "execution_count": 39,
   "metadata": {
    "colab": {
     "base_uri": "https://localhost:8080/",
     "height": 286
    },
    "colab_type": "code",
    "id": "1m7d-pIhQCP1",
    "outputId": "d40a6194-02d1-46a6-dd8b-10f15c2e8935"
   },
   "outputs": [
    {
     "data": {
      "text/plain": [
       "<matplotlib.collections.PathCollection at 0x7fa6766a3780>"
      ]
     },
     "execution_count": 39,
     "metadata": {},
     "output_type": "execute_result"
    },
    {
     "data": {
      "image/png": "[encoded data removed]",
      "text/plain": [
       "<Figure size 432x288 with 1 Axes>"
      ]
     },
     "metadata": {
      "needs_background": "light"
     },
     "output_type": "display_data"
    }
   ],
   "source": [
    "plt.scatter(y_test, pred_LinearReg)"
   ]
  },
  {
   "cell_type": "markdown",
   "metadata": {
    "colab_type": "text",
    "id": "XTNmxltTQCP4"
   },
   "source": [
    "Thus our predictions are quite far from the actual values"
   ]
  },
  {
   "cell_type": "code",
   "execution_count": 40,
   "metadata": {
    "colab": {
     "base_uri": "https://localhost:8080/",
     "height": 598
    },
    "colab_type": "code",
    "id": "1NcIRc-6QCP5",
    "outputId": "0a5aeb03-935d-4a20-9106-1e1c68a9d58e"
   },
   "outputs": [
    {
     "data": {
      "text/plain": [
       "array([ 7.95967966,  1.29771303,  9.58734594,  3.25775227,  2.54288997,\n",
       "        7.29341622,  7.21498137,  9.89589627,  9.52105127,  3.57317101,\n",
       "        9.85413207,  7.90804147,  1.21237168,  9.24602715,  1.32451449,\n",
       "        9.40980186,  6.72713775,  9.41444543, 11.75410858,  9.45499989,\n",
       "        1.16413582,  5.80210584,  3.53815727, 11.31743126,  7.18178538,\n",
       "        9.1032795 ,  9.52105127, 10.10750878,  7.75917279, 13.7271411 ,\n",
       "        5.80210584,  4.29028821,  2.0574497 , 11.29842162, 11.02416232,\n",
       "        2.57712072,  9.52105127, 12.70965636,  1.17894681,  8.99975328,\n",
       "       11.56163808,  2.8197243 ,  9.78768289,  3.1024656 ,  1.18768669,\n",
       "        5.04987262,  1.41408878,  4.1778976 ,  7.92310555, 10.93174229,\n",
       "        2.04245745,  1.58378055,  2.14546407, 11.87230587,  9.1032795 ,\n",
       "        2.1687619 ,  5.42228196,  1.41408878,  3.65554971,  2.43506047,\n",
       "        2.07750169,  7.53816396, 12.34753968, 12.5550748 ,  9.78768289,\n",
       "        5.19257314, 11.76335518,  3.0626157 ,  1.94729302,  3.11810395,\n",
       "        9.49182709,  7.78366165, 11.06389851,  3.1024656 ,  7.20979128,\n",
       "        7.95967966,  9.92171536,  9.64717446,  4.60556098,  9.67369812,\n",
       "       10.5887837 , 11.82850083,  2.99690008,  7.60256751,  3.07856081,\n",
       "       11.93930361, 11.19005979,  9.85413207,  7.27143001,  6.76086612,\n",
       "        3.95683202, 11.02416232,  9.54464926, 11.24169798,  4.50614274,\n",
       "        8.93894615,  3.3283363 ,  2.4648975 ,  1.66375486, 10.57185624,\n",
       "        5.82858386,  3.43501502,  5.41739214,  9.41444543,  9.78768289,\n",
       "        3.07504905,  9.85413207,  9.83139947,  5.72945901, 11.77945204,\n",
       "        9.02744055,  9.30877853,  7.90804147,  8.51081842,  1.58378484,\n",
       "       11.47867812,  4.60556098,  9.32194977,  9.54203041,  5.15267382,\n",
       "        7.27044765, 10.52942982,  5.5777698 ,  4.29127056,  5.27512392,\n",
       "       10.96308872,  4.29127056,  2.04245745, 12.06427502,  4.35449966,\n",
       "        3.01207788,  3.04296855, 12.82821083, 11.76350693, 12.34086964,\n",
       "       10.86845518,  3.29019478,  2.1687619 , 11.74050837,  4.83614459,\n",
       "        5.05033262, 11.44934726, 10.5887837 ,  3.21363464,  1.52904782,\n",
       "        3.81230141,  3.49191617, 11.02416232, 11.92696346, 10.25715764,\n",
       "        9.30877853,  9.59243745,  7.96221809,  3.68163748,  3.42171348,\n",
       "        9.41444543, 11.72766209,  3.83798587, 12.24677123,  5.5777698 ,\n",
       "       10.6731427 ,  3.00604052, 11.9233585 ,  9.54203041])"
      ]
     },
     "execution_count": 40,
     "metadata": {},
     "output_type": "execute_result"
    }
   ],
   "source": [
    "pred_LinearReg"
   ]
  },
  {
   "cell_type": "code",
   "execution_count": 41,
   "metadata": {
    "colab": {
     "base_uri": "https://localhost:8080/",
     "height": 300
    },
    "colab_type": "code",
    "id": "T5U0qN3tQCP8",
    "outputId": "0899758b-8253-4b9a-dc34-6c1573f6c939"
   },
   "outputs": [
    {
     "data": {
      "text/plain": [
       "<matplotlib.axes._subplots.AxesSubplot at 0x7fa6765eb5f8>"
      ]
     },
     "execution_count": 41,
     "metadata": {},
     "output_type": "execute_result"
    },
    {
     "data": {
      "image/png": "[encoded data removed]",
      "text/plain": [
       "<Figure size 432x288 with 1 Axes>"
      ]
     },
     "metadata": {
      "needs_background": "light"
     },
     "output_type": "display_data"
    }
   ],
   "source": [
    "sns.distplot((y_test-pred_LinearReg), label=\"Distribution plot of residuals\")"
   ]
  },
  {
   "cell_type": "code",
   "execution_count": 42,
   "metadata": {
    "colab": {},
    "colab_type": "code",
    "id": "-wbU4S0LQCP-"
   },
   "outputs": [],
   "source": [
    "# It vaguely resembles normal dist plot but is still quite far"
   ]
  },
  {
   "cell_type": "markdown",
   "metadata": {
    "colab_type": "text",
    "id": "ajyEKIX_QCQA"
   },
   "source": [
    "Evaluation Matrics"
   ]
  },
  {
   "cell_type": "code",
   "execution_count": 43,
   "metadata": {
    "colab": {},
    "colab_type": "code",
    "id": "3jPAaCkrQCQB"
   },
   "outputs": [],
   "source": [
    "from sklearn import metrics"
   ]
  },
  {
   "cell_type": "code",
   "execution_count": 44,
   "metadata": {
    "colab": {
     "base_uri": "https://localhost:8080/",
     "height": 34
    },
    "colab_type": "code",
    "id": "F05rDm7rQCQG",
    "outputId": "acea3c51-c575-4c23-d0ac-1aa66820648c"
   },
   "outputs": [
    {
     "data": {
      "text/plain": [
       "1.8821920059984991"
      ]
     },
     "execution_count": 44,
     "metadata": {},
     "output_type": "execute_result"
    }
   ],
   "source": [
    "metrics.mean_absolute_error(y_test, pred_LinearReg)"
   ]
  },
  {
   "cell_type": "code",
   "execution_count": 45,
   "metadata": {
    "colab": {
     "base_uri": "https://localhost:8080/",
     "height": 34
    },
    "colab_type": "code",
    "id": "MLO1etrlQCQK",
    "outputId": "d787f6a5-15da-4d22-c175-5c3a034d5585"
   },
   "outputs": [
    {
     "data": {
      "text/plain": [
       "5.560619639059021"
      ]
     },
     "execution_count": 45,
     "metadata": {},
     "output_type": "execute_result"
    }
   ],
   "source": [
    "metrics.mean_squared_error(y_test, pred_LinearReg)"
   ]
  },
  {
   "cell_type": "code",
   "execution_count": 46,
   "metadata": {
    "colab": {
     "base_uri": "https://localhost:8080/",
     "height": 34
    },
    "colab_type": "code",
    "id": "Ixy80h2-QCQP",
    "outputId": "4fea1ea9-dca3-4c37-bdde-85582b53587b"
   },
   "outputs": [
    {
     "data": {
      "text/plain": [
       "2.358096613597293"
      ]
     },
     "execution_count": 46,
     "metadata": {},
     "output_type": "execute_result"
    }
   ],
   "source": [
    "np.sqrt(metrics.mean_squared_error(y_test, pred_LinearReg))"
   ]
  },
  {
   "cell_type": "markdown",
   "metadata": {
    "colab_type": "text",
    "id": "6I2TprqoQCQV"
   },
   "source": [
    "\n",
    "Logistic Regression\n"
   ]
  },
  {
   "cell_type": "code",
   "execution_count": 47,
   "metadata": {
    "colab": {},
    "colab_type": "code",
    "id": "77YxAcfFQCQW"
   },
   "outputs": [],
   "source": [
    "# Used to predict discrete values only"
   ]
  },
  {
   "cell_type": "code",
   "execution_count": 48,
   "metadata": {
    "colab": {
     "base_uri": "https://localhost:8080/",
     "height": 1000
    },
    "colab_type": "code",
    "id": "TbSG-8ztQCQb",
    "outputId": "c058978d-a408-47de-fa14-7404402b3a66"
   },
   "outputs": [
    {
     "data": {
      "text/html": [
       "<div>\n",
       "<style scoped>\n",
       "    .dataframe tbody tr th:only-of-type {\n",
       "        vertical-align: middle;\n",
       "    }\n",
       "\n",
       "    .dataframe tbody tr th {\n",
       "        vertical-align: top;\n",
       "    }\n",
       "\n",
       "    .dataframe thead th {\n",
       "        text-align: right;\n",
       "    }\n",
       "</style>\n",
       "<table border=\"1\" class=\"dataframe\">\n",
       "  <thead>\n",
       "    <tr style=\"text-align: right;\">\n",
       "      <th></th>\n",
       "      <th>blue</th>\n",
       "      <th>green</th>\n",
       "      <th>red</th>\n",
       "      <th>label</th>\n",
       "      <th>Nature</th>\n",
       "    </tr>\n",
       "  </thead>\n",
       "  <tbody>\n",
       "    <tr>\n",
       "      <td>0</td>\n",
       "      <td>36</td>\n",
       "      <td>27</td>\n",
       "      <td>231</td>\n",
       "      <td>0</td>\n",
       "      <td>Acidic</td>\n",
       "    </tr>\n",
       "    <tr>\n",
       "      <td>1</td>\n",
       "      <td>36</td>\n",
       "      <td>84</td>\n",
       "      <td>250</td>\n",
       "      <td>1</td>\n",
       "      <td>Acidic</td>\n",
       "    </tr>\n",
       "    <tr>\n",
       "      <td>2</td>\n",
       "      <td>37</td>\n",
       "      <td>164</td>\n",
       "      <td>255</td>\n",
       "      <td>2</td>\n",
       "      <td>Acidic</td>\n",
       "    </tr>\n",
       "    <tr>\n",
       "      <td>3</td>\n",
       "      <td>22</td>\n",
       "      <td>205</td>\n",
       "      <td>255</td>\n",
       "      <td>3</td>\n",
       "      <td>Acidic</td>\n",
       "    </tr>\n",
       "    <tr>\n",
       "      <td>4</td>\n",
       "      <td>38</td>\n",
       "      <td>223</td>\n",
       "      <td>221</td>\n",
       "      <td>4</td>\n",
       "      <td>Acidic</td>\n",
       "    </tr>\n",
       "    <tr>\n",
       "      <td>...</td>\n",
       "      <td>...</td>\n",
       "      <td>...</td>\n",
       "      <td>...</td>\n",
       "      <td>...</td>\n",
       "      <td>...</td>\n",
       "    </tr>\n",
       "    <tr>\n",
       "      <td>648</td>\n",
       "      <td>201</td>\n",
       "      <td>123</td>\n",
       "      <td>0</td>\n",
       "      <td>10</td>\n",
       "      <td>Basic</td>\n",
       "    </tr>\n",
       "    <tr>\n",
       "      <td>649</td>\n",
       "      <td>203</td>\n",
       "      <td>51</td>\n",
       "      <td>46</td>\n",
       "      <td>11</td>\n",
       "      <td>Basic</td>\n",
       "    </tr>\n",
       "    <tr>\n",
       "      <td>650</td>\n",
       "      <td>169</td>\n",
       "      <td>62</td>\n",
       "      <td>48</td>\n",
       "      <td>12</td>\n",
       "      <td>Basic</td>\n",
       "    </tr>\n",
       "    <tr>\n",
       "      <td>651</td>\n",
       "      <td>173</td>\n",
       "      <td>37</td>\n",
       "      <td>79</td>\n",
       "      <td>13</td>\n",
       "      <td>Basic</td>\n",
       "    </tr>\n",
       "    <tr>\n",
       "      <td>652</td>\n",
       "      <td>131</td>\n",
       "      <td>2</td>\n",
       "      <td>77</td>\n",
       "      <td>14</td>\n",
       "      <td>Basic</td>\n",
       "    </tr>\n",
       "  </tbody>\n",
       "</table>\n",
       "<p>653 rows × 5 columns</p>\n",
       "</div>"
      ],
      "text/plain": [
       "     blue  green  red  label  Nature\n",
       "0      36     27  231      0  Acidic\n",
       "1      36     84  250      1  Acidic\n",
       "2      37    164  255      2  Acidic\n",
       "3      22    205  255      3  Acidic\n",
       "4      38    223  221      4  Acidic\n",
       "..    ...    ...  ...    ...     ...\n",
       "648   201    123    0     10   Basic\n",
       "649   203     51   46     11   Basic\n",
       "650   169     62   48     12   Basic\n",
       "651   173     37   79     13   Basic\n",
       "652   131      2   77     14   Basic\n",
       "\n",
       "[653 rows x 5 columns]"
      ]
     },
     "execution_count": 48,
     "metadata": {},
     "output_type": "execute_result"
    }
   ],
   "source": [
    "df"
   ]
  },
  {
   "cell_type": "code",
   "execution_count": 49,
   "metadata": {
    "colab": {
     "base_uri": "https://localhost:8080/",
     "height": 300
    },
    "colab_type": "code",
    "id": "EcNLMU7LQCQg",
    "outputId": "6fc48345-0e74-4b65-aa8b-2340be3e658a"
   },
   "outputs": [
    {
     "data": {
      "text/plain": [
       "<matplotlib.axes._subplots.AxesSubplot at 0x7fa6765cd2b0>"
      ]
     },
     "execution_count": 49,
     "metadata": {},
     "output_type": "execute_result"
    },
    {
     "data": {
      "image/png": "[encoded data removed]",
      "text/plain": [
       "<Figure size 432x288 with 1 Axes>"
      ]
     },
     "metadata": {
      "needs_background": "light"
     },
     "output_type": "display_data"
    }
   ],
   "source": [
    "sns.countplot(x='label', data=df)"
   ]
  },
  {
   "cell_type": "code",
   "execution_count": 50,
   "metadata": {
    "colab": {},
    "colab_type": "code",
    "id": "Ni3y0DPlQCQl"
   },
   "outputs": [],
   "source": [
    "# Deal with Nature Column as a dummy variable"
   ]
  },
  {
   "cell_type": "code",
   "execution_count": 51,
   "metadata": {
    "colab": {
     "base_uri": "https://localhost:8080/",
     "height": 1000
    },
    "colab_type": "code",
    "id": "ZH8LQg3SQCQo",
    "outputId": "f2b20224-2013-4db8-98fe-292be734f788"
   },
   "outputs": [
    {
     "data": {
      "text/html": [
       "<div>\n",
       "<style scoped>\n",
       "    .dataframe tbody tr th:only-of-type {\n",
       "        vertical-align: middle;\n",
       "    }\n",
       "\n",
       "    .dataframe tbody tr th {\n",
       "        vertical-align: top;\n",
       "    }\n",
       "\n",
       "    .dataframe thead th {\n",
       "        text-align: right;\n",
       "    }\n",
       "</style>\n",
       "<table border=\"1\" class=\"dataframe\">\n",
       "  <thead>\n",
       "    <tr style=\"text-align: right;\">\n",
       "      <th></th>\n",
       "      <th>Acidic</th>\n",
       "      <th>Basic</th>\n",
       "      <th>Neutral</th>\n",
       "    </tr>\n",
       "  </thead>\n",
       "  <tbody>\n",
       "    <tr>\n",
       "      <td>0</td>\n",
       "      <td>1</td>\n",
       "      <td>0</td>\n",
       "      <td>0</td>\n",
       "    </tr>\n",
       "    <tr>\n",
       "      <td>1</td>\n",
       "      <td>1</td>\n",
       "      <td>0</td>\n",
       "      <td>0</td>\n",
       "    </tr>\n",
       "    <tr>\n",
       "      <td>2</td>\n",
       "      <td>1</td>\n",
       "      <td>0</td>\n",
       "      <td>0</td>\n",
       "    </tr>\n",
       "    <tr>\n",
       "      <td>3</td>\n",
       "      <td>1</td>\n",
       "      <td>0</td>\n",
       "      <td>0</td>\n",
       "    </tr>\n",
       "    <tr>\n",
       "      <td>4</td>\n",
       "      <td>1</td>\n",
       "      <td>0</td>\n",
       "      <td>0</td>\n",
       "    </tr>\n",
       "    <tr>\n",
       "      <td>...</td>\n",
       "      <td>...</td>\n",
       "      <td>...</td>\n",
       "      <td>...</td>\n",
       "    </tr>\n",
       "    <tr>\n",
       "      <td>648</td>\n",
       "      <td>0</td>\n",
       "      <td>1</td>\n",
       "      <td>0</td>\n",
       "    </tr>\n",
       "    <tr>\n",
       "      <td>649</td>\n",
       "      <td>0</td>\n",
       "      <td>1</td>\n",
       "      <td>0</td>\n",
       "    </tr>\n",
       "    <tr>\n",
       "      <td>650</td>\n",
       "      <td>0</td>\n",
       "      <td>1</td>\n",
       "      <td>0</td>\n",
       "    </tr>\n",
       "    <tr>\n",
       "      <td>651</td>\n",
       "      <td>0</td>\n",
       "      <td>1</td>\n",
       "      <td>0</td>\n",
       "    </tr>\n",
       "    <tr>\n",
       "      <td>652</td>\n",
       "      <td>0</td>\n",
       "      <td>1</td>\n",
       "      <td>0</td>\n",
       "    </tr>\n",
       "  </tbody>\n",
       "</table>\n",
       "<p>653 rows × 3 columns</p>\n",
       "</div>"
      ],
      "text/plain": [
       "     Acidic  Basic  Neutral\n",
       "0         1      0        0\n",
       "1         1      0        0\n",
       "2         1      0        0\n",
       "3         1      0        0\n",
       "4         1      0        0\n",
       "..      ...    ...      ...\n",
       "648       0      1        0\n",
       "649       0      1        0\n",
       "650       0      1        0\n",
       "651       0      1        0\n",
       "652       0      1        0\n",
       "\n",
       "[653 rows x 3 columns]"
      ]
     },
     "execution_count": 51,
     "metadata": {},
     "output_type": "execute_result"
    }
   ],
   "source": [
    "pd.get_dummies(df['Nature'])"
   ]
  },
  {
   "cell_type": "code",
   "execution_count": 52,
   "metadata": {
    "colab": {},
    "colab_type": "code",
    "id": "lE5IXWieQCQr"
   },
   "outputs": [],
   "source": [
    "# Use OHE to work on categorical data(WIP)"
   ]
  },
  {
   "cell_type": "code",
   "execution_count": 53,
   "metadata": {
    "colab": {},
    "colab_type": "code",
    "id": "wmoWkrsTQCQv"
   },
   "outputs": [],
   "source": [
    "from sklearn.preprocessing import OneHotEncoder"
   ]
  },
  {
   "cell_type": "code",
   "execution_count": 54,
   "metadata": {
    "colab": {},
    "colab_type": "code",
    "id": "5z9l3E6bQCQy"
   },
   "outputs": [],
   "source": [
    "enc = OneHotEncoder(handle_unknown='ignore')"
   ]
  },
  {
   "cell_type": "code",
   "execution_count": null,
   "metadata": {
    "colab": {},
    "colab_type": "code",
    "id": "Lxd4xHR1QCQ3"
   },
   "outputs": [],
   "source": []
  },
  {
   "cell_type": "code",
   "execution_count": 55,
   "metadata": {
    "colab": {},
    "colab_type": "code",
    "id": "vgRzCRlfQCQ5"
   },
   "outputs": [],
   "source": [
    "from sklearn.linear_model import LogisticRegression"
   ]
  },
  {
   "cell_type": "code",
   "execution_count": 56,
   "metadata": {
    "colab": {},
    "colab_type": "code",
    "id": "-YvpVi7-QCQ-"
   },
   "outputs": [],
   "source": [
    "logreg = LogisticRegression()"
   ]
  },
  {
   "cell_type": "code",
   "execution_count": 57,
   "metadata": {
    "colab": {
     "base_uri": "https://localhost:8080/",
     "height": 190
    },
    "colab_type": "code",
    "id": "hxsuy-7EQCRA",
    "outputId": "a318cbce-1219-47d9-e47f-a613886277f4"
   },
   "outputs": [
    {
     "name": "stderr",
     "output_type": "stream",
     "text": [
      "/home/nitish/.local/lib/python3.6/site-packages/sklearn/linear_model/logistic.py:432: FutureWarning: Default solver will be changed to 'lbfgs' in 0.22. Specify a solver to silence this warning.\n",
      "  FutureWarning)\n",
      "/home/nitish/.local/lib/python3.6/site-packages/sklearn/linear_model/logistic.py:469: FutureWarning: Default multi_class will be changed to 'auto' in 0.22. Specify the multi_class option to silence this warning.\n",
      "  \"this warning.\", FutureWarning)\n"
     ]
    },
    {
     "data": {
      "text/plain": [
       "LogisticRegression(C=1.0, class_weight=None, dual=False, fit_intercept=True,\n",
       "                   intercept_scaling=1, l1_ratio=None, max_iter=100,\n",
       "                   multi_class='warn', n_jobs=None, penalty='l2',\n",
       "                   random_state=None, solver='warn', tol=0.0001, verbose=0,\n",
       "                   warm_start=False)"
      ]
     },
     "execution_count": 57,
     "metadata": {},
     "output_type": "execute_result"
    }
   ],
   "source": [
    "logreg.fit(X_train, y_train)"
   ]
  },
  {
   "cell_type": "code",
   "execution_count": 58,
   "metadata": {
    "colab": {},
    "colab_type": "code",
    "id": "2T7CQNK9QCRD"
   },
   "outputs": [],
   "source": [
    "pred_LogReg = logreg.predict(X_test)"
   ]
  },
  {
   "cell_type": "code",
   "execution_count": 59,
   "metadata": {
    "colab": {},
    "colab_type": "code",
    "id": "OsFCGj_CQCRF"
   },
   "outputs": [],
   "source": [
    "# Class Report"
   ]
  },
  {
   "cell_type": "code",
   "execution_count": 60,
   "metadata": {
    "colab": {
     "base_uri": "https://localhost:8080/",
     "height": 445
    },
    "colab_type": "code",
    "id": "NRYbkSfkQCRI",
    "outputId": "11292430-230c-4db4-9b6b-c46ffcfcf006"
   },
   "outputs": [
    {
     "name": "stdout",
     "output_type": "stream",
     "text": [
      "              precision    recall  f1-score   support\n",
      "\n",
      "           0       0.40      0.80      0.53         5\n",
      "           1       0.60      0.90      0.72        10\n",
      "           2       0.50      0.08      0.13        13\n",
      "           3       0.30      0.25      0.27        12\n",
      "           4       0.17      0.67      0.28         6\n",
      "           5       0.62      0.36      0.45        14\n",
      "           6       0.75      0.55      0.63        11\n",
      "           7       0.69      0.75      0.72        12\n",
      "           8       1.00      0.64      0.78        14\n",
      "           9       0.67      0.67      0.67        12\n",
      "          10       0.45      0.62      0.53         8\n",
      "          11       0.39      0.88      0.54         8\n",
      "          12       0.00      0.00      0.00        19\n",
      "          13       0.62      0.80      0.70        10\n",
      "          14       0.67      0.80      0.73        10\n",
      "\n",
      "    accuracy                           0.52       164\n",
      "   macro avg       0.52      0.58      0.51       164\n",
      "weighted avg       0.52      0.52      0.49       164\n",
      "\n"
     ]
    },
    {
     "name": "stderr",
     "output_type": "stream",
     "text": [
      "/home/nitish/.local/lib/python3.6/site-packages/sklearn/metrics/classification.py:1437: UndefinedMetricWarning: Precision and F-score are ill-defined and being set to 0.0 in labels with no predicted samples.\n",
      "  'precision', 'predicted', average, warn_for)\n"
     ]
    }
   ],
   "source": [
    "print(metrics.classification_report(y_test, pred_LogReg))"
   ]
  },
  {
   "cell_type": "code",
   "execution_count": 61,
   "metadata": {
    "colab": {
     "base_uri": "https://localhost:8080/",
     "height": 272
    },
    "colab_type": "code",
    "id": "mQpvWOT1QCRL",
    "outputId": "c9e25e1c-a7bc-46e4-8005-36166fee1dbe"
   },
   "outputs": [
    {
     "name": "stdout",
     "output_type": "stream",
     "text": [
      "[[ 4  1  0  0  0  0  0  0  0  0  0  0  0  0  0]\n",
      " [ 1  9  0  0  0  0  0  0  0  0  0  0  0  0  0]\n",
      " [ 3  3  1  3  3  0  0  0  0  0  0  0  0  0  0]\n",
      " [ 2  1  0  3  6  0  0  0  0  0  0  0  0  0  0]\n",
      " [ 0  1  0  1  4  0  0  0  0  0  0  0  0  0  0]\n",
      " [ 0  0  1  1  5  5  2  0  0  0  0  0  0  0  0]\n",
      " [ 0  0  0  1  1  1  6  2  0  0  0  0  0  0  0]\n",
      " [ 0  0  0  1  2  0  0  9  0  0  0  0  0  0  0]\n",
      " [ 0  0  0  0  2  1  0  1  9  1  0  0  0  0  0]\n",
      " [ 0  0  0  0  0  1  0  0  0  8  3  0  0  0  0]\n",
      " [ 0  0  0  0  0  0  0  1  0  1  5  1  0  0  0]\n",
      " [ 0  0  0  0  0  0  0  0  0  0  1  7  0  0  0]\n",
      " [ 0  0  0  0  0  0  0  0  0  2  1 10  0  4  2]\n",
      " [ 0  0  0  0  0  0  0  0  0  0  0  0  0  8  2]\n",
      " [ 0  0  0  0  0  0  0  0  0  0  1  0  0  1  8]]\n"
     ]
    }
   ],
   "source": [
    "print(metrics.confusion_matrix(y_test, pred_LogReg))"
   ]
  },
  {
   "cell_type": "code",
   "execution_count": 62,
   "metadata": {
    "colab": {
     "base_uri": "https://localhost:8080/",
     "height": 286
    },
    "colab_type": "code",
    "id": "YOCYyaE6QCRN",
    "outputId": "0aa67ab9-524d-4f98-874a-63076a00d201"
   },
   "outputs": [
    {
     "data": {
      "text/plain": [
       "<matplotlib.collections.PathCollection at 0x7fa67649ef60>"
      ]
     },
     "execution_count": 62,
     "metadata": {},
     "output_type": "execute_result"
    },
    {
     "data": {
      "image/png": "[encoded data removed]",
      "text/plain": [
       "<Figure size 432x288 with 1 Axes>"
      ]
     },
     "metadata": {
      "needs_background": "light"
     },
     "output_type": "display_data"
    }
   ],
   "source": [
    "plt.scatter(y_test, pred_LogReg)"
   ]
  },
  {
   "cell_type": "code",
   "execution_count": 63,
   "metadata": {
    "colab": {
     "base_uri": "https://localhost:8080/",
     "height": 51
    },
    "colab_type": "code",
    "id": "JCXe6_dnQCRQ",
    "outputId": "43eee123-126b-423c-ac9f-ad069ebe17c4"
   },
   "outputs": [
    {
     "name": "stdout",
     "output_type": "stream",
     "text": [
      "1.8821920059984991\n",
      "0.774390243902439\n"
     ]
    }
   ],
   "source": [
    "print(metrics.mean_absolute_error(y_test, pred_LinearReg))\n",
    "print(metrics.mean_absolute_error(y_test, pred_LogReg))"
   ]
  },
  {
   "cell_type": "code",
   "execution_count": 64,
   "metadata": {
    "colab": {
     "base_uri": "https://localhost:8080/",
     "height": 51
    },
    "colab_type": "code",
    "id": "yDMsms3kQCRU",
    "outputId": "f8c60597-1db5-445a-95aa-7c43eff88bca"
   },
   "outputs": [
    {
     "name": "stdout",
     "output_type": "stream",
     "text": [
      "2.358096613597293\n",
      "1.299624711308577\n"
     ]
    }
   ],
   "source": [
    "print(np.sqrt(metrics.mean_squared_error(y_test, pred_LinearReg)))\n",
    "print(np.sqrt(metrics.mean_squared_error(y_test, pred_LogReg)))"
   ]
  },
  {
   "cell_type": "code",
   "execution_count": 65,
   "metadata": {
    "colab": {},
    "colab_type": "code",
    "id": "sYeYlrH7QCRW"
   },
   "outputs": [],
   "source": [
    "# We can see considerable improvements in using Logistic Regression\n",
    "# over Linear Regression.\n",
    "# Mean Error is now only 0.77 compared to 1.88.\n",
    "# Mean Squared Error is also now only 1.29 compared to 2.35."
   ]
  },
  {
   "cell_type": "code",
   "execution_count": 66,
   "metadata": {
    "colab": {
     "base_uri": "https://localhost:8080/",
     "height": 300
    },
    "colab_type": "code",
    "id": "EPd4Y0_hQCRZ",
    "outputId": "69e28743-90f1-4e55-d32f-1b632d633b19",
    "scrolled": true
   },
   "outputs": [
    {
     "data": {
      "text/plain": [
       "Text(0.5, 0, 'Actual - Predicted using Logistic Regression')"
      ]
     },
     "execution_count": 66,
     "metadata": {},
     "output_type": "execute_result"
    },
    {
     "data": {
      "image/png": "[encoded data removed]",
      "text/plain": [
       "<Figure size 432x288 with 1 Axes>"
      ]
     },
     "metadata": {
      "needs_background": "light"
     },
     "output_type": "display_data"
    }
   ],
   "source": [
    "sns.distplot((y_test-pred_LogReg))\n",
    "plt.xlabel('Actual - Predicted using Logistic Regression')\n",
    "# Residual plot is also now closer to 0."
   ]
  },
  {
   "cell_type": "code",
   "execution_count": null,
   "metadata": {
    "colab": {},
    "colab_type": "code",
    "id": "0k6kPSe4QCRb"
   },
   "outputs": [],
   "source": []
  },
  {
   "cell_type": "markdown",
   "metadata": {
    "colab_type": "text",
    "id": "nEGZAL9emjcL"
   },
   "source": [
    "##K Nearest Neighbours"
   ]
  },
  {
   "cell_type": "markdown",
   "metadata": {
    "colab_type": "text",
    "id": "BuQxL9xgmtLa"
   },
   "source": [
    "Step 1 - Scale the data as KNN depends on distance between the points"
   ]
  },
  {
   "cell_type": "code",
   "execution_count": 67,
   "metadata": {
    "colab": {},
    "colab_type": "code",
    "id": "Zltom2annSSv"
   },
   "outputs": [],
   "source": [
    "from sklearn.preprocessing import StandardScaler"
   ]
  },
  {
   "cell_type": "code",
   "execution_count": 68,
   "metadata": {
    "colab": {},
    "colab_type": "code",
    "id": "oBDdlaPHnaYU"
   },
   "outputs": [],
   "source": [
    "scaler = StandardScaler()"
   ]
  },
  {
   "cell_type": "code",
   "execution_count": 69,
   "metadata": {
    "colab": {
     "base_uri": "https://localhost:8080/",
     "height": 204
    },
    "colab_type": "code",
    "id": "lP6V99FvneqS",
    "outputId": "7c491c35-15a5-45b6-8678-25e74e6dd484"
   },
   "outputs": [
    {
     "data": {
      "text/html": [
       "<div>\n",
       "<style scoped>\n",
       "    .dataframe tbody tr th:only-of-type {\n",
       "        vertical-align: middle;\n",
       "    }\n",
       "\n",
       "    .dataframe tbody tr th {\n",
       "        vertical-align: top;\n",
       "    }\n",
       "\n",
       "    .dataframe thead th {\n",
       "        text-align: right;\n",
       "    }\n",
       "</style>\n",
       "<table border=\"1\" class=\"dataframe\">\n",
       "  <thead>\n",
       "    <tr style=\"text-align: right;\">\n",
       "      <th></th>\n",
       "      <th>blue</th>\n",
       "      <th>green</th>\n",
       "      <th>red</th>\n",
       "      <th>label</th>\n",
       "      <th>Nature</th>\n",
       "    </tr>\n",
       "  </thead>\n",
       "  <tbody>\n",
       "    <tr>\n",
       "      <td>0</td>\n",
       "      <td>36</td>\n",
       "      <td>27</td>\n",
       "      <td>231</td>\n",
       "      <td>0</td>\n",
       "      <td>Acidic</td>\n",
       "    </tr>\n",
       "    <tr>\n",
       "      <td>1</td>\n",
       "      <td>36</td>\n",
       "      <td>84</td>\n",
       "      <td>250</td>\n",
       "      <td>1</td>\n",
       "      <td>Acidic</td>\n",
       "    </tr>\n",
       "    <tr>\n",
       "      <td>2</td>\n",
       "      <td>37</td>\n",
       "      <td>164</td>\n",
       "      <td>255</td>\n",
       "      <td>2</td>\n",
       "      <td>Acidic</td>\n",
       "    </tr>\n",
       "    <tr>\n",
       "      <td>3</td>\n",
       "      <td>22</td>\n",
       "      <td>205</td>\n",
       "      <td>255</td>\n",
       "      <td>3</td>\n",
       "      <td>Acidic</td>\n",
       "    </tr>\n",
       "    <tr>\n",
       "      <td>4</td>\n",
       "      <td>38</td>\n",
       "      <td>223</td>\n",
       "      <td>221</td>\n",
       "      <td>4</td>\n",
       "      <td>Acidic</td>\n",
       "    </tr>\n",
       "  </tbody>\n",
       "</table>\n",
       "</div>"
      ],
      "text/plain": [
       "   blue  green  red  label  Nature\n",
       "0    36     27  231      0  Acidic\n",
       "1    36     84  250      1  Acidic\n",
       "2    37    164  255      2  Acidic\n",
       "3    22    205  255      3  Acidic\n",
       "4    38    223  221      4  Acidic"
      ]
     },
     "execution_count": 69,
     "metadata": {},
     "output_type": "execute_result"
    }
   ],
   "source": [
    "df.head()"
   ]
  },
  {
   "cell_type": "code",
   "execution_count": 70,
   "metadata": {
    "colab": {
     "base_uri": "https://localhost:8080/",
     "height": 34
    },
    "colab_type": "code",
    "id": "_lCocK4Znwxo",
    "outputId": "d1f415d8-243a-43db-ba45-3b1c42007001"
   },
   "outputs": [
    {
     "data": {
      "text/plain": [
       "StandardScaler(copy=True, with_mean=True, with_std=True)"
      ]
     },
     "execution_count": 70,
     "metadata": {},
     "output_type": "execute_result"
    }
   ],
   "source": [
    "scaler.fit(df.drop([\"label\",\"Nature\"], axis=1))"
   ]
  },
  {
   "cell_type": "code",
   "execution_count": 71,
   "metadata": {
    "colab": {},
    "colab_type": "code",
    "id": "0C67Ueu5oBF_"
   },
   "outputs": [],
   "source": [
    "scaled_feat = scaler.transform(df.drop([\"label\",\"Nature\"], axis=1))"
   ]
  },
  {
   "cell_type": "code",
   "execution_count": 72,
   "metadata": {
    "colab": {},
    "colab_type": "code",
    "id": "X8NzqnbbrdB-"
   },
   "outputs": [],
   "source": [
    "df_feat = pd.DataFrame(scaled_feat, columns=df.columns[:-2])"
   ]
  },
  {
   "cell_type": "code",
   "execution_count": 73,
   "metadata": {
    "colab": {
     "base_uri": "https://localhost:8080/",
     "height": 204
    },
    "colab_type": "code",
    "id": "y6YfvjJYrogS",
    "outputId": "47266b55-7df0-43c8-d9cb-fb371d25ec66"
   },
   "outputs": [
    {
     "data": {
      "text/html": [
       "<div>\n",
       "<style scoped>\n",
       "    .dataframe tbody tr th:only-of-type {\n",
       "        vertical-align: middle;\n",
       "    }\n",
       "\n",
       "    .dataframe tbody tr th {\n",
       "        vertical-align: top;\n",
       "    }\n",
       "\n",
       "    .dataframe thead th {\n",
       "        text-align: right;\n",
       "    }\n",
       "</style>\n",
       "<table border=\"1\" class=\"dataframe\">\n",
       "  <thead>\n",
       "    <tr style=\"text-align: right;\">\n",
       "      <th></th>\n",
       "      <th>blue</th>\n",
       "      <th>green</th>\n",
       "      <th>red</th>\n",
       "    </tr>\n",
       "  </thead>\n",
       "  <tbody>\n",
       "    <tr>\n",
       "      <td>0</td>\n",
       "      <td>-0.711329</td>\n",
       "      <td>-1.423343</td>\n",
       "      <td>1.232726</td>\n",
       "    </tr>\n",
       "    <tr>\n",
       "      <td>1</td>\n",
       "      <td>-0.711329</td>\n",
       "      <td>-0.636393</td>\n",
       "      <td>1.444986</td>\n",
       "    </tr>\n",
       "    <tr>\n",
       "      <td>2</td>\n",
       "      <td>-0.697981</td>\n",
       "      <td>0.468098</td>\n",
       "      <td>1.500845</td>\n",
       "    </tr>\n",
       "    <tr>\n",
       "      <td>3</td>\n",
       "      <td>-0.898202</td>\n",
       "      <td>1.034149</td>\n",
       "      <td>1.500845</td>\n",
       "    </tr>\n",
       "    <tr>\n",
       "      <td>4</td>\n",
       "      <td>-0.684633</td>\n",
       "      <td>1.282660</td>\n",
       "      <td>1.121010</td>\n",
       "    </tr>\n",
       "  </tbody>\n",
       "</table>\n",
       "</div>"
      ],
      "text/plain": [
       "       blue     green       red\n",
       "0 -0.711329 -1.423343  1.232726\n",
       "1 -0.711329 -0.636393  1.444986\n",
       "2 -0.697981  0.468098  1.500845\n",
       "3 -0.898202  1.034149  1.500845\n",
       "4 -0.684633  1.282660  1.121010"
      ]
     },
     "execution_count": 73,
     "metadata": {},
     "output_type": "execute_result"
    }
   ],
   "source": [
    "df_feat.head()"
   ]
  },
  {
   "cell_type": "code",
   "execution_count": 74,
   "metadata": {
    "colab": {},
    "colab_type": "code",
    "id": "4hoOuOE5rvZW"
   },
   "outputs": [],
   "source": [
    "XKNN = df_feat\n",
    "yKNN = df['label']"
   ]
  },
  {
   "cell_type": "code",
   "execution_count": 75,
   "metadata": {
    "colab": {},
    "colab_type": "code",
    "id": "VfG0RYq1sNtp"
   },
   "outputs": [],
   "source": [
    "X_trainKNN, X_testKNN, y_trainKNN, y_testKNN = train_test_split(X, y, test_size=0.25, random_state=10)"
   ]
  },
  {
   "cell_type": "code",
   "execution_count": 76,
   "metadata": {
    "colab": {},
    "colab_type": "code",
    "id": "7X80gkjYs_Ld"
   },
   "outputs": [],
   "source": [
    "from sklearn.neighbors import KNeighborsClassifier"
   ]
  },
  {
   "cell_type": "code",
   "execution_count": 77,
   "metadata": {
    "colab": {},
    "colab_type": "code",
    "id": "sXbgE8ixtjEz"
   },
   "outputs": [],
   "source": [
    "knn = KNeighborsClassifier(n_neighbors=3)"
   ]
  },
  {
   "cell_type": "code",
   "execution_count": 78,
   "metadata": {
    "colab": {
     "base_uri": "https://localhost:8080/",
     "height": 88
    },
    "colab_type": "code",
    "id": "qYbVbOqWuKIH",
    "outputId": "48235b47-e945-4b2e-e75e-5bee6801e7b8"
   },
   "outputs": [
    {
     "data": {
      "text/plain": [
       "KNeighborsClassifier(algorithm='auto', leaf_size=30, metric='minkowski',\n",
       "                     metric_params=None, n_jobs=None, n_neighbors=3, p=2,\n",
       "                     weights='uniform')"
      ]
     },
     "execution_count": 78,
     "metadata": {},
     "output_type": "execute_result"
    }
   ],
   "source": [
    "knn.fit(X_trainKNN, y_trainKNN)"
   ]
  },
  {
   "cell_type": "code",
   "execution_count": 79,
   "metadata": {
    "colab": {},
    "colab_type": "code",
    "id": "TbMkBVfCuYHX"
   },
   "outputs": [],
   "source": [
    "pred_KNN = knn.predict(X_testKNN)"
   ]
  },
  {
   "cell_type": "code",
   "execution_count": 80,
   "metadata": {
    "colab": {
     "base_uri": "https://localhost:8080/",
     "height": 391
    },
    "colab_type": "code",
    "id": "fmpXgP12ugOS",
    "outputId": "1a90abaa-79d1-4ed4-f6e3-be4b3238500d"
   },
   "outputs": [
    {
     "name": "stdout",
     "output_type": "stream",
     "text": [
      "              precision    recall  f1-score   support\n",
      "\n",
      "           0       0.25      0.40      0.31         5\n",
      "           1       0.47      0.80      0.59        10\n",
      "           2       0.75      0.46      0.57        13\n",
      "           3       0.75      0.75      0.75        12\n",
      "           4       0.21      0.50      0.30         6\n",
      "           5       0.89      0.57      0.70        14\n",
      "           6       0.80      0.73      0.76        11\n",
      "           7       0.90      0.75      0.82        12\n",
      "           8       0.85      0.79      0.81        14\n",
      "           9       1.00      0.83      0.91        12\n",
      "          10       0.70      0.88      0.78         8\n",
      "          11       0.50      0.62      0.56         8\n",
      "          12       0.85      0.58      0.69        19\n",
      "          13       0.69      0.90      0.78        10\n",
      "          14       0.86      0.60      0.71        10\n",
      "\n",
      "    accuracy                           0.68       164\n",
      "   macro avg       0.70      0.68      0.67       164\n",
      "weighted avg       0.75      0.68      0.70       164\n",
      "\n"
     ]
    }
   ],
   "source": [
    "print(metrics.classification_report(y_testKNN, pred_KNN))"
   ]
  },
  {
   "cell_type": "code",
   "execution_count": 81,
   "metadata": {
    "colab": {
     "base_uri": "https://localhost:8080/",
     "height": 272
    },
    "colab_type": "code",
    "id": "Xr9EFcAKu9Zv",
    "outputId": "953c3f06-5d79-4637-c302-d8a485987323"
   },
   "outputs": [
    {
     "name": "stdout",
     "output_type": "stream",
     "text": [
      "[[ 2  3  0  0  0  0  0  0  0  0  0  0  0  0  0]\n",
      " [ 2  8  0  0  0  0  0  0  0  0  0  0  0  0  0]\n",
      " [ 3  4  6  0  0  0  0  0  0  0  0  0  0  0  0]\n",
      " [ 1  0  1  9  1  0  0  0  0  0  0  0  0  0  0]\n",
      " [ 0  1  1  1  3  0  0  0  0  0  0  0  0  0  0]\n",
      " [ 0  1  0  1  4  8  0  0  0  0  0  0  0  0  0]\n",
      " [ 0  0  0  1  2  0  8  0  0  0  0  0  0  0  0]\n",
      " [ 0  0  0  0  2  0  1  9  0  0  0  0  0  0  0]\n",
      " [ 0  0  0  0  2  0  1  0 11  0  0  0  0  0  0]\n",
      " [ 0  0  0  0  0  1  0  0  0 10  1  0  0  0  0]\n",
      " [ 0  0  0  0  0  0  0  0  1  0  7  0  0  0  0]\n",
      " [ 0  0  0  0  0  0  0  1  0  0  0  5  2  0  0]\n",
      " [ 0  0  0  0  0  0  0  0  1  0  2  4 11  1  0]\n",
      " [ 0  0  0  0  0  0  0  0  0  0  0  0  0  9  1]\n",
      " [ 0  0  0  0  0  0  0  0  0  0  0  1  0  3  6]]\n"
     ]
    }
   ],
   "source": [
    "print(metrics.confusion_matrix(y_testKNN, pred_KNN))"
   ]
  },
  {
   "cell_type": "code",
   "execution_count": 82,
   "metadata": {
    "colab": {
     "base_uri": "https://localhost:8080/",
     "height": 286
    },
    "colab_type": "code",
    "id": "GltX0qE8vSoB",
    "outputId": "6d2d97a4-0507-4deb-e214-78a524bedf82"
   },
   "outputs": [
    {
     "data": {
      "text/plain": [
       "<matplotlib.collections.PathCollection at 0x7fa675573cc0>"
      ]
     },
     "execution_count": 82,
     "metadata": {},
     "output_type": "execute_result"
    },
    {
     "data": {
      "image/png": "[encoded data removed]",
      "text/plain": [
       "<Figure size 432x288 with 1 Axes>"
      ]
     },
     "metadata": {
      "needs_background": "light"
     },
     "output_type": "display_data"
    }
   ],
   "source": [
    "plt.scatter(y_testKNN, pred_KNN)"
   ]
  },
  {
   "cell_type": "code",
   "execution_count": 83,
   "metadata": {
    "colab": {
     "base_uri": "https://localhost:8080/",
     "height": 34
    },
    "colab_type": "code",
    "id": "iOC_jkMdvd42",
    "outputId": "7130bc22-9fe8-4a0f-ba16-4d230677697b"
   },
   "outputs": [
    {
     "name": "stdout",
     "output_type": "stream",
     "text": [
      "0.5670731707317073\n"
     ]
    }
   ],
   "source": [
    "print(metrics.mean_absolute_error(y_testKNN, pred_KNN))"
   ]
  },
  {
   "cell_type": "code",
   "execution_count": 84,
   "metadata": {
    "colab": {
     "base_uri": "https://localhost:8080/",
     "height": 34
    },
    "colab_type": "code",
    "id": "kxW8p703vowA",
    "outputId": "1343c300-d988-481e-cc50-e53fe09a7ed4"
   },
   "outputs": [
    {
     "name": "stdout",
     "output_type": "stream",
     "text": [
      "1.1660858019721259\n"
     ]
    }
   ],
   "source": [
    "print(np.sqrt(metrics.mean_squared_error(y_testKNN, pred_KNN)))"
   ]
  },
  {
   "cell_type": "code",
   "execution_count": 85,
   "metadata": {
    "colab": {
     "base_uri": "https://localhost:8080/",
     "height": 300
    },
    "colab_type": "code",
    "id": "TIKFI5rKv0zY",
    "outputId": "d111aee8-5d83-4144-9efe-3e78e6493c1a"
   },
   "outputs": [
    {
     "data": {
      "text/plain": [
       "Text(0.5, 0, 'Actual - Predicted using KNN')"
      ]
     },
     "execution_count": 85,
     "metadata": {},
     "output_type": "execute_result"
    },
    {
     "data": {
      "image/png": "[encoded data removed]",
      "text/plain": [
       "<Figure size 432x288 with 1 Axes>"
      ]
     },
     "metadata": {
      "needs_background": "light"
     },
     "output_type": "display_data"
    }
   ],
   "source": [
    "sns.distplot((y_testKNN-pred_KNN))\n",
    "plt.xlabel('Actual - Predicted using KNN')"
   ]
  },
  {
   "cell_type": "code",
   "execution_count": 86,
   "metadata": {
    "colab": {
     "base_uri": "https://localhost:8080/",
     "height": 51
    },
    "colab_type": "code",
    "id": "ztRMPfpnwDUw",
    "outputId": "d8f57e20-69f0-4845-a01c-5e9eb6a23fa9"
   },
   "outputs": [
    {
     "name": "stdout",
     "output_type": "stream",
     "text": [
      "0.5670731707317073\n",
      "3\n"
     ]
    }
   ],
   "source": [
    "mini = 0;\n",
    "min_val = 2;\n",
    "\n",
    "for i in range(1,489):\n",
    "  knn = KNeighborsClassifier(n_neighbors=i)\n",
    "  knn.fit(X_trainKNN, y_trainKNN)\n",
    "  pred_i = knn.predict(X_testKNN)\n",
    "  if(min_val > metrics.mean_absolute_error(y_testKNN, pred_i)):\n",
    "    min_val = metrics.mean_absolute_error(y_testKNN, pred_i)\n",
    "    mini = i\n",
    "print(min_val)\n",
    "print(mini)"
   ]
  },
  {
   "cell_type": "code",
   "execution_count": 87,
   "metadata": {
    "colab": {
     "base_uri": "https://localhost:8080/",
     "height": 34
    },
    "colab_type": "code",
    "id": "ZAwuNNhhzamu",
    "outputId": "c82067e8-35fc-4fd9-9cff-5e9ed90399fb"
   },
   "outputs": [
    {
     "data": {
      "text/plain": [
       "3"
      ]
     },
     "execution_count": 87,
     "metadata": {},
     "output_type": "execute_result"
    }
   ],
   "source": [
    "mini"
   ]
  },
  {
   "cell_type": "markdown",
   "metadata": {
    "colab_type": "text",
    "id": "qHorsdVh4L-I"
   },
   "source": [
    "#### K=1 has the highest accuracy"
   ]
  },
  {
   "cell_type": "markdown",
   "metadata": {
    "colab_type": "text",
    "id": "IK9v0g2l-uBH"
   },
   "source": [
    "## Decision Trees Model"
   ]
  },
  {
   "cell_type": "code",
   "execution_count": 88,
   "metadata": {
    "colab": {},
    "colab_type": "code",
    "id": "oquaAdFF4ZgE"
   },
   "outputs": [],
   "source": [
    "from sklearn.tree import DecisionTreeClassifier"
   ]
  },
  {
   "cell_type": "code",
   "execution_count": 89,
   "metadata": {
    "colab": {},
    "colab_type": "code",
    "id": "ggzpwhN2--Vv"
   },
   "outputs": [],
   "source": [
    "dtree = DecisionTreeClassifier()"
   ]
  },
  {
   "cell_type": "code",
   "execution_count": 90,
   "metadata": {
    "colab": {
     "base_uri": "https://localhost:8080/",
     "height": 139
    },
    "colab_type": "code",
    "id": "lJaVpF12_CF3",
    "outputId": "bb25ee9d-c470-4ffd-d8a9-6766833a072e"
   },
   "outputs": [
    {
     "data": {
      "text/plain": [
       "DecisionTreeClassifier(class_weight=None, criterion='gini', max_depth=None,\n",
       "                       max_features=None, max_leaf_nodes=None,\n",
       "                       min_impurity_decrease=0.0, min_impurity_split=None,\n",
       "                       min_samples_leaf=1, min_samples_split=2,\n",
       "                       min_weight_fraction_leaf=0.0, presort=False,\n",
       "                       random_state=None, splitter='best')"
      ]
     },
     "execution_count": 90,
     "metadata": {},
     "output_type": "execute_result"
    }
   ],
   "source": [
    "dtree.fit(X_trainKNN, y_trainKNN)"
   ]
  },
  {
   "cell_type": "code",
   "execution_count": 91,
   "metadata": {
    "colab": {},
    "colab_type": "code",
    "id": "PpR2AcmWF5xq"
   },
   "outputs": [],
   "source": [
    "pred_dtree = dtree.predict(X_testKNN)"
   ]
  },
  {
   "cell_type": "code",
   "execution_count": 92,
   "metadata": {
    "colab": {
     "base_uri": "https://localhost:8080/",
     "height": 391
    },
    "colab_type": "code",
    "id": "DpT57_27GB9S",
    "outputId": "581125c1-9d96-4243-e572-f5252fc4b8b6"
   },
   "outputs": [
    {
     "name": "stdout",
     "output_type": "stream",
     "text": [
      "              precision    recall  f1-score   support\n",
      "\n",
      "           0       0.43      0.60      0.50         5\n",
      "           1       0.44      0.70      0.54        10\n",
      "           2       0.56      0.38      0.45        13\n",
      "           3       0.64      0.58      0.61        12\n",
      "           4       0.44      0.67      0.53         6\n",
      "           5       0.78      0.50      0.61        14\n",
      "           6       0.69      0.82      0.75        11\n",
      "           7       0.82      0.75      0.78        12\n",
      "           8       0.85      0.79      0.81        14\n",
      "           9       0.82      0.75      0.78        12\n",
      "          10       0.75      0.75      0.75         8\n",
      "          11       0.55      0.75      0.63         8\n",
      "          12       0.80      0.63      0.71        19\n",
      "          13       0.57      0.80      0.67        10\n",
      "          14       0.86      0.60      0.71        10\n",
      "\n",
      "    accuracy                           0.66       164\n",
      "   macro avg       0.67      0.67      0.66       164\n",
      "weighted avg       0.69      0.66      0.67       164\n",
      "\n"
     ]
    }
   ],
   "source": [
    "print(metrics.classification_report(y_testKNN, pred_dtree))"
   ]
  },
  {
   "cell_type": "code",
   "execution_count": 93,
   "metadata": {
    "colab": {
     "base_uri": "https://localhost:8080/",
     "height": 272
    },
    "colab_type": "code",
    "id": "vAl4oh4BGQb9",
    "outputId": "6ee79293-e138-4a5d-edae-2d1bc906484e"
   },
   "outputs": [
    {
     "name": "stdout",
     "output_type": "stream",
     "text": [
      "[[ 3  2  0  0  0  0  0  0  0  0  0  0  0  0  0]\n",
      " [ 2  7  0  0  1  0  0  0  0  0  0  0  0  0  0]\n",
      " [ 1  5  5  2  0  0  0  0  0  0  0  0  0  0  0]\n",
      " [ 1  1  2  7  1  0  0  0  0  0  0  0  0  0  0]\n",
      " [ 0  1  0  1  4  0  0  0  0  0  0  0  0  0  0]\n",
      " [ 0  0  2  0  2  7  1  1  0  1  0  0  0  0  0]\n",
      " [ 0  0  0  1  0  1  9  0  0  0  0  0  0  0  0]\n",
      " [ 0  0  0  0  1  0  1  9  1  0  0  0  0  0  0]\n",
      " [ 0  0  0  0  0  0  2  0 11  1  0  0  0  0  0]\n",
      " [ 0  0  0  0  0  1  0  0  0  9  1  1  0  0  0]\n",
      " [ 0  0  0  0  0  0  0  1  0  0  6  1  0  0  0]\n",
      " [ 0  0  0  0  0  0  0  0  0  0  1  6  1  0  0]\n",
      " [ 0  0  0  0  0  0  0  0  1  0  0  2 12  4  0]\n",
      " [ 0  0  0  0  0  0  0  0  0  0  0  0  1  8  1]\n",
      " [ 0  0  0  0  0  0  0  0  0  0  0  1  1  2  6]]\n"
     ]
    }
   ],
   "source": [
    "print(metrics.confusion_matrix(y_testKNN, pred_dtree))"
   ]
  },
  {
   "cell_type": "code",
   "execution_count": 94,
   "metadata": {
    "colab": {
     "base_uri": "https://localhost:8080/",
     "height": 34
    },
    "colab_type": "code",
    "id": "jJJdQmAfGa4-",
    "outputId": "919ba6b1-1ee0-4ea6-bdb7-38fbb2ccbe72"
   },
   "outputs": [
    {
     "name": "stdout",
     "output_type": "stream",
     "text": [
      "0.5426829268292683\n"
     ]
    }
   ],
   "source": [
    "print(metrics.mean_absolute_error(y_testKNN, pred_dtree))"
   ]
  },
  {
   "cell_type": "code",
   "execution_count": 95,
   "metadata": {
    "colab": {
     "base_uri": "https://localhost:8080/",
     "height": 286
    },
    "colab_type": "code",
    "id": "2D8ru-zEGi4E",
    "outputId": "713498aa-bde0-4ea6-faae-8e7d21ef759d"
   },
   "outputs": [
    {
     "data": {
      "text/plain": [
       "<matplotlib.collections.PathCollection at 0x7fa6748e5b00>"
      ]
     },
     "execution_count": 95,
     "metadata": {},
     "output_type": "execute_result"
    },
    {
     "data": {
      "image/png": "[encoded data removed]",
      "text/plain": [
       "<Figure size 432x288 with 1 Axes>"
      ]
     },
     "metadata": {
      "needs_background": "light"
     },
     "output_type": "display_data"
    }
   ],
   "source": [
    "plt.scatter(y_testKNN, pred_dtree)"
   ]
  },
  {
   "cell_type": "code",
   "execution_count": 96,
   "metadata": {
    "colab": {
     "base_uri": "https://localhost:8080/",
     "height": 34
    },
    "colab_type": "code",
    "id": "BdzbToNVGtca",
    "outputId": "d8c7755b-e67a-49a0-a4a3-e461ae10acfc"
   },
   "outputs": [
    {
     "name": "stdout",
     "output_type": "stream",
     "text": [
      "1.0848176198295651\n"
     ]
    }
   ],
   "source": [
    "print(np.sqrt(metrics.mean_squared_error(y_testKNN, pred_dtree)))"
   ]
  },
  {
   "cell_type": "markdown",
   "metadata": {
    "colab_type": "text",
    "id": "zFRt0ic2K5NX"
   },
   "source": [
    "## Random Forest Classification"
   ]
  },
  {
   "cell_type": "code",
   "execution_count": 97,
   "metadata": {
    "colab": {},
    "colab_type": "code",
    "id": "xz6riJx0K_M6"
   },
   "outputs": [],
   "source": [
    "from sklearn.ensemble import RandomForestClassifier"
   ]
  },
  {
   "cell_type": "code",
   "execution_count": 98,
   "metadata": {
    "colab": {},
    "colab_type": "code",
    "id": "DBVujNiKNavi"
   },
   "outputs": [],
   "source": [
    "rfc = RandomForestClassifier(n_estimators=30)"
   ]
  },
  {
   "cell_type": "code",
   "execution_count": 99,
   "metadata": {
    "colab": {
     "base_uri": "https://localhost:8080/",
     "height": 156
    },
    "colab_type": "code",
    "id": "Q5rCdpcKNwLT",
    "outputId": "2c571eea-39e5-4857-c32b-304abad1e63c"
   },
   "outputs": [
    {
     "data": {
      "text/plain": [
       "RandomForestClassifier(bootstrap=True, class_weight=None, criterion='gini',\n",
       "                       max_depth=None, max_features='auto', max_leaf_nodes=None,\n",
       "                       min_impurity_decrease=0.0, min_impurity_split=None,\n",
       "                       min_samples_leaf=1, min_samples_split=2,\n",
       "                       min_weight_fraction_leaf=0.0, n_estimators=30,\n",
       "                       n_jobs=None, oob_score=False, random_state=None,\n",
       "                       verbose=0, warm_start=False)"
      ]
     },
     "execution_count": 99,
     "metadata": {},
     "output_type": "execute_result"
    }
   ],
   "source": [
    "rfc.fit(X_train, y_train)"
   ]
  },
  {
   "cell_type": "code",
   "execution_count": 100,
   "metadata": {
    "colab": {},
    "colab_type": "code",
    "id": "t4qCzVI1N12Q"
   },
   "outputs": [],
   "source": [
    "pred_rfc = rfc.predict(X_test)"
   ]
  },
  {
   "cell_type": "code",
   "execution_count": 101,
   "metadata": {
    "colab": {
     "base_uri": "https://localhost:8080/",
     "height": 391
    },
    "colab_type": "code",
    "id": "jhHhyGAEOAu1",
    "outputId": "2ac9483a-1b7f-4dcf-c4ab-19d712a2c088"
   },
   "outputs": [
    {
     "name": "stdout",
     "output_type": "stream",
     "text": [
      "              precision    recall  f1-score   support\n",
      "\n",
      "           0       0.43      0.60      0.50         5\n",
      "           1       0.50      0.80      0.62        10\n",
      "           2       0.60      0.46      0.52        13\n",
      "           3       0.78      0.58      0.67        12\n",
      "           4       0.56      0.83      0.67         6\n",
      "           5       0.88      0.50      0.64        14\n",
      "           6       0.69      0.82      0.75        11\n",
      "           7       0.75      0.75      0.75        12\n",
      "           8       0.75      0.86      0.80        14\n",
      "           9       0.91      0.83      0.87        12\n",
      "          10       0.67      0.75      0.71         8\n",
      "          11       0.75      0.75      0.75         8\n",
      "          12       0.87      0.68      0.76        19\n",
      "          13       0.75      0.90      0.82        10\n",
      "          14       0.89      0.80      0.84        10\n",
      "\n",
      "    accuracy                           0.72       164\n",
      "   macro avg       0.72      0.73      0.71       164\n",
      "weighted avg       0.74      0.72      0.72       164\n",
      "\n"
     ]
    }
   ],
   "source": [
    "print(metrics.classification_report(y_test, pred_rfc))"
   ]
  },
  {
   "cell_type": "code",
   "execution_count": 102,
   "metadata": {
    "colab": {
     "base_uri": "https://localhost:8080/",
     "height": 272
    },
    "colab_type": "code",
    "id": "RPB8HVRXOOSe",
    "outputId": "e690832f-5e71-41e1-c857-ea664c50706f"
   },
   "outputs": [
    {
     "name": "stdout",
     "output_type": "stream",
     "text": [
      "[[ 3  2  0  0  0  0  0  0  0  0  0  0  0  0  0]\n",
      " [ 1  8  1  0  0  0  0  0  0  0  0  0  0  0  0]\n",
      " [ 2  4  6  1  0  0  0  0  0  0  0  0  0  0  0]\n",
      " [ 1  1  1  7  2  0  0  0  0  0  0  0  0  0  0]\n",
      " [ 0  1  0  0  5  0  0  0  0  0  0  0  0  0  0]\n",
      " [ 0  0  2  0  1  7  1  2  0  1  0  0  0  0  0]\n",
      " [ 0  0  0  1  0  0  9  0  1  0  0  0  0  0  0]\n",
      " [ 0  0  0  0  1  0  1  9  1  0  0  0  0  0  0]\n",
      " [ 0  0  0  0  0  0  2  0 12  0  0  0  0  0  0]\n",
      " [ 0  0  0  0  0  1  0  0  0 10  1  0  0  0  0]\n",
      " [ 0  0  0  0  0  0  0  1  0  0  6  1  0  0  0]\n",
      " [ 0  0  0  0  0  0  0  0  1  0  0  6  1  0  0]\n",
      " [ 0  0  0  0  0  0  0  0  1  0  2  0 13  3  0]\n",
      " [ 0  0  0  0  0  0  0  0  0  0  0  0  0  9  1]\n",
      " [ 0  0  0  0  0  0  0  0  0  0  0  1  1  0  8]]\n"
     ]
    }
   ],
   "source": [
    "print(metrics.confusion_matrix(y_test, pred_rfc))"
   ]
  },
  {
   "cell_type": "code",
   "execution_count": 103,
   "metadata": {
    "colab": {
     "base_uri": "https://localhost:8080/",
     "height": 51
    },
    "colab_type": "code",
    "id": "SVSeMugxObCD",
    "outputId": "e139cced-62a3-4224-b719-70679179b3af"
   },
   "outputs": [
    {
     "name": "stdout",
     "output_type": "stream",
     "text": [
      "0.5121951219512195\n",
      "1.0932163332202425\n"
     ]
    }
   ],
   "source": [
    "print(metrics.mean_absolute_error(y_testKNN, pred_rfc))\n",
    "print(np.sqrt(metrics.mean_squared_error(y_testKNN, pred_rfc)))"
   ]
  },
  {
   "cell_type": "code",
   "execution_count": 104,
   "metadata": {
    "colab": {
     "base_uri": "https://localhost:8080/",
     "height": 286
    },
    "colab_type": "code",
    "id": "4aCiRwAXO-rL",
    "outputId": "d9f0c810-b42c-4a10-f380-c8737758bbd5"
   },
   "outputs": [
    {
     "data": {
      "text/plain": [
       "<matplotlib.collections.PathCollection at 0x7fa6745be1d0>"
      ]
     },
     "execution_count": 104,
     "metadata": {},
     "output_type": "execute_result"
    },
    {
     "data": {
      "image/png": "[encoded data removed]",
      "text/plain": [
       "<Figure size 432x288 with 1 Axes>"
      ]
     },
     "metadata": {
      "needs_background": "light"
     },
     "output_type": "display_data"
    }
   ],
   "source": [
    "plt.scatter(y_testKNN, pred_rfc)"
   ]
  },
  {
   "cell_type": "code",
   "execution_count": 105,
   "metadata": {
    "colab": {
     "base_uri": "https://localhost:8080/",
     "height": 85
    },
    "colab_type": "code",
    "id": "j_g1efayUvqj",
    "outputId": "048da914-a634-45c5-e180-227c68b5be0f"
   },
   "outputs": [
    {
     "name": "stdout",
     "output_type": "stream",
     "text": [
      "0.7195121951219512\n",
      "0.6646341463414634\n",
      "0.6829268292682927\n",
      "0.524390243902439\n"
     ]
    }
   ],
   "source": [
    "print(metrics.accuracy_score(y_test, pred_rfc))\n",
    "print(metrics.accuracy_score(y_test, pred_dtree))\n",
    "print(metrics.accuracy_score(y_test, pred_KNN))\n",
    "print(metrics.accuracy_score(y_test, pred_LogReg))"
   ]
  },
  {
   "cell_type": "markdown",
   "metadata": {
    "colab": {},
    "colab_type": "code",
    "id": "YgB2Boq3ccLV"
   },
   "source": [
    "## Support Vector Machine"
   ]
  },
  {
   "cell_type": "code",
   "execution_count": 106,
   "metadata": {},
   "outputs": [],
   "source": [
    "from sklearn.svm import SVC"
   ]
  },
  {
   "cell_type": "code",
   "execution_count": 128,
   "metadata": {},
   "outputs": [],
   "source": [
    "svm_model = SVC(C=100,gamma=0.01,kernel='linear')"
   ]
  },
  {
   "cell_type": "code",
   "execution_count": 129,
   "metadata": {},
   "outputs": [
    {
     "data": {
      "text/plain": [
       "SVC(C=100, cache_size=200, class_weight=None, coef0=0.0,\n",
       "    decision_function_shape='ovr', degree=3, gamma=0.01, kernel='linear',\n",
       "    max_iter=-1, probability=False, random_state=None, shrinking=True,\n",
       "    tol=0.001, verbose=False)"
      ]
     },
     "execution_count": 129,
     "metadata": {},
     "output_type": "execute_result"
    }
   ],
   "source": [
    "svm_model.fit(X_train, y_train)"
   ]
  },
  {
   "cell_type": "code",
   "execution_count": 109,
   "metadata": {},
   "outputs": [],
   "source": [
    "pred_svm = svm_model.predict(X_test)"
   ]
  },
  {
   "cell_type": "code",
   "execution_count": 130,
   "metadata": {},
   "outputs": [
    {
     "name": "stdout",
     "output_type": "stream",
     "text": [
      "[[ 1  0  0  0  4  0  0  0  0  0  0  0  0  0  0]\n",
      " [ 0  4  0  0  6  0  0  0  0  0  0  0  0  0  0]\n",
      " [ 0  1  4  0  8  0  0  0  0  0  0  0  0  0  0]\n",
      " [ 0  0  1  5  5  0  1  0  0  0  0  0  0  0  0]\n",
      " [ 0  0  0  0  6  0  0  0  0  0  0  0  0  0  0]\n",
      " [ 0  0  0  0  7  6  0  1  0  0  0  0  0  0  0]\n",
      " [ 0  0  0  0  6  0  5  0  0  0  0  0  0  0  0]\n",
      " [ 0  0  0  0  3  0  0  9  0  0  0  0  0  0  0]\n",
      " [ 0  0  0  0  5  0  0  0  9  0  0  0  0  0  0]\n",
      " [ 0  0  0  0  1  1  0  0  0  9  1  0  0  0  0]\n",
      " [ 0  0  0  0  4  0  0  0  0  0  4  0  0  0  0]\n",
      " [ 0  0  0  0  3  0  0  0  0  0  0  5  0  0  0]\n",
      " [ 0  0  0  0 10  0  0  0  0  0  0  0  8  1  0]\n",
      " [ 0  0  0  0  4  0  0  0  0  0  0  0  0  6  0]\n",
      " [ 0  0  0  0  7  0  0  0  0  0  0  0  0  0  3]]\n"
     ]
    }
   ],
   "source": [
    "print(metrics.confusion_matrix(y_test, pred_svm))"
   ]
  },
  {
   "cell_type": "code",
   "execution_count": 131,
   "metadata": {},
   "outputs": [
    {
     "name": "stdout",
     "output_type": "stream",
     "text": [
      "              precision    recall  f1-score   support\n",
      "\n",
      "           0       1.00      0.20      0.33         5\n",
      "           1       0.80      0.40      0.53        10\n",
      "           2       0.80      0.31      0.44        13\n",
      "           3       1.00      0.42      0.59        12\n",
      "           4       0.08      1.00      0.14         6\n",
      "           5       0.86      0.43      0.57        14\n",
      "           6       0.83      0.45      0.59        11\n",
      "           7       0.90      0.75      0.82        12\n",
      "           8       1.00      0.64      0.78        14\n",
      "           9       1.00      0.75      0.86        12\n",
      "          10       0.80      0.50      0.62         8\n",
      "          11       1.00      0.62      0.77         8\n",
      "          12       1.00      0.42      0.59        19\n",
      "          13       0.86      0.60      0.71        10\n",
      "          14       1.00      0.30      0.46        10\n",
      "\n",
      "    accuracy                           0.51       164\n",
      "   macro avg       0.86      0.52      0.59       164\n",
      "weighted avg       0.89      0.51      0.61       164\n",
      "\n"
     ]
    }
   ],
   "source": [
    "print(metrics.classification_report(y_test, pred_svm))"
   ]
  },
  {
   "cell_type": "code",
   "execution_count": 134,
   "metadata": {},
   "outputs": [
    {
     "name": "stdout",
     "output_type": "stream",
     "text": [
      "2.1463414634146343\n",
      "3.749796742458996\n",
      "0.5121951219512195\n"
     ]
    }
   ],
   "source": [
    "print(metrics.mean_absolute_error(y_test, pred_svm))\n",
    "print(np.sqrt(metrics.mean_squared_error(y_test, pred_svm)))\n",
    "print(metrics.accuracy_score(y_test,pred_svm))"
   ]
  },
  {
   "cell_type": "code",
   "execution_count": 117,
   "metadata": {},
   "outputs": [],
   "source": [
    "from sklearn.model_selection import GridSearchCV"
   ]
  },
  {
   "cell_type": "code",
   "execution_count": 118,
   "metadata": {},
   "outputs": [],
   "source": [
    "param_grid = {'C': [100,1000,10000],'gamma': [0.01,0.001,0.0001,0.00001],'kernel':['sigmoid','rbf']}"
   ]
  },
  {
   "cell_type": "code",
   "execution_count": 119,
   "metadata": {},
   "outputs": [],
   "source": [
    "grid = GridSearchCV(SVC(),param_grid,verbose=5)"
   ]
  },
  {
   "cell_type": "code",
   "execution_count": 120,
   "metadata": {},
   "outputs": [
    {
     "name": "stderr",
     "output_type": "stream",
     "text": [
      "/home/nitish/.local/lib/python3.6/site-packages/sklearn/model_selection/_split.py:1978: FutureWarning: The default value of cv will change from 3 to 5 in version 0.22. Specify it explicitly to silence this warning.\n",
      "  warnings.warn(CV_WARNING, FutureWarning)\n",
      "[Parallel(n_jobs=1)]: Using backend SequentialBackend with 1 concurrent workers.\n",
      "[Parallel(n_jobs=1)]: Done   1 out of   1 | elapsed:    0.0s remaining:    0.0s\n",
      "[Parallel(n_jobs=1)]: Done   2 out of   2 | elapsed:    0.0s remaining:    0.0s\n",
      "[Parallel(n_jobs=1)]: Done   3 out of   3 | elapsed:    0.0s remaining:    0.0s\n",
      "[Parallel(n_jobs=1)]: Done   4 out of   4 | elapsed:    0.1s remaining:    0.0s\n"
     ]
    },
    {
     "name": "stdout",
     "output_type": "stream",
     "text": [
      "Fitting 3 folds for each of 24 candidates, totalling 72 fits\n",
      "[CV] C=100, gamma=0.01, kernel=sigmoid ...............................\n",
      "[CV] ... C=100, gamma=0.01, kernel=sigmoid, score=0.078, total=   0.0s\n",
      "[CV] C=100, gamma=0.01, kernel=sigmoid ...............................\n",
      "[CV] ... C=100, gamma=0.01, kernel=sigmoid, score=0.080, total=   0.0s\n",
      "[CV] C=100, gamma=0.01, kernel=sigmoid ...............................\n",
      "[CV] ... C=100, gamma=0.01, kernel=sigmoid, score=0.075, total=   0.0s\n",
      "[CV] C=100, gamma=0.01, kernel=rbf ...................................\n",
      "[CV] ....... C=100, gamma=0.01, kernel=rbf, score=0.671, total=   0.0s\n",
      "[CV] C=100, gamma=0.01, kernel=rbf ...................................\n",
      "[CV] ....... C=100, gamma=0.01, kernel=rbf, score=0.669, total=   0.0s\n",
      "[CV] C=100, gamma=0.01, kernel=rbf ...................................\n",
      "[CV] ....... C=100, gamma=0.01, kernel=rbf, score=0.704, total=   0.0s\n",
      "[CV] C=100, gamma=0.001, kernel=sigmoid ..............................\n",
      "[CV] .. C=100, gamma=0.001, kernel=sigmoid, score=0.078, total=   0.0s\n",
      "[CV] C=100, gamma=0.001, kernel=sigmoid ..............................\n",
      "[CV] .. C=100, gamma=0.001, kernel=sigmoid, score=0.080, total=   0.0s\n",
      "[CV] C=100, gamma=0.001, kernel=sigmoid ..............................\n",
      "[CV] .. C=100, gamma=0.001, kernel=sigmoid, score=0.075, total=   0.0s\n",
      "[CV] C=100, gamma=0.001, kernel=rbf ..................................\n",
      "[CV] ...... C=100, gamma=0.001, kernel=rbf, score=0.725, total=   0.0s\n",
      "[CV] C=100, gamma=0.001, kernel=rbf ..................................\n",
      "[CV] ...... C=100, gamma=0.001, kernel=rbf, score=0.730, total=   0.0s\n",
      "[CV] C=100, gamma=0.001, kernel=rbf ..................................\n",
      "[CV] ...... C=100, gamma=0.001, kernel=rbf, score=0.717, total=   0.0s\n",
      "[CV] C=100, gamma=0.0001, kernel=sigmoid .............................\n",
      "[CV] . C=100, gamma=0.0001, kernel=sigmoid, score=0.120, total=   0.0s\n",
      "[CV] C=100, gamma=0.0001, kernel=sigmoid .............................\n",
      "[CV] . C=100, gamma=0.0001, kernel=sigmoid, score=0.092, total=   0.0s\n",
      "[CV] C=100, gamma=0.0001, kernel=sigmoid .............................\n",
      "[CV] . C=100, gamma=0.0001, kernel=sigmoid, score=0.050, total=   0.0s\n",
      "[CV] C=100, gamma=0.0001, kernel=rbf .................................\n",
      "[CV] ..... C=100, gamma=0.0001, kernel=rbf, score=0.695, total=   0.0s\n",
      "[CV] C=100, gamma=0.0001, kernel=rbf .................................\n",
      "[CV] ..... C=100, gamma=0.0001, kernel=rbf, score=0.699, total=   0.0s\n",
      "[CV] C=100, gamma=0.0001, kernel=rbf .................................\n",
      "[CV] ..... C=100, gamma=0.0001, kernel=rbf, score=0.667, total=   0.0s\n",
      "[CV] C=100, gamma=1e-05, kernel=sigmoid ..............................\n",
      "[CV] .. C=100, gamma=1e-05, kernel=sigmoid, score=0.563, total=   0.0s\n",
      "[CV] C=100, gamma=1e-05, kernel=sigmoid ..............................\n",
      "[CV] .. C=100, gamma=1e-05, kernel=sigmoid, score=0.650, total=   0.0s\n",
      "[CV] C=100, gamma=1e-05, kernel=sigmoid ..............................\n",
      "[CV] .. C=100, gamma=1e-05, kernel=sigmoid, score=0.616, total=   0.0s\n",
      "[CV] C=100, gamma=1e-05, kernel=rbf ..................................\n",
      "[CV] ...... C=100, gamma=1e-05, kernel=rbf, score=0.647, total=   0.0s\n",
      "[CV] C=100, gamma=1e-05, kernel=rbf ..................................\n",
      "[CV] ...... C=100, gamma=1e-05, kernel=rbf, score=0.712, total=   0.0s\n",
      "[CV] C=100, gamma=1e-05, kernel=rbf ..................................\n",
      "[CV] ...... C=100, gamma=1e-05, kernel=rbf, score=0.698, total=   0.0s\n",
      "[CV] C=1000, gamma=0.01, kernel=sigmoid ..............................\n",
      "[CV] .. C=1000, gamma=0.01, kernel=sigmoid, score=0.078, total=   0.0s\n",
      "[CV] C=1000, gamma=0.01, kernel=sigmoid ..............................\n",
      "[CV] .. C=1000, gamma=0.01, kernel=sigmoid, score=0.080, total=   0.0s\n",
      "[CV] C=1000, gamma=0.01, kernel=sigmoid ..............................\n",
      "[CV] .. C=1000, gamma=0.01, kernel=sigmoid, score=0.075, total=   0.0s\n",
      "[CV] C=1000, gamma=0.01, kernel=rbf ..................................\n",
      "[CV] ...... C=1000, gamma=0.01, kernel=rbf, score=0.671, total=   0.0s\n",
      "[CV] C=1000, gamma=0.01, kernel=rbf ..................................\n",
      "[CV] ...... C=1000, gamma=0.01, kernel=rbf, score=0.669, total=   0.0s\n",
      "[CV] C=1000, gamma=0.01, kernel=rbf ..................................\n",
      "[CV] ...... C=1000, gamma=0.01, kernel=rbf, score=0.704, total=   0.0s\n",
      "[CV] C=1000, gamma=0.001, kernel=sigmoid .............................\n",
      "[CV] . C=1000, gamma=0.001, kernel=sigmoid, score=0.078, total=   0.0s\n",
      "[CV] C=1000, gamma=0.001, kernel=sigmoid .............................\n",
      "[CV] . C=1000, gamma=0.001, kernel=sigmoid, score=0.080, total=   0.0s\n",
      "[CV] C=1000, gamma=0.001, kernel=sigmoid .............................\n",
      "[CV] . C=1000, gamma=0.001, kernel=sigmoid, score=0.075, total=   0.0s\n",
      "[CV] C=1000, gamma=0.001, kernel=rbf .................................\n",
      "[CV] ..... C=1000, gamma=0.001, kernel=rbf, score=0.725, total=   0.0s\n",
      "[CV] C=1000, gamma=0.001, kernel=rbf .................................\n",
      "[CV] ..... C=1000, gamma=0.001, kernel=rbf, score=0.718, total=   0.0s\n",
      "[CV] C=1000, gamma=0.001, kernel=rbf .................................\n",
      "[CV] ..... C=1000, gamma=0.001, kernel=rbf, score=0.704, total=   0.0s\n",
      "[CV] C=1000, gamma=0.0001, kernel=sigmoid ............................\n",
      "[CV]  C=1000, gamma=0.0001, kernel=sigmoid, score=0.108, total=   0.0s\n",
      "[CV] C=1000, gamma=0.0001, kernel=sigmoid ............................\n",
      "[CV]  C=1000, gamma=0.0001, kernel=sigmoid, score=0.031, total=   0.0s\n",
      "[CV] C=1000, gamma=0.0001, kernel=sigmoid ............................\n",
      "[CV]  C=1000, gamma=0.0001, kernel=sigmoid, score=0.038, total=   0.0s\n",
      "[CV] C=1000, gamma=0.0001, kernel=rbf ................................\n",
      "[CV] .... C=1000, gamma=0.0001, kernel=rbf, score=0.713, total=   0.0s\n",
      "[CV] C=1000, gamma=0.0001, kernel=rbf ................................\n",
      "[CV] .... C=1000, gamma=0.0001, kernel=rbf, score=0.699, total=   0.0s\n",
      "[CV] C=1000, gamma=0.0001, kernel=rbf ................................\n",
      "[CV] .... C=1000, gamma=0.0001, kernel=rbf, score=0.742, total=   0.0s\n",
      "[CV] C=1000, gamma=1e-05, kernel=sigmoid .............................\n",
      "[CV] . C=1000, gamma=1e-05, kernel=sigmoid, score=0.647, total=   0.0s\n",
      "[CV] C=1000, gamma=1e-05, kernel=sigmoid .............................\n",
      "[CV] . C=1000, gamma=1e-05, kernel=sigmoid, score=0.558, total=   0.0s\n",
      "[CV] C=1000, gamma=1e-05, kernel=sigmoid .............................\n",
      "[CV] . C=1000, gamma=1e-05, kernel=sigmoid, score=0.566, total=   0.0s\n",
      "[CV] C=1000, gamma=1e-05, kernel=rbf .................................\n",
      "[CV] ..... C=1000, gamma=1e-05, kernel=rbf, score=0.683, total=   0.0s\n",
      "[CV] C=1000, gamma=1e-05, kernel=rbf .................................\n",
      "[CV] ..... C=1000, gamma=1e-05, kernel=rbf, score=0.706, total=   0.0s\n",
      "[CV] C=1000, gamma=1e-05, kernel=rbf .................................\n",
      "[CV] ..... C=1000, gamma=1e-05, kernel=rbf, score=0.686, total=   0.0s\n",
      "[CV] C=10000, gamma=0.01, kernel=sigmoid .............................\n",
      "[CV] . C=10000, gamma=0.01, kernel=sigmoid, score=0.078, total=   0.0s\n",
      "[CV] C=10000, gamma=0.01, kernel=sigmoid .............................\n",
      "[CV] . C=10000, gamma=0.01, kernel=sigmoid, score=0.080, total=   0.0s\n",
      "[CV] C=10000, gamma=0.01, kernel=sigmoid .............................\n",
      "[CV] . C=10000, gamma=0.01, kernel=sigmoid, score=0.075, total=   0.0s\n",
      "[CV] C=10000, gamma=0.01, kernel=rbf .................................\n",
      "[CV] ..... C=10000, gamma=0.01, kernel=rbf, score=0.671, total=   0.0s\n",
      "[CV] C=10000, gamma=0.01, kernel=rbf .................................\n",
      "[CV] ..... C=10000, gamma=0.01, kernel=rbf, score=0.669, total=   0.0s\n",
      "[CV] C=10000, gamma=0.01, kernel=rbf .................................\n",
      "[CV] ..... C=10000, gamma=0.01, kernel=rbf, score=0.704, total=   0.0s\n",
      "[CV] C=10000, gamma=0.001, kernel=sigmoid ............................\n",
      "[CV]  C=10000, gamma=0.001, kernel=sigmoid, score=0.078, total=   0.0s\n",
      "[CV] C=10000, gamma=0.001, kernel=sigmoid ............................\n",
      "[CV]  C=10000, gamma=0.001, kernel=sigmoid, score=0.080, total=   0.0s\n",
      "[CV] C=10000, gamma=0.001, kernel=sigmoid ............................\n",
      "[CV]  C=10000, gamma=0.001, kernel=sigmoid, score=0.075, total=   0.0s\n",
      "[CV] C=10000, gamma=0.001, kernel=rbf ................................\n",
      "[CV] .... C=10000, gamma=0.001, kernel=rbf, score=0.725, total=   0.0s\n",
      "[CV] C=10000, gamma=0.001, kernel=rbf ................................\n",
      "[CV] .... C=10000, gamma=0.001, kernel=rbf, score=0.718, total=   0.0s\n",
      "[CV] C=10000, gamma=0.001, kernel=rbf ................................\n",
      "[CV] .... C=10000, gamma=0.001, kernel=rbf, score=0.704, total=   0.0s\n",
      "[CV] C=10000, gamma=0.0001, kernel=sigmoid ...........................\n",
      "[CV]  C=10000, gamma=0.0001, kernel=sigmoid, score=0.060, total=   0.0s\n",
      "[CV] C=10000, gamma=0.0001, kernel=sigmoid ...........................\n",
      "[CV]  C=10000, gamma=0.0001, kernel=sigmoid, score=0.037, total=   0.0s\n",
      "[CV] C=10000, gamma=0.0001, kernel=sigmoid ...........................\n",
      "[CV]  C=10000, gamma=0.0001, kernel=sigmoid, score=0.044, total=   0.0s\n",
      "[CV] C=10000, gamma=0.0001, kernel=rbf ...............................\n",
      "[CV] ... C=10000, gamma=0.0001, kernel=rbf, score=0.719, total=   0.0s\n",
      "[CV] C=10000, gamma=0.0001, kernel=rbf ...............................\n",
      "[CV] ... C=10000, gamma=0.0001, kernel=rbf, score=0.718, total=   0.0s\n",
      "[CV] C=10000, gamma=0.0001, kernel=rbf ...............................\n"
     ]
    },
    {
     "name": "stdout",
     "output_type": "stream",
     "text": [
      "[CV] ... C=10000, gamma=0.0001, kernel=rbf, score=0.723, total=   0.0s\n",
      "[CV] C=10000, gamma=1e-05, kernel=sigmoid ............................\n",
      "[CV]  C=10000, gamma=1e-05, kernel=sigmoid, score=0.581, total=   0.0s\n",
      "[CV] C=10000, gamma=1e-05, kernel=sigmoid ............................\n",
      "[CV]  C=10000, gamma=1e-05, kernel=sigmoid, score=0.521, total=   0.0s\n",
      "[CV] C=10000, gamma=1e-05, kernel=sigmoid ............................\n",
      "[CV]  C=10000, gamma=1e-05, kernel=sigmoid, score=0.535, total=   0.0s\n",
      "[CV] C=10000, gamma=1e-05, kernel=rbf ................................\n",
      "[CV] .... C=10000, gamma=1e-05, kernel=rbf, score=0.689, total=   0.0s\n",
      "[CV] C=10000, gamma=1e-05, kernel=rbf ................................\n",
      "[CV] .... C=10000, gamma=1e-05, kernel=rbf, score=0.699, total=   0.0s\n",
      "[CV] C=10000, gamma=1e-05, kernel=rbf ................................\n",
      "[CV] .... C=10000, gamma=1e-05, kernel=rbf, score=0.667, total=   0.0s\n"
     ]
    },
    {
     "name": "stderr",
     "output_type": "stream",
     "text": [
      "[Parallel(n_jobs=1)]: Done  72 out of  72 | elapsed:    1.4s finished\n",
      "/home/nitish/.local/lib/python3.6/site-packages/sklearn/model_selection/_search.py:813: DeprecationWarning: The default of the `iid` parameter will change from True to False in version 0.22 and will be removed in 0.24. This will change numeric results when test-set sizes are unequal.\n",
      "  DeprecationWarning)\n"
     ]
    },
    {
     "data": {
      "text/plain": [
       "GridSearchCV(cv='warn', error_score='raise-deprecating',\n",
       "             estimator=SVC(C=1.0, cache_size=200, class_weight=None, coef0=0.0,\n",
       "                           decision_function_shape='ovr', degree=3,\n",
       "                           gamma='auto_deprecated', kernel='rbf', max_iter=-1,\n",
       "                           probability=False, random_state=None, shrinking=True,\n",
       "                           tol=0.001, verbose=False),\n",
       "             iid='warn', n_jobs=None,\n",
       "             param_grid={'C': [100, 1000, 10000],\n",
       "                         'gamma': [0.01, 0.001, 0.0001, 1e-05],\n",
       "                         'kernel': ['sigmoid', 'rbf']},\n",
       "             pre_dispatch='2*n_jobs', refit=True, return_train_score=False,\n",
       "             scoring=None, verbose=5)"
      ]
     },
     "execution_count": 120,
     "metadata": {},
     "output_type": "execute_result"
    }
   ],
   "source": [
    "grid.fit(X_train, y_train)"
   ]
  },
  {
   "cell_type": "code",
   "execution_count": 121,
   "metadata": {},
   "outputs": [
    {
     "data": {
      "text/plain": [
       "{'C': 100, 'gamma': 0.001, 'kernel': 'rbf'}"
      ]
     },
     "execution_count": 121,
     "metadata": {},
     "output_type": "execute_result"
    }
   ],
   "source": [
    "grid.best_params_"
   ]
  },
  {
   "cell_type": "code",
   "execution_count": 122,
   "metadata": {},
   "outputs": [
    {
     "data": {
      "text/plain": [
       "SVC(C=100, cache_size=200, class_weight=None, coef0=0.0,\n",
       "    decision_function_shape='ovr', degree=3, gamma=0.001, kernel='rbf',\n",
       "    max_iter=-1, probability=False, random_state=None, shrinking=True,\n",
       "    tol=0.001, verbose=False)"
      ]
     },
     "execution_count": 122,
     "metadata": {},
     "output_type": "execute_result"
    }
   ],
   "source": [
    "grid.best_estimator_"
   ]
  },
  {
   "cell_type": "code",
   "execution_count": 123,
   "metadata": {},
   "outputs": [],
   "source": [
    "pred_grid = grid.predict(X_test)"
   ]
  },
  {
   "cell_type": "code",
   "execution_count": 124,
   "metadata": {},
   "outputs": [
    {
     "name": "stdout",
     "output_type": "stream",
     "text": [
      "[[ 2  3  0  0  0  0  0  0  0  0  0  0  0  0  0]\n",
      " [ 1  7  2  0  0  0  0  0  0  0  0  0  0  0  0]\n",
      " [ 0  6  6  1  0  0  0  0  0  0  0  0  0  0  0]\n",
      " [ 1  1  1  7  2  0  0  0  0  0  0  0  0  0  0]\n",
      " [ 0  1  0  1  4  0  0  0  0  0  0  0  0  0  0]\n",
      " [ 0  1  1  0  2  7  0  2  0  1  0  0  0  0  0]\n",
      " [ 0  0  1  0  0  0  9  0  1  0  0  0  0  0  0]\n",
      " [ 0  0  0  0  1  0  1  9  1  0  0  0  0  0  0]\n",
      " [ 0  0  0  0  1  1  0  0 11  1  0  0  0  0  0]\n",
      " [ 0  0  0  0  0  1  0  0  0 10  1  0  0  0  0]\n",
      " [ 0  0  0  0  0  0  0  0  1  0  6  1  0  0  0]\n",
      " [ 0  0  0  0  0  0  0  0  1  0  0  5  2  0  0]\n",
      " [ 0  0  0  0  0  0  0  0  1  0  1  3 12  2  0]\n",
      " [ 0  0  0  0  0  0  0  0  0  0  0  0  0  9  1]\n",
      " [ 0  0  0  0  0  0  0  0  0  0  0  0  0  3  7]]\n"
     ]
    }
   ],
   "source": [
    "print(metrics.confusion_matrix(y_test, pred_grid))"
   ]
  },
  {
   "cell_type": "code",
   "execution_count": 125,
   "metadata": {},
   "outputs": [
    {
     "name": "stdout",
     "output_type": "stream",
     "text": [
      "              precision    recall  f1-score   support\n",
      "\n",
      "           0       0.50      0.40      0.44         5\n",
      "           1       0.37      0.70      0.48        10\n",
      "           2       0.55      0.46      0.50        13\n",
      "           3       0.78      0.58      0.67        12\n",
      "           4       0.40      0.67      0.50         6\n",
      "           5       0.78      0.50      0.61        14\n",
      "           6       0.90      0.82      0.86        11\n",
      "           7       0.82      0.75      0.78        12\n",
      "           8       0.69      0.79      0.73        14\n",
      "           9       0.83      0.83      0.83        12\n",
      "          10       0.75      0.75      0.75         8\n",
      "          11       0.56      0.62      0.59         8\n",
      "          12       0.86      0.63      0.73        19\n",
      "          13       0.64      0.90      0.75        10\n",
      "          14       0.88      0.70      0.78        10\n",
      "\n",
      "    accuracy                           0.68       164\n",
      "   macro avg       0.69      0.67      0.67       164\n",
      "weighted avg       0.71      0.68      0.68       164\n",
      "\n"
     ]
    }
   ],
   "source": [
    "print(metrics.classification_report(y_test, pred_grid))"
   ]
  },
  {
   "cell_type": "code",
   "execution_count": 126,
   "metadata": {},
   "outputs": [
    {
     "name": "stdout",
     "output_type": "stream",
     "text": [
      "0.5426829268292683\n",
      "1.1288889422358779\n"
     ]
    }
   ],
   "source": [
    "print(metrics.mean_absolute_error(y_test, pred_grid))\n",
    "print(np.sqrt(metrics.mean_squared_error(y_test, pred_grid)))"
   ]
  },
  {
   "cell_type": "code",
   "execution_count": 133,
   "metadata": {},
   "outputs": [
    {
     "name": "stdout",
     "output_type": "stream",
     "text": [
      "0.676829268292683\n"
     ]
    }
   ],
   "source": [
    "print(metrics.accuracy_score(y_test,pred_grid))"
   ]
  },
  {
   "cell_type": "code",
   "execution_count": null,
   "metadata": {},
   "outputs": [],
   "source": []
  },
  {
   "cell_type": "code",
   "execution_count": null,
   "metadata": {},
   "outputs": [],
   "source": []
  }
 ],
 "metadata": {
  "accelerator": "GPU",
  "colab": {
   "name": "pHDataProcessing.ipynb",
   "provenance": [],
   "version": "0.3.2"
  },
  "kernelspec": {
   "display_name": "Python 3",
   "language": "python",
   "name": "python3"
  },
  "language_info": {
   "codemirror_mode": {
    "name": "ipython",
    "version": 3
   },
   "file_extension": ".py",
   "mimetype": "text/x-python",
   "name": "python",
   "nbconvert_exporter": "python",
   "pygments_lexer": "ipython3",
   "version": "3.6.8"
  }
 },
 "nbformat": 4,
 "nbformat_minor": 1
}
