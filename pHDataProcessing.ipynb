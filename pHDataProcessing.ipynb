{
  "nbformat": 4,
  "nbformat_minor": 0,
  "metadata": {
    "kernelspec": {
      "name": "python3",
      "display_name": "Python 3"
    },
    "language_info": {
      "codemirror_mode": {
        "name": "ipython",
        "version": 3
      },
      "file_extension": ".py",
      "mimetype": "text/x-python",
      "name": "python",
      "nbconvert_exporter": "python",
      "pygments_lexer": "ipython3",
      "version": "3.6.8"
    },
    "colab": {
      "name": "pHDataProcessing.ipynb",
      "version": "0.3.2",
      "provenance": []
    },
    "accelerator": "GPU"
  },
  "cells": [
    {
      "cell_type": "code",
      "metadata": {
        "id": "6N3Yx7hJQCNx",
        "colab_type": "code",
        "colab": {}
      },
      "source": [
        "import numpy as np\n",
        "import pandas as pd\n",
        "import matplotlib.pyplot as plt"
      ],
      "execution_count": 0,
      "outputs": []
    },
    {
      "cell_type": "code",
      "metadata": {
        "id": "pV8gfNwAQCN1",
        "colab_type": "code",
        "colab": {}
      },
      "source": [
        "df = pd.read_csv('ph-data.csv')"
      ],
      "execution_count": 0,
      "outputs": []
    },
    {
      "cell_type": "code",
      "metadata": {
        "id": "AzPlneQnQCN4",
        "colab_type": "code",
        "colab": {
          "base_uri": "https://localhost:8080/",
          "height": 204
        },
        "outputId": "cb64636f-84f2-4eaf-a52b-826c6ed7e511"
      },
      "source": [
        "df.head()"
      ],
      "execution_count": 97,
      "outputs": [
        {
          "output_type": "execute_result",
          "data": {
            "text/html": [
              "<div>\n",
              "<style scoped>\n",
              "    .dataframe tbody tr th:only-of-type {\n",
              "        vertical-align: middle;\n",
              "    }\n",
              "\n",
              "    .dataframe tbody tr th {\n",
              "        vertical-align: top;\n",
              "    }\n",
              "\n",
              "    .dataframe thead th {\n",
              "        text-align: right;\n",
              "    }\n",
              "</style>\n",
              "<table border=\"1\" class=\"dataframe\">\n",
              "  <thead>\n",
              "    <tr style=\"text-align: right;\">\n",
              "      <th></th>\n",
              "      <th>blue</th>\n",
              "      <th>green</th>\n",
              "      <th>red</th>\n",
              "      <th>label</th>\n",
              "    </tr>\n",
              "  </thead>\n",
              "  <tbody>\n",
              "    <tr>\n",
              "      <th>0</th>\n",
              "      <td>36</td>\n",
              "      <td>27</td>\n",
              "      <td>231</td>\n",
              "      <td>0</td>\n",
              "    </tr>\n",
              "    <tr>\n",
              "      <th>1</th>\n",
              "      <td>36</td>\n",
              "      <td>84</td>\n",
              "      <td>250</td>\n",
              "      <td>1</td>\n",
              "    </tr>\n",
              "    <tr>\n",
              "      <th>2</th>\n",
              "      <td>37</td>\n",
              "      <td>164</td>\n",
              "      <td>255</td>\n",
              "      <td>2</td>\n",
              "    </tr>\n",
              "    <tr>\n",
              "      <th>3</th>\n",
              "      <td>22</td>\n",
              "      <td>205</td>\n",
              "      <td>255</td>\n",
              "      <td>3</td>\n",
              "    </tr>\n",
              "    <tr>\n",
              "      <th>4</th>\n",
              "      <td>38</td>\n",
              "      <td>223</td>\n",
              "      <td>221</td>\n",
              "      <td>4</td>\n",
              "    </tr>\n",
              "  </tbody>\n",
              "</table>\n",
              "</div>"
            ],
            "text/plain": [
              "   blue  green  red  label\n",
              "0    36     27  231      0\n",
              "1    36     84  250      1\n",
              "2    37    164  255      2\n",
              "3    22    205  255      3\n",
              "4    38    223  221      4"
            ]
          },
          "metadata": {
            "tags": []
          },
          "execution_count": 97
        }
      ]
    },
    {
      "cell_type": "code",
      "metadata": {
        "id": "wRttdB6-QCN9",
        "colab_type": "code",
        "colab": {
          "base_uri": "https://localhost:8080/",
          "height": 170
        },
        "outputId": "79d56643-9367-4223-ac40-4ed6f2aa0232"
      },
      "source": [
        "df.info()"
      ],
      "execution_count": 98,
      "outputs": [
        {
          "output_type": "stream",
          "text": [
            "<class 'pandas.core.frame.DataFrame'>\n",
            "RangeIndex: 653 entries, 0 to 652\n",
            "Data columns (total 4 columns):\n",
            "blue     653 non-null int64\n",
            "green    653 non-null int64\n",
            "red      653 non-null int64\n",
            "label    653 non-null int64\n",
            "dtypes: int64(4)\n",
            "memory usage: 20.5 KB\n"
          ],
          "name": "stdout"
        }
      ]
    },
    {
      "cell_type": "code",
      "metadata": {
        "id": "X5cqVk_cQCOB",
        "colab_type": "code",
        "colab": {
          "base_uri": "https://localhost:8080/",
          "height": 297
        },
        "outputId": "55d07224-bef9-4ad2-c0e1-6a0f69090df1"
      },
      "source": [
        "df.describe()"
      ],
      "execution_count": 99,
      "outputs": [
        {
          "output_type": "execute_result",
          "data": {
            "text/html": [
              "<div>\n",
              "<style scoped>\n",
              "    .dataframe tbody tr th:only-of-type {\n",
              "        vertical-align: middle;\n",
              "    }\n",
              "\n",
              "    .dataframe tbody tr th {\n",
              "        vertical-align: top;\n",
              "    }\n",
              "\n",
              "    .dataframe thead th {\n",
              "        text-align: right;\n",
              "    }\n",
              "</style>\n",
              "<table border=\"1\" class=\"dataframe\">\n",
              "  <thead>\n",
              "    <tr style=\"text-align: right;\">\n",
              "      <th></th>\n",
              "      <th>blue</th>\n",
              "      <th>green</th>\n",
              "      <th>red</th>\n",
              "      <th>label</th>\n",
              "    </tr>\n",
              "  </thead>\n",
              "  <tbody>\n",
              "    <tr>\n",
              "      <th>count</th>\n",
              "      <td>653.000000</td>\n",
              "      <td>653.000000</td>\n",
              "      <td>653.000000</td>\n",
              "      <td>653.000000</td>\n",
              "    </tr>\n",
              "    <tr>\n",
              "      <th>mean</th>\n",
              "      <td>89.290965</td>\n",
              "      <td>130.094946</td>\n",
              "      <td>120.655436</td>\n",
              "      <td>7.055130</td>\n",
              "    </tr>\n",
              "    <tr>\n",
              "      <th>std</th>\n",
              "      <td>74.974850</td>\n",
              "      <td>72.487085</td>\n",
              "      <td>89.581264</td>\n",
              "      <td>4.287951</td>\n",
              "    </tr>\n",
              "    <tr>\n",
              "      <th>min</th>\n",
              "      <td>0.000000</td>\n",
              "      <td>0.000000</td>\n",
              "      <td>0.000000</td>\n",
              "      <td>0.000000</td>\n",
              "    </tr>\n",
              "    <tr>\n",
              "      <th>25%</th>\n",
              "      <td>22.000000</td>\n",
              "      <td>68.000000</td>\n",
              "      <td>52.000000</td>\n",
              "      <td>3.000000</td>\n",
              "    </tr>\n",
              "    <tr>\n",
              "      <th>50%</th>\n",
              "      <td>67.000000</td>\n",
              "      <td>146.000000</td>\n",
              "      <td>90.000000</td>\n",
              "      <td>7.000000</td>\n",
              "    </tr>\n",
              "    <tr>\n",
              "      <th>75%</th>\n",
              "      <td>162.000000</td>\n",
              "      <td>189.000000</td>\n",
              "      <td>224.000000</td>\n",
              "      <td>11.000000</td>\n",
              "    </tr>\n",
              "    <tr>\n",
              "      <th>max</th>\n",
              "      <td>255.000000</td>\n",
              "      <td>255.000000</td>\n",
              "      <td>255.000000</td>\n",
              "      <td>14.000000</td>\n",
              "    </tr>\n",
              "  </tbody>\n",
              "</table>\n",
              "</div>"
            ],
            "text/plain": [
              "             blue       green         red       label\n",
              "count  653.000000  653.000000  653.000000  653.000000\n",
              "mean    89.290965  130.094946  120.655436    7.055130\n",
              "std     74.974850   72.487085   89.581264    4.287951\n",
              "min      0.000000    0.000000    0.000000    0.000000\n",
              "25%     22.000000   68.000000   52.000000    3.000000\n",
              "50%     67.000000  146.000000   90.000000    7.000000\n",
              "75%    162.000000  189.000000  224.000000   11.000000\n",
              "max    255.000000  255.000000  255.000000   14.000000"
            ]
          },
          "metadata": {
            "tags": []
          },
          "execution_count": 99
        }
      ]
    },
    {
      "cell_type": "code",
      "metadata": {
        "id": "buKOgMNBQCOE",
        "colab_type": "code",
        "colab": {}
      },
      "source": [
        "# Mean label is 7.05 which shows that this the average pH is around 7 which is neutral.\n",
        "# Min pH is 0 and max pH is 14.\n",
        "# Thus data obtained is optimal for training our model."
      ],
      "execution_count": 0,
      "outputs": []
    },
    {
      "cell_type": "code",
      "metadata": {
        "id": "LlUtkycCQCOH",
        "colab_type": "code",
        "colab": {}
      },
      "source": [
        "%matplotlib inline"
      ],
      "execution_count": 0,
      "outputs": []
    },
    {
      "cell_type": "code",
      "metadata": {
        "scrolled": true,
        "id": "0byODb_GQCOL",
        "colab_type": "code",
        "colab": {
          "base_uri": "https://localhost:8080/",
          "height": 283
        },
        "outputId": "3f9e0d6d-4009-4973-8dfd-d5e2fe5eb40a"
      },
      "source": [
        "plt.plot(df['label'].value_counts().sort_index())\n",
        "plt.xlabel('pH values')\n",
        "plt.ylabel('Value Count')\n",
        "plt.show()"
      ],
      "execution_count": 102,
      "outputs": [
        {
          "output_type": "display_data",
          "data": {
            "image/png": "[encoded data removed]",
            "text/plain": [
              "<Figure size 432x288 with 1 Axes>"
            ]
          },
          "metadata": {
            "tags": []
          }
        }
      ]
    },
    {
      "cell_type": "code",
      "metadata": {
        "id": "xLQE5vZuQCOO",
        "colab_type": "code",
        "colab": {
          "base_uri": "https://localhost:8080/",
          "height": 1000
        },
        "outputId": "b4386711-3085-4404-9f25-7d4756eca952"
      },
      "source": [
        "df"
      ],
      "execution_count": 103,
      "outputs": [
        {
          "output_type": "execute_result",
          "data": {
            "text/html": [
              "<div>\n",
              "<style scoped>\n",
              "    .dataframe tbody tr th:only-of-type {\n",
              "        vertical-align: middle;\n",
              "    }\n",
              "\n",
              "    .dataframe tbody tr th {\n",
              "        vertical-align: top;\n",
              "    }\n",
              "\n",
              "    .dataframe thead th {\n",
              "        text-align: right;\n",
              "    }\n",
              "</style>\n",
              "<table border=\"1\" class=\"dataframe\">\n",
              "  <thead>\n",
              "    <tr style=\"text-align: right;\">\n",
              "      <th></th>\n",
              "      <th>blue</th>\n",
              "      <th>green</th>\n",
              "      <th>red</th>\n",
              "      <th>label</th>\n",
              "    </tr>\n",
              "  </thead>\n",
              "  <tbody>\n",
              "    <tr>\n",
              "      <th>0</th>\n",
              "      <td>36</td>\n",
              "      <td>27</td>\n",
              "      <td>231</td>\n",
              "      <td>0</td>\n",
              "    </tr>\n",
              "    <tr>\n",
              "      <th>1</th>\n",
              "      <td>36</td>\n",
              "      <td>84</td>\n",
              "      <td>250</td>\n",
              "      <td>1</td>\n",
              "    </tr>\n",
              "    <tr>\n",
              "      <th>2</th>\n",
              "      <td>37</td>\n",
              "      <td>164</td>\n",
              "      <td>255</td>\n",
              "      <td>2</td>\n",
              "    </tr>\n",
              "    <tr>\n",
              "      <th>3</th>\n",
              "      <td>22</td>\n",
              "      <td>205</td>\n",
              "      <td>255</td>\n",
              "      <td>3</td>\n",
              "    </tr>\n",
              "    <tr>\n",
              "      <th>4</th>\n",
              "      <td>38</td>\n",
              "      <td>223</td>\n",
              "      <td>221</td>\n",
              "      <td>4</td>\n",
              "    </tr>\n",
              "    <tr>\n",
              "      <th>5</th>\n",
              "      <td>29</td>\n",
              "      <td>214</td>\n",
              "      <td>148</td>\n",
              "      <td>5</td>\n",
              "    </tr>\n",
              "    <tr>\n",
              "      <th>6</th>\n",
              "      <td>0</td>\n",
              "      <td>181</td>\n",
              "      <td>76</td>\n",
              "      <td>6</td>\n",
              "    </tr>\n",
              "    <tr>\n",
              "      <th>7</th>\n",
              "      <td>13</td>\n",
              "      <td>156</td>\n",
              "      <td>0</td>\n",
              "      <td>7</td>\n",
              "    </tr>\n",
              "    <tr>\n",
              "      <th>8</th>\n",
              "      <td>92</td>\n",
              "      <td>166</td>\n",
              "      <td>0</td>\n",
              "      <td>8</td>\n",
              "    </tr>\n",
              "    <tr>\n",
              "      <th>9</th>\n",
              "      <td>184</td>\n",
              "      <td>191</td>\n",
              "      <td>0</td>\n",
              "      <td>9</td>\n",
              "    </tr>\n",
              "    <tr>\n",
              "      <th>10</th>\n",
              "      <td>200</td>\n",
              "      <td>136</td>\n",
              "      <td>1</td>\n",
              "      <td>10</td>\n",
              "    </tr>\n",
              "    <tr>\n",
              "      <th>11</th>\n",
              "      <td>198</td>\n",
              "      <td>76</td>\n",
              "      <td>0</td>\n",
              "      <td>11</td>\n",
              "    </tr>\n",
              "    <tr>\n",
              "      <th>12</th>\n",
              "      <td>180</td>\n",
              "      <td>38</td>\n",
              "      <td>51</td>\n",
              "      <td>12</td>\n",
              "    </tr>\n",
              "    <tr>\n",
              "      <th>13</th>\n",
              "      <td>181</td>\n",
              "      <td>22</td>\n",
              "      <td>72</td>\n",
              "      <td>13</td>\n",
              "    </tr>\n",
              "    <tr>\n",
              "      <th>14</th>\n",
              "      <td>140</td>\n",
              "      <td>17</td>\n",
              "      <td>57</td>\n",
              "      <td>14</td>\n",
              "    </tr>\n",
              "    <tr>\n",
              "      <th>15</th>\n",
              "      <td>38</td>\n",
              "      <td>27</td>\n",
              "      <td>237</td>\n",
              "      <td>0</td>\n",
              "    </tr>\n",
              "    <tr>\n",
              "      <th>16</th>\n",
              "      <td>50</td>\n",
              "      <td>100</td>\n",
              "      <td>244</td>\n",
              "      <td>1</td>\n",
              "    </tr>\n",
              "    <tr>\n",
              "      <th>17</th>\n",
              "      <td>30</td>\n",
              "      <td>143</td>\n",
              "      <td>247</td>\n",
              "      <td>2</td>\n",
              "    </tr>\n",
              "    <tr>\n",
              "      <th>18</th>\n",
              "      <td>36</td>\n",
              "      <td>195</td>\n",
              "      <td>255</td>\n",
              "      <td>3</td>\n",
              "    </tr>\n",
              "    <tr>\n",
              "      <th>19</th>\n",
              "      <td>0</td>\n",
              "      <td>242</td>\n",
              "      <td>254</td>\n",
              "      <td>4</td>\n",
              "    </tr>\n",
              "    <tr>\n",
              "      <th>20</th>\n",
              "      <td>65</td>\n",
              "      <td>195</td>\n",
              "      <td>132</td>\n",
              "      <td>5</td>\n",
              "    </tr>\n",
              "    <tr>\n",
              "      <th>21</th>\n",
              "      <td>73</td>\n",
              "      <td>183</td>\n",
              "      <td>77</td>\n",
              "      <td>6</td>\n",
              "    </tr>\n",
              "    <tr>\n",
              "      <th>22</th>\n",
              "      <td>75</td>\n",
              "      <td>169</td>\n",
              "      <td>51</td>\n",
              "      <td>7</td>\n",
              "    </tr>\n",
              "    <tr>\n",
              "      <th>23</th>\n",
              "      <td>182</td>\n",
              "      <td>184</td>\n",
              "      <td>10</td>\n",
              "      <td>8</td>\n",
              "    </tr>\n",
              "    <tr>\n",
              "      <th>24</th>\n",
              "      <td>205</td>\n",
              "      <td>144</td>\n",
              "      <td>70</td>\n",
              "      <td>9</td>\n",
              "    </tr>\n",
              "    <tr>\n",
              "      <th>25</th>\n",
              "      <td>166</td>\n",
              "      <td>87</td>\n",
              "      <td>60</td>\n",
              "      <td>10</td>\n",
              "    </tr>\n",
              "    <tr>\n",
              "      <th>26</th>\n",
              "      <td>162</td>\n",
              "      <td>81</td>\n",
              "      <td>90</td>\n",
              "      <td>11</td>\n",
              "    </tr>\n",
              "    <tr>\n",
              "      <th>27</th>\n",
              "      <td>157</td>\n",
              "      <td>69</td>\n",
              "      <td>99</td>\n",
              "      <td>12</td>\n",
              "    </tr>\n",
              "    <tr>\n",
              "      <th>28</th>\n",
              "      <td>128</td>\n",
              "      <td>33</td>\n",
              "      <td>108</td>\n",
              "      <td>13</td>\n",
              "    </tr>\n",
              "    <tr>\n",
              "      <th>29</th>\n",
              "      <td>110</td>\n",
              "      <td>23</td>\n",
              "      <td>73</td>\n",
              "      <td>14</td>\n",
              "    </tr>\n",
              "    <tr>\n",
              "      <th>...</th>\n",
              "      <td>...</td>\n",
              "      <td>...</td>\n",
              "      <td>...</td>\n",
              "      <td>...</td>\n",
              "    </tr>\n",
              "    <tr>\n",
              "      <th>623</th>\n",
              "      <td>15</td>\n",
              "      <td>0</td>\n",
              "      <td>192</td>\n",
              "      <td>0</td>\n",
              "    </tr>\n",
              "    <tr>\n",
              "      <th>624</th>\n",
              "      <td>26</td>\n",
              "      <td>100</td>\n",
              "      <td>194</td>\n",
              "      <td>1</td>\n",
              "    </tr>\n",
              "    <tr>\n",
              "      <th>625</th>\n",
              "      <td>37</td>\n",
              "      <td>161</td>\n",
              "      <td>225</td>\n",
              "      <td>2</td>\n",
              "    </tr>\n",
              "    <tr>\n",
              "      <th>626</th>\n",
              "      <td>12</td>\n",
              "      <td>192</td>\n",
              "      <td>244</td>\n",
              "      <td>3</td>\n",
              "    </tr>\n",
              "    <tr>\n",
              "      <th>627</th>\n",
              "      <td>19</td>\n",
              "      <td>227</td>\n",
              "      <td>192</td>\n",
              "      <td>4</td>\n",
              "    </tr>\n",
              "    <tr>\n",
              "      <th>628</th>\n",
              "      <td>10</td>\n",
              "      <td>199</td>\n",
              "      <td>137</td>\n",
              "      <td>5</td>\n",
              "    </tr>\n",
              "    <tr>\n",
              "      <th>629</th>\n",
              "      <td>12</td>\n",
              "      <td>173</td>\n",
              "      <td>117</td>\n",
              "      <td>6</td>\n",
              "    </tr>\n",
              "    <tr>\n",
              "      <th>630</th>\n",
              "      <td>9</td>\n",
              "      <td>146</td>\n",
              "      <td>95</td>\n",
              "      <td>7</td>\n",
              "    </tr>\n",
              "    <tr>\n",
              "      <th>631</th>\n",
              "      <td>98</td>\n",
              "      <td>157</td>\n",
              "      <td>96</td>\n",
              "      <td>8</td>\n",
              "    </tr>\n",
              "    <tr>\n",
              "      <th>632</th>\n",
              "      <td>180</td>\n",
              "      <td>175</td>\n",
              "      <td>96</td>\n",
              "      <td>9</td>\n",
              "    </tr>\n",
              "    <tr>\n",
              "      <th>633</th>\n",
              "      <td>206</td>\n",
              "      <td>128</td>\n",
              "      <td>85</td>\n",
              "      <td>10</td>\n",
              "    </tr>\n",
              "    <tr>\n",
              "      <th>634</th>\n",
              "      <td>209</td>\n",
              "      <td>64</td>\n",
              "      <td>56</td>\n",
              "      <td>11</td>\n",
              "    </tr>\n",
              "    <tr>\n",
              "      <th>635</th>\n",
              "      <td>170</td>\n",
              "      <td>63</td>\n",
              "      <td>59</td>\n",
              "      <td>12</td>\n",
              "    </tr>\n",
              "    <tr>\n",
              "      <th>636</th>\n",
              "      <td>184</td>\n",
              "      <td>48</td>\n",
              "      <td>74</td>\n",
              "      <td>13</td>\n",
              "    </tr>\n",
              "    <tr>\n",
              "      <th>637</th>\n",
              "      <td>146</td>\n",
              "      <td>31</td>\n",
              "      <td>71</td>\n",
              "      <td>14</td>\n",
              "    </tr>\n",
              "    <tr>\n",
              "      <th>638</th>\n",
              "      <td>3</td>\n",
              "      <td>0</td>\n",
              "      <td>199</td>\n",
              "      <td>0</td>\n",
              "    </tr>\n",
              "    <tr>\n",
              "      <th>639</th>\n",
              "      <td>1</td>\n",
              "      <td>79</td>\n",
              "      <td>232</td>\n",
              "      <td>1</td>\n",
              "    </tr>\n",
              "    <tr>\n",
              "      <th>640</th>\n",
              "      <td>26</td>\n",
              "      <td>139</td>\n",
              "      <td>255</td>\n",
              "      <td>2</td>\n",
              "    </tr>\n",
              "    <tr>\n",
              "      <th>641</th>\n",
              "      <td>2</td>\n",
              "      <td>197</td>\n",
              "      <td>255</td>\n",
              "      <td>3</td>\n",
              "    </tr>\n",
              "    <tr>\n",
              "      <th>642</th>\n",
              "      <td>0</td>\n",
              "      <td>230</td>\n",
              "      <td>177</td>\n",
              "      <td>4</td>\n",
              "    </tr>\n",
              "    <tr>\n",
              "      <th>643</th>\n",
              "      <td>1</td>\n",
              "      <td>204</td>\n",
              "      <td>87</td>\n",
              "      <td>5</td>\n",
              "    </tr>\n",
              "    <tr>\n",
              "      <th>644</th>\n",
              "      <td>0</td>\n",
              "      <td>171</td>\n",
              "      <td>43</td>\n",
              "      <td>6</td>\n",
              "    </tr>\n",
              "    <tr>\n",
              "      <th>645</th>\n",
              "      <td>1</td>\n",
              "      <td>150</td>\n",
              "      <td>40</td>\n",
              "      <td>7</td>\n",
              "    </tr>\n",
              "    <tr>\n",
              "      <th>646</th>\n",
              "      <td>97</td>\n",
              "      <td>164</td>\n",
              "      <td>1</td>\n",
              "      <td>8</td>\n",
              "    </tr>\n",
              "    <tr>\n",
              "      <th>647</th>\n",
              "      <td>192</td>\n",
              "      <td>190</td>\n",
              "      <td>5</td>\n",
              "      <td>9</td>\n",
              "    </tr>\n",
              "    <tr>\n",
              "      <th>648</th>\n",
              "      <td>201</td>\n",
              "      <td>123</td>\n",
              "      <td>0</td>\n",
              "      <td>10</td>\n",
              "    </tr>\n",
              "    <tr>\n",
              "      <th>649</th>\n",
              "      <td>203</td>\n",
              "      <td>51</td>\n",
              "      <td>46</td>\n",
              "      <td>11</td>\n",
              "    </tr>\n",
              "    <tr>\n",
              "      <th>650</th>\n",
              "      <td>169</td>\n",
              "      <td>62</td>\n",
              "      <td>48</td>\n",
              "      <td>12</td>\n",
              "    </tr>\n",
              "    <tr>\n",
              "      <th>651</th>\n",
              "      <td>173</td>\n",
              "      <td>37</td>\n",
              "      <td>79</td>\n",
              "      <td>13</td>\n",
              "    </tr>\n",
              "    <tr>\n",
              "      <th>652</th>\n",
              "      <td>131</td>\n",
              "      <td>2</td>\n",
              "      <td>77</td>\n",
              "      <td>14</td>\n",
              "    </tr>\n",
              "  </tbody>\n",
              "</table>\n",
              "<p>653 rows × 4 columns</p>\n",
              "</div>"
            ],
            "text/plain": [
              "     blue  green  red  label\n",
              "0      36     27  231      0\n",
              "1      36     84  250      1\n",
              "2      37    164  255      2\n",
              "3      22    205  255      3\n",
              "4      38    223  221      4\n",
              "5      29    214  148      5\n",
              "6       0    181   76      6\n",
              "7      13    156    0      7\n",
              "8      92    166    0      8\n",
              "9     184    191    0      9\n",
              "10    200    136    1     10\n",
              "11    198     76    0     11\n",
              "12    180     38   51     12\n",
              "13    181     22   72     13\n",
              "14    140     17   57     14\n",
              "15     38     27  237      0\n",
              "16     50    100  244      1\n",
              "17     30    143  247      2\n",
              "18     36    195  255      3\n",
              "19      0    242  254      4\n",
              "20     65    195  132      5\n",
              "21     73    183   77      6\n",
              "22     75    169   51      7\n",
              "23    182    184   10      8\n",
              "24    205    144   70      9\n",
              "25    166     87   60     10\n",
              "26    162     81   90     11\n",
              "27    157     69   99     12\n",
              "28    128     33  108     13\n",
              "29    110     23   73     14\n",
              "..    ...    ...  ...    ...\n",
              "623    15      0  192      0\n",
              "624    26    100  194      1\n",
              "625    37    161  225      2\n",
              "626    12    192  244      3\n",
              "627    19    227  192      4\n",
              "628    10    199  137      5\n",
              "629    12    173  117      6\n",
              "630     9    146   95      7\n",
              "631    98    157   96      8\n",
              "632   180    175   96      9\n",
              "633   206    128   85     10\n",
              "634   209     64   56     11\n",
              "635   170     63   59     12\n",
              "636   184     48   74     13\n",
              "637   146     31   71     14\n",
              "638     3      0  199      0\n",
              "639     1     79  232      1\n",
              "640    26    139  255      2\n",
              "641     2    197  255      3\n",
              "642     0    230  177      4\n",
              "643     1    204   87      5\n",
              "644     0    171   43      6\n",
              "645     1    150   40      7\n",
              "646    97    164    1      8\n",
              "647   192    190    5      9\n",
              "648   201    123    0     10\n",
              "649   203     51   46     11\n",
              "650   169     62   48     12\n",
              "651   173     37   79     13\n",
              "652   131      2   77     14\n",
              "\n",
              "[653 rows x 4 columns]"
            ]
          },
          "metadata": {
            "tags": []
          },
          "execution_count": 103
        }
      ]
    },
    {
      "cell_type": "code",
      "metadata": {
        "id": "JeROFo9bQCOR",
        "colab_type": "code",
        "colab": {}
      },
      "source": [
        "# Find duplicate values and NA in data"
      ],
      "execution_count": 0,
      "outputs": []
    },
    {
      "cell_type": "code",
      "metadata": {
        "id": "xlNukzDiQCOW",
        "colab_type": "code",
        "colab": {}
      },
      "source": [
        "duplicate_rows = df[df.duplicated()]"
      ],
      "execution_count": 0,
      "outputs": []
    },
    {
      "cell_type": "code",
      "metadata": {
        "id": "GpwOGwO0QCOa",
        "colab_type": "code",
        "colab": {}
      },
      "source": [
        "null_rows = df[df.isna()]"
      ],
      "execution_count": 0,
      "outputs": []
    },
    {
      "cell_type": "code",
      "metadata": {
        "id": "dZYymhoMQCOd",
        "colab_type": "code",
        "colab": {}
      },
      "source": [
        "df.loc[df['label'] < 7, 'Nature'] = 'Acidic'"
      ],
      "execution_count": 0,
      "outputs": []
    },
    {
      "cell_type": "code",
      "metadata": {
        "id": "ktzu3o3pQCOg",
        "colab_type": "code",
        "colab": {}
      },
      "source": [
        "df.loc[df['label'] == 7, 'Nature'] = 'Neutral'"
      ],
      "execution_count": 0,
      "outputs": []
    },
    {
      "cell_type": "code",
      "metadata": {
        "id": "h69rmRm1QCOj",
        "colab_type": "code",
        "colab": {}
      },
      "source": [
        "df.loc[df['label'] > 7, 'Nature'] = 'Basic'"
      ],
      "execution_count": 0,
      "outputs": []
    },
    {
      "cell_type": "code",
      "metadata": {
        "id": "TGVvcQPLQCOm",
        "colab_type": "code",
        "colab": {
          "base_uri": "https://localhost:8080/",
          "height": 85
        },
        "outputId": "5a12c78f-6743-493d-acdb-59218b025b82"
      },
      "source": [
        "df['Nature'].value_counts()\n",
        "# Nature Column gives info about the nature of the sample."
      ],
      "execution_count": 110,
      "outputs": [
        {
          "output_type": "execute_result",
          "data": {
            "text/plain": [
              "Basic      307\n",
              "Acidic     302\n",
              "Neutral     44\n",
              "Name: Nature, dtype: int64"
            ]
          },
          "metadata": {
            "tags": []
          },
          "execution_count": 110
        }
      ]
    },
    {
      "cell_type": "code",
      "metadata": {
        "id": "z-ojqodnQCOq",
        "colab_type": "code",
        "colab": {}
      },
      "source": [
        "df_Nature = df.groupby('Nature')"
      ],
      "execution_count": 0,
      "outputs": []
    },
    {
      "cell_type": "code",
      "metadata": {
        "id": "mUxZtparQCOt",
        "colab_type": "code",
        "colab": {
          "base_uri": "https://localhost:8080/",
          "height": 514
        },
        "outputId": "ce836676-6dc5-402a-a405-a907dcb890c8"
      },
      "source": [
        "df_Nature.head()"
      ],
      "execution_count": 112,
      "outputs": [
        {
          "output_type": "execute_result",
          "data": {
            "text/html": [
              "<div>\n",
              "<style scoped>\n",
              "    .dataframe tbody tr th:only-of-type {\n",
              "        vertical-align: middle;\n",
              "    }\n",
              "\n",
              "    .dataframe tbody tr th {\n",
              "        vertical-align: top;\n",
              "    }\n",
              "\n",
              "    .dataframe thead th {\n",
              "        text-align: right;\n",
              "    }\n",
              "</style>\n",
              "<table border=\"1\" class=\"dataframe\">\n",
              "  <thead>\n",
              "    <tr style=\"text-align: right;\">\n",
              "      <th></th>\n",
              "      <th>blue</th>\n",
              "      <th>green</th>\n",
              "      <th>red</th>\n",
              "      <th>label</th>\n",
              "      <th>Nature</th>\n",
              "    </tr>\n",
              "  </thead>\n",
              "  <tbody>\n",
              "    <tr>\n",
              "      <th>0</th>\n",
              "      <td>36</td>\n",
              "      <td>27</td>\n",
              "      <td>231</td>\n",
              "      <td>0</td>\n",
              "      <td>Acidic</td>\n",
              "    </tr>\n",
              "    <tr>\n",
              "      <th>1</th>\n",
              "      <td>36</td>\n",
              "      <td>84</td>\n",
              "      <td>250</td>\n",
              "      <td>1</td>\n",
              "      <td>Acidic</td>\n",
              "    </tr>\n",
              "    <tr>\n",
              "      <th>2</th>\n",
              "      <td>37</td>\n",
              "      <td>164</td>\n",
              "      <td>255</td>\n",
              "      <td>2</td>\n",
              "      <td>Acidic</td>\n",
              "    </tr>\n",
              "    <tr>\n",
              "      <th>3</th>\n",
              "      <td>22</td>\n",
              "      <td>205</td>\n",
              "      <td>255</td>\n",
              "      <td>3</td>\n",
              "      <td>Acidic</td>\n",
              "    </tr>\n",
              "    <tr>\n",
              "      <th>4</th>\n",
              "      <td>38</td>\n",
              "      <td>223</td>\n",
              "      <td>221</td>\n",
              "      <td>4</td>\n",
              "      <td>Acidic</td>\n",
              "    </tr>\n",
              "    <tr>\n",
              "      <th>7</th>\n",
              "      <td>13</td>\n",
              "      <td>156</td>\n",
              "      <td>0</td>\n",
              "      <td>7</td>\n",
              "      <td>Neutral</td>\n",
              "    </tr>\n",
              "    <tr>\n",
              "      <th>8</th>\n",
              "      <td>92</td>\n",
              "      <td>166</td>\n",
              "      <td>0</td>\n",
              "      <td>8</td>\n",
              "      <td>Basic</td>\n",
              "    </tr>\n",
              "    <tr>\n",
              "      <th>9</th>\n",
              "      <td>184</td>\n",
              "      <td>191</td>\n",
              "      <td>0</td>\n",
              "      <td>9</td>\n",
              "      <td>Basic</td>\n",
              "    </tr>\n",
              "    <tr>\n",
              "      <th>10</th>\n",
              "      <td>200</td>\n",
              "      <td>136</td>\n",
              "      <td>1</td>\n",
              "      <td>10</td>\n",
              "      <td>Basic</td>\n",
              "    </tr>\n",
              "    <tr>\n",
              "      <th>11</th>\n",
              "      <td>198</td>\n",
              "      <td>76</td>\n",
              "      <td>0</td>\n",
              "      <td>11</td>\n",
              "      <td>Basic</td>\n",
              "    </tr>\n",
              "    <tr>\n",
              "      <th>12</th>\n",
              "      <td>180</td>\n",
              "      <td>38</td>\n",
              "      <td>51</td>\n",
              "      <td>12</td>\n",
              "      <td>Basic</td>\n",
              "    </tr>\n",
              "    <tr>\n",
              "      <th>22</th>\n",
              "      <td>75</td>\n",
              "      <td>169</td>\n",
              "      <td>51</td>\n",
              "      <td>7</td>\n",
              "      <td>Neutral</td>\n",
              "    </tr>\n",
              "    <tr>\n",
              "      <th>37</th>\n",
              "      <td>73</td>\n",
              "      <td>170</td>\n",
              "      <td>52</td>\n",
              "      <td>7</td>\n",
              "      <td>Neutral</td>\n",
              "    </tr>\n",
              "    <tr>\n",
              "      <th>52</th>\n",
              "      <td>73</td>\n",
              "      <td>169</td>\n",
              "      <td>51</td>\n",
              "      <td>7</td>\n",
              "      <td>Neutral</td>\n",
              "    </tr>\n",
              "    <tr>\n",
              "      <th>67</th>\n",
              "      <td>0</td>\n",
              "      <td>153</td>\n",
              "      <td>0</td>\n",
              "      <td>7</td>\n",
              "      <td>Neutral</td>\n",
              "    </tr>\n",
              "  </tbody>\n",
              "</table>\n",
              "</div>"
            ],
            "text/plain": [
              "    blue  green  red  label   Nature\n",
              "0     36     27  231      0   Acidic\n",
              "1     36     84  250      1   Acidic\n",
              "2     37    164  255      2   Acidic\n",
              "3     22    205  255      3   Acidic\n",
              "4     38    223  221      4   Acidic\n",
              "7     13    156    0      7  Neutral\n",
              "8     92    166    0      8    Basic\n",
              "9    184    191    0      9    Basic\n",
              "10   200    136    1     10    Basic\n",
              "11   198     76    0     11    Basic\n",
              "12   180     38   51     12    Basic\n",
              "22    75    169   51      7  Neutral\n",
              "37    73    170   52      7  Neutral\n",
              "52    73    169   51      7  Neutral\n",
              "67     0    153    0      7  Neutral"
            ]
          },
          "metadata": {
            "tags": []
          },
          "execution_count": 112
        }
      ]
    },
    {
      "cell_type": "code",
      "metadata": {
        "id": "u0nS5WdKQCOw",
        "colab_type": "code",
        "colab": {}
      },
      "source": [
        "# Training our data"
      ],
      "execution_count": 0,
      "outputs": []
    },
    {
      "cell_type": "code",
      "metadata": {
        "id": "0FdrLgoRQCOz",
        "colab_type": "code",
        "colab": {
          "base_uri": "https://localhost:8080/",
          "height": 204
        },
        "outputId": "2bb7e279-990c-44de-9049-a7031b35585b"
      },
      "source": [
        "df.head()"
      ],
      "execution_count": 114,
      "outputs": [
        {
          "output_type": "execute_result",
          "data": {
            "text/html": [
              "<div>\n",
              "<style scoped>\n",
              "    .dataframe tbody tr th:only-of-type {\n",
              "        vertical-align: middle;\n",
              "    }\n",
              "\n",
              "    .dataframe tbody tr th {\n",
              "        vertical-align: top;\n",
              "    }\n",
              "\n",
              "    .dataframe thead th {\n",
              "        text-align: right;\n",
              "    }\n",
              "</style>\n",
              "<table border=\"1\" class=\"dataframe\">\n",
              "  <thead>\n",
              "    <tr style=\"text-align: right;\">\n",
              "      <th></th>\n",
              "      <th>blue</th>\n",
              "      <th>green</th>\n",
              "      <th>red</th>\n",
              "      <th>label</th>\n",
              "      <th>Nature</th>\n",
              "    </tr>\n",
              "  </thead>\n",
              "  <tbody>\n",
              "    <tr>\n",
              "      <th>0</th>\n",
              "      <td>36</td>\n",
              "      <td>27</td>\n",
              "      <td>231</td>\n",
              "      <td>0</td>\n",
              "      <td>Acidic</td>\n",
              "    </tr>\n",
              "    <tr>\n",
              "      <th>1</th>\n",
              "      <td>36</td>\n",
              "      <td>84</td>\n",
              "      <td>250</td>\n",
              "      <td>1</td>\n",
              "      <td>Acidic</td>\n",
              "    </tr>\n",
              "    <tr>\n",
              "      <th>2</th>\n",
              "      <td>37</td>\n",
              "      <td>164</td>\n",
              "      <td>255</td>\n",
              "      <td>2</td>\n",
              "      <td>Acidic</td>\n",
              "    </tr>\n",
              "    <tr>\n",
              "      <th>3</th>\n",
              "      <td>22</td>\n",
              "      <td>205</td>\n",
              "      <td>255</td>\n",
              "      <td>3</td>\n",
              "      <td>Acidic</td>\n",
              "    </tr>\n",
              "    <tr>\n",
              "      <th>4</th>\n",
              "      <td>38</td>\n",
              "      <td>223</td>\n",
              "      <td>221</td>\n",
              "      <td>4</td>\n",
              "      <td>Acidic</td>\n",
              "    </tr>\n",
              "  </tbody>\n",
              "</table>\n",
              "</div>"
            ],
            "text/plain": [
              "   blue  green  red  label  Nature\n",
              "0    36     27  231      0  Acidic\n",
              "1    36     84  250      1  Acidic\n",
              "2    37    164  255      2  Acidic\n",
              "3    22    205  255      3  Acidic\n",
              "4    38    223  221      4  Acidic"
            ]
          },
          "metadata": {
            "tags": []
          },
          "execution_count": 114
        }
      ]
    },
    {
      "cell_type": "code",
      "metadata": {
        "id": "I2J6_MEUQCO4",
        "colab_type": "code",
        "colab": {}
      },
      "source": [
        "import seaborn as sns"
      ],
      "execution_count": 0,
      "outputs": []
    },
    {
      "cell_type": "code",
      "metadata": {
        "id": "KdgMUww9QCO9",
        "colab_type": "code",
        "colab": {
          "base_uri": "https://localhost:8080/",
          "height": 766
        },
        "outputId": "117e039f-abfd-4074-fb6d-76419d7073d6"
      },
      "source": [
        "sns.pairplot(df)"
      ],
      "execution_count": 116,
      "outputs": [
        {
          "output_type": "execute_result",
          "data": {
            "text/plain": [
              "<seaborn.axisgrid.PairGrid at 0x7f2c59398240>"
            ]
          },
          "metadata": {
            "tags": []
          },
          "execution_count": 116
        },
        {
          "output_type": "display_data",
          "data": {
            "image/png": "[encoded data removed]",
            "text/plain": [
              "<Figure size 720x720 with 20 Axes>"
            ]
          },
          "metadata": {
            "tags": []
          }
        }
      ]
    },
    {
      "cell_type": "code",
      "metadata": {
        "id": "LdKmL00aQCPD",
        "colab_type": "code",
        "colab": {
          "base_uri": "https://localhost:8080/",
          "height": 300
        },
        "outputId": "b32e94ba-996e-44eb-f960-fcc84cde1d18"
      },
      "source": [
        "sns.distplot(df['label'])"
      ],
      "execution_count": 117,
      "outputs": [
        {
          "output_type": "execute_result",
          "data": {
            "text/plain": [
              "<matplotlib.axes._subplots.AxesSubplot at 0x7f2c58dcc0f0>"
            ]
          },
          "metadata": {
            "tags": []
          },
          "execution_count": 117
        },
        {
          "output_type": "display_data",
          "data": {
            "image/png": "[encoded data removed]",
            "text/plain": [
              "<Figure size 432x288 with 1 Axes>"
            ]
          },
          "metadata": {
            "tags": []
          }
        }
      ]
    },
    {
      "cell_type": "code",
      "metadata": {
        "id": "e0LWQzJhQCPG",
        "colab_type": "code",
        "colab": {
          "base_uri": "https://localhost:8080/",
          "height": 286
        },
        "outputId": "e71e0fb3-9d44-4bc2-ca0e-e440ee0f7725"
      },
      "source": [
        "sns.heatmap(df.corr())\n",
        "# No positive correlation can be observed bwetween 2 columns\n",
        "# But interestingly we can see high negative correlation between red-blue \n",
        "# columns."
      ],
      "execution_count": 118,
      "outputs": [
        {
          "output_type": "execute_result",
          "data": {
            "text/plain": [
              "<matplotlib.axes._subplots.AxesSubplot at 0x7f2c58e684e0>"
            ]
          },
          "metadata": {
            "tags": []
          },
          "execution_count": 118
        },
        {
          "output_type": "display_data",
          "data": {
            "image/png": "[encoded data removed]",
            "text/plain": [
              "<Figure size 432x288 with 2 Axes>"
            ]
          },
          "metadata": {
            "tags": []
          }
        }
      ]
    },
    {
      "cell_type": "code",
      "metadata": {
        "id": "jir7d9QRQCPJ",
        "colab_type": "code",
        "colab": {}
      },
      "source": [
        "# Splitting into train and test test"
      ],
      "execution_count": 0,
      "outputs": []
    },
    {
      "cell_type": "code",
      "metadata": {
        "id": "CEWgZmxEQCPN",
        "colab_type": "code",
        "colab": {
          "base_uri": "https://localhost:8080/",
          "height": 34
        },
        "outputId": "2236200f-4721-4b5b-db55-8cac3a07b91c"
      },
      "source": [
        "df.columns"
      ],
      "execution_count": 120,
      "outputs": [
        {
          "output_type": "execute_result",
          "data": {
            "text/plain": [
              "Index(['blue', 'green', 'red', 'label', 'Nature'], dtype='object')"
            ]
          },
          "metadata": {
            "tags": []
          },
          "execution_count": 120
        }
      ]
    },
    {
      "cell_type": "code",
      "metadata": {
        "id": "igsZVnQKQCPQ",
        "colab_type": "code",
        "colab": {}
      },
      "source": [
        "X = df[['blue', 'green', 'red']]"
      ],
      "execution_count": 0,
      "outputs": []
    },
    {
      "cell_type": "code",
      "metadata": {
        "id": "I8DBOwN7QCPT",
        "colab_type": "code",
        "colab": {}
      },
      "source": [
        "y = df['label']"
      ],
      "execution_count": 0,
      "outputs": []
    },
    {
      "cell_type": "code",
      "metadata": {
        "id": "stYO32HQQCPV",
        "colab_type": "code",
        "colab": {}
      },
      "source": [
        "from sklearn.model_selection import train_test_split"
      ],
      "execution_count": 0,
      "outputs": []
    },
    {
      "cell_type": "code",
      "metadata": {
        "id": "SG52SvknQCPY",
        "colab_type": "code",
        "colab": {}
      },
      "source": [
        "X_train, X_test, y_train, y_test = train_test_split(X,y,test_size=0.25, random_state=10)"
      ],
      "execution_count": 0,
      "outputs": []
    },
    {
      "cell_type": "code",
      "metadata": {
        "id": "0e84dxMCQCPb",
        "colab_type": "code",
        "colab": {}
      },
      "source": [
        "from sklearn.linear_model import LinearRegression"
      ],
      "execution_count": 0,
      "outputs": []
    },
    {
      "cell_type": "code",
      "metadata": {
        "id": "DUOS4MQiQCPd",
        "colab_type": "code",
        "colab": {}
      },
      "source": [
        "lm = LinearRegression()"
      ],
      "execution_count": 0,
      "outputs": []
    },
    {
      "cell_type": "code",
      "metadata": {
        "id": "Faek_E3YQCPh",
        "colab_type": "code",
        "colab": {
          "base_uri": "https://localhost:8080/",
          "height": 54
        },
        "outputId": "c2042b77-30cf-4471-fdf9-f718d890fba8"
      },
      "source": [
        "lm.fit(X_train, y_train)"
      ],
      "execution_count": 127,
      "outputs": [
        {
          "output_type": "execute_result",
          "data": {
            "text/plain": [
              "LinearRegression(copy_X=True, fit_intercept=True, n_jobs=None, normalize=False)"
            ]
          },
          "metadata": {
            "tags": []
          },
          "execution_count": 127
        }
      ]
    },
    {
      "cell_type": "code",
      "metadata": {
        "id": "ERS2C81CQCPk",
        "colab_type": "code",
        "colab": {
          "base_uri": "https://localhost:8080/",
          "height": 34
        },
        "outputId": "3287a3c6-175c-4a39-e797-3cf1e6c683be"
      },
      "source": [
        "lm.intercept_"
      ],
      "execution_count": 128,
      "outputs": [
        {
          "output_type": "execute_result",
          "data": {
            "text/plain": [
              "7.972687221289089"
            ]
          },
          "metadata": {
            "tags": []
          },
          "execution_count": 128
        }
      ]
    },
    {
      "cell_type": "code",
      "metadata": {
        "id": "HMzb7LJ1QCPp",
        "colab_type": "code",
        "colab": {
          "base_uri": "https://localhost:8080/",
          "height": 34
        },
        "outputId": "9afe0c64-1168-43fc-842e-cb81bc39c976"
      },
      "source": [
        "lm.coef_"
      ],
      "execution_count": 129,
      "outputs": [
        {
          "output_type": "execute_result",
          "data": {
            "text/plain": [
              "array([ 0.0258191 , -0.004937  , -0.02186446])"
            ]
          },
          "metadata": {
            "tags": []
          },
          "execution_count": 129
        }
      ]
    },
    {
      "cell_type": "code",
      "metadata": {
        "id": "E9sFSd52QCPr",
        "colab_type": "code",
        "colab": {}
      },
      "source": [
        "cdf = pd.DataFrame(lm.coef_, X.columns, columns=['Coefficients'])"
      ],
      "execution_count": 0,
      "outputs": []
    },
    {
      "cell_type": "code",
      "metadata": {
        "id": "9Pnz5mK6QCPu",
        "colab_type": "code",
        "colab": {
          "base_uri": "https://localhost:8080/",
          "height": 142
        },
        "outputId": "fda21813-4732-4266-c5fb-b7aebe0bd24d"
      },
      "source": [
        "cdf.head()"
      ],
      "execution_count": 131,
      "outputs": [
        {
          "output_type": "execute_result",
          "data": {
            "text/html": [
              "<div>\n",
              "<style scoped>\n",
              "    .dataframe tbody tr th:only-of-type {\n",
              "        vertical-align: middle;\n",
              "    }\n",
              "\n",
              "    .dataframe tbody tr th {\n",
              "        vertical-align: top;\n",
              "    }\n",
              "\n",
              "    .dataframe thead th {\n",
              "        text-align: right;\n",
              "    }\n",
              "</style>\n",
              "<table border=\"1\" class=\"dataframe\">\n",
              "  <thead>\n",
              "    <tr style=\"text-align: right;\">\n",
              "      <th></th>\n",
              "      <th>Coefficients</th>\n",
              "    </tr>\n",
              "  </thead>\n",
              "  <tbody>\n",
              "    <tr>\n",
              "      <th>blue</th>\n",
              "      <td>0.025819</td>\n",
              "    </tr>\n",
              "    <tr>\n",
              "      <th>green</th>\n",
              "      <td>-0.004937</td>\n",
              "    </tr>\n",
              "    <tr>\n",
              "      <th>red</th>\n",
              "      <td>-0.021864</td>\n",
              "    </tr>\n",
              "  </tbody>\n",
              "</table>\n",
              "</div>"
            ],
            "text/plain": [
              "       Coefficients\n",
              "blue       0.025819\n",
              "green     -0.004937\n",
              "red       -0.021864"
            ]
          },
          "metadata": {
            "tags": []
          },
          "execution_count": 131
        }
      ]
    },
    {
      "cell_type": "markdown",
      "metadata": {
        "id": "vi8MJEiOQCPx",
        "colab_type": "text"
      },
      "source": [
        "Predictions"
      ]
    },
    {
      "cell_type": "code",
      "metadata": {
        "id": "BoD2yLtiQCPy",
        "colab_type": "code",
        "colab": {}
      },
      "source": [
        "pred_LinearReg = lm.predict(X_test)"
      ],
      "execution_count": 0,
      "outputs": []
    },
    {
      "cell_type": "code",
      "metadata": {
        "id": "1m7d-pIhQCP1",
        "colab_type": "code",
        "colab": {
          "base_uri": "https://localhost:8080/",
          "height": 286
        },
        "outputId": "d40a6194-02d1-46a6-dd8b-10f15c2e8935"
      },
      "source": [
        "plt.scatter(y_test, pred_LinearReg)"
      ],
      "execution_count": 133,
      "outputs": [
        {
          "output_type": "execute_result",
          "data": {
            "text/plain": [
              "<matplotlib.collections.PathCollection at 0x7f2c58ca1400>"
            ]
          },
          "metadata": {
            "tags": []
          },
          "execution_count": 133
        },
        {
          "output_type": "display_data",
          "data": {
            "image/png": "[encoded data removed]",
            "text/plain": [
              "<Figure size 432x288 with 1 Axes>"
            ]
          },
          "metadata": {
            "tags": []
          }
        }
      ]
    },
    {
      "cell_type": "markdown",
      "metadata": {
        "id": "XTNmxltTQCP4",
        "colab_type": "text"
      },
      "source": [
        "Thus our predictions are quite far from the actual values"
      ]
    },
    {
      "cell_type": "code",
      "metadata": {
        "id": "1NcIRc-6QCP5",
        "colab_type": "code",
        "colab": {
          "base_uri": "https://localhost:8080/",
          "height": 598
        },
        "outputId": "0a5aeb03-935d-4a20-9106-1e1c68a9d58e"
      },
      "source": [
        "pred_LinearReg"
      ],
      "execution_count": 134,
      "outputs": [
        {
          "output_type": "execute_result",
          "data": {
            "text/plain": [
              "array([ 7.95967966,  1.29771303,  9.58734594,  3.25775227,  2.54288997,\n",
              "        7.29341622,  7.21498137,  9.89589627,  9.52105127,  3.57317101,\n",
              "        9.85413207,  7.90804147,  1.21237168,  9.24602715,  1.32451449,\n",
              "        9.40980186,  6.72713775,  9.41444543, 11.75410858,  9.45499989,\n",
              "        1.16413582,  5.80210584,  3.53815727, 11.31743126,  7.18178538,\n",
              "        9.1032795 ,  9.52105127, 10.10750878,  7.75917279, 13.7271411 ,\n",
              "        5.80210584,  4.29028821,  2.0574497 , 11.29842162, 11.02416232,\n",
              "        2.57712072,  9.52105127, 12.70965636,  1.17894681,  8.99975328,\n",
              "       11.56163808,  2.8197243 ,  9.78768289,  3.1024656 ,  1.18768669,\n",
              "        5.04987262,  1.41408878,  4.1778976 ,  7.92310555, 10.93174229,\n",
              "        2.04245745,  1.58378055,  2.14546407, 11.87230587,  9.1032795 ,\n",
              "        2.1687619 ,  5.42228196,  1.41408878,  3.65554971,  2.43506047,\n",
              "        2.07750169,  7.53816396, 12.34753968, 12.5550748 ,  9.78768289,\n",
              "        5.19257314, 11.76335518,  3.0626157 ,  1.94729302,  3.11810395,\n",
              "        9.49182709,  7.78366165, 11.06389851,  3.1024656 ,  7.20979128,\n",
              "        7.95967966,  9.92171536,  9.64717446,  4.60556098,  9.67369812,\n",
              "       10.5887837 , 11.82850083,  2.99690008,  7.60256751,  3.07856081,\n",
              "       11.93930361, 11.19005979,  9.85413207,  7.27143001,  6.76086612,\n",
              "        3.95683202, 11.02416232,  9.54464926, 11.24169798,  4.50614274,\n",
              "        8.93894615,  3.3283363 ,  2.4648975 ,  1.66375486, 10.57185624,\n",
              "        5.82858386,  3.43501502,  5.41739214,  9.41444543,  9.78768289,\n",
              "        3.07504905,  9.85413207,  9.83139947,  5.72945901, 11.77945204,\n",
              "        9.02744055,  9.30877853,  7.90804147,  8.51081842,  1.58378484,\n",
              "       11.47867812,  4.60556098,  9.32194977,  9.54203041,  5.15267382,\n",
              "        7.27044765, 10.52942982,  5.5777698 ,  4.29127056,  5.27512392,\n",
              "       10.96308872,  4.29127056,  2.04245745, 12.06427502,  4.35449966,\n",
              "        3.01207788,  3.04296855, 12.82821083, 11.76350693, 12.34086964,\n",
              "       10.86845518,  3.29019478,  2.1687619 , 11.74050837,  4.83614459,\n",
              "        5.05033262, 11.44934726, 10.5887837 ,  3.21363464,  1.52904782,\n",
              "        3.81230141,  3.49191617, 11.02416232, 11.92696346, 10.25715764,\n",
              "        9.30877853,  9.59243745,  7.96221809,  3.68163748,  3.42171348,\n",
              "        9.41444543, 11.72766209,  3.83798587, 12.24677123,  5.5777698 ,\n",
              "       10.6731427 ,  3.00604052, 11.9233585 ,  9.54203041])"
            ]
          },
          "metadata": {
            "tags": []
          },
          "execution_count": 134
        }
      ]
    },
    {
      "cell_type": "code",
      "metadata": {
        "id": "T5U0qN3tQCP8",
        "colab_type": "code",
        "colab": {
          "base_uri": "https://localhost:8080/",
          "height": 300
        },
        "outputId": "0899758b-8253-4b9a-dc34-6c1573f6c939"
      },
      "source": [
        "sns.distplot((y_test-pred_LinearReg), label=\"Distribution plot of residuals\")"
      ],
      "execution_count": 135,
      "outputs": [
        {
          "output_type": "execute_result",
          "data": {
            "text/plain": [
              "<matplotlib.axes._subplots.AxesSubplot at 0x7f2c58c549b0>"
            ]
          },
          "metadata": {
            "tags": []
          },
          "execution_count": 135
        },
        {
          "output_type": "display_data",
          "data": {
            "image/png": "[encoded data removed]",
            "text/plain": [
              "<Figure size 432x288 with 1 Axes>"
            ]
          },
          "metadata": {
            "tags": []
          }
        }
      ]
    },
    {
      "cell_type": "code",
      "metadata": {
        "id": "-wbU4S0LQCP-",
        "colab_type": "code",
        "colab": {}
      },
      "source": [
        "# It vaguely resembles normal dist plot but is still quite far"
      ],
      "execution_count": 0,
      "outputs": []
    },
    {
      "cell_type": "markdown",
      "metadata": {
        "id": "ajyEKIX_QCQA",
        "colab_type": "text"
      },
      "source": [
        "Evaluation Matrics"
      ]
    },
    {
      "cell_type": "code",
      "metadata": {
        "id": "3jPAaCkrQCQB",
        "colab_type": "code",
        "colab": {}
      },
      "source": [
        "from sklearn import metrics"
      ],
      "execution_count": 0,
      "outputs": []
    },
    {
      "cell_type": "code",
      "metadata": {
        "id": "F05rDm7rQCQG",
        "colab_type": "code",
        "colab": {
          "base_uri": "https://localhost:8080/",
          "height": 34
        },
        "outputId": "acea3c51-c575-4c23-d0ac-1aa66820648c"
      },
      "source": [
        "metrics.mean_absolute_error(y_test, pred_LinearReg)"
      ],
      "execution_count": 138,
      "outputs": [
        {
          "output_type": "execute_result",
          "data": {
            "text/plain": [
              "1.8821920059984991"
            ]
          },
          "metadata": {
            "tags": []
          },
          "execution_count": 138
        }
      ]
    },
    {
      "cell_type": "code",
      "metadata": {
        "id": "MLO1etrlQCQK",
        "colab_type": "code",
        "colab": {
          "base_uri": "https://localhost:8080/",
          "height": 34
        },
        "outputId": "d787f6a5-15da-4d22-c175-5c3a034d5585"
      },
      "source": [
        "metrics.mean_squared_error(y_test, pred_LinearReg)"
      ],
      "execution_count": 139,
      "outputs": [
        {
          "output_type": "execute_result",
          "data": {
            "text/plain": [
              "5.560619639059021"
            ]
          },
          "metadata": {
            "tags": []
          },
          "execution_count": 139
        }
      ]
    },
    {
      "cell_type": "code",
      "metadata": {
        "id": "Ixy80h2-QCQP",
        "colab_type": "code",
        "colab": {
          "base_uri": "https://localhost:8080/",
          "height": 34
        },
        "outputId": "4fea1ea9-dca3-4c37-bdde-85582b53587b"
      },
      "source": [
        "np.sqrt(metrics.mean_squared_error(y_test, pred_LinearReg))"
      ],
      "execution_count": 140,
      "outputs": [
        {
          "output_type": "execute_result",
          "data": {
            "text/plain": [
              "2.358096613597293"
            ]
          },
          "metadata": {
            "tags": []
          },
          "execution_count": 140
        }
      ]
    },
    {
      "cell_type": "markdown",
      "metadata": {
        "id": "6I2TprqoQCQV",
        "colab_type": "text"
      },
      "source": [
        "\n",
        "Logistic Regression\n"
      ]
    },
    {
      "cell_type": "code",
      "metadata": {
        "id": "77YxAcfFQCQW",
        "colab_type": "code",
        "colab": {}
      },
      "source": [
        "# Used to predict discrete values only"
      ],
      "execution_count": 0,
      "outputs": []
    },
    {
      "cell_type": "code",
      "metadata": {
        "id": "TbSG-8ztQCQb",
        "colab_type": "code",
        "colab": {
          "base_uri": "https://localhost:8080/",
          "height": 1000
        },
        "outputId": "c058978d-a408-47de-fa14-7404402b3a66"
      },
      "source": [
        "df"
      ],
      "execution_count": 142,
      "outputs": [
        {
          "output_type": "execute_result",
          "data": {
            "text/html": [
              "<div>\n",
              "<style scoped>\n",
              "    .dataframe tbody tr th:only-of-type {\n",
              "        vertical-align: middle;\n",
              "    }\n",
              "\n",
              "    .dataframe tbody tr th {\n",
              "        vertical-align: top;\n",
              "    }\n",
              "\n",
              "    .dataframe thead th {\n",
              "        text-align: right;\n",
              "    }\n",
              "</style>\n",
              "<table border=\"1\" class=\"dataframe\">\n",
              "  <thead>\n",
              "    <tr style=\"text-align: right;\">\n",
              "      <th></th>\n",
              "      <th>blue</th>\n",
              "      <th>green</th>\n",
              "      <th>red</th>\n",
              "      <th>label</th>\n",
              "      <th>Nature</th>\n",
              "    </tr>\n",
              "  </thead>\n",
              "  <tbody>\n",
              "    <tr>\n",
              "      <th>0</th>\n",
              "      <td>36</td>\n",
              "      <td>27</td>\n",
              "      <td>231</td>\n",
              "      <td>0</td>\n",
              "      <td>Acidic</td>\n",
              "    </tr>\n",
              "    <tr>\n",
              "      <th>1</th>\n",
              "      <td>36</td>\n",
              "      <td>84</td>\n",
              "      <td>250</td>\n",
              "      <td>1</td>\n",
              "      <td>Acidic</td>\n",
              "    </tr>\n",
              "    <tr>\n",
              "      <th>2</th>\n",
              "      <td>37</td>\n",
              "      <td>164</td>\n",
              "      <td>255</td>\n",
              "      <td>2</td>\n",
              "      <td>Acidic</td>\n",
              "    </tr>\n",
              "    <tr>\n",
              "      <th>3</th>\n",
              "      <td>22</td>\n",
              "      <td>205</td>\n",
              "      <td>255</td>\n",
              "      <td>3</td>\n",
              "      <td>Acidic</td>\n",
              "    </tr>\n",
              "    <tr>\n",
              "      <th>4</th>\n",
              "      <td>38</td>\n",
              "      <td>223</td>\n",
              "      <td>221</td>\n",
              "      <td>4</td>\n",
              "      <td>Acidic</td>\n",
              "    </tr>\n",
              "    <tr>\n",
              "      <th>5</th>\n",
              "      <td>29</td>\n",
              "      <td>214</td>\n",
              "      <td>148</td>\n",
              "      <td>5</td>\n",
              "      <td>Acidic</td>\n",
              "    </tr>\n",
              "    <tr>\n",
              "      <th>6</th>\n",
              "      <td>0</td>\n",
              "      <td>181</td>\n",
              "      <td>76</td>\n",
              "      <td>6</td>\n",
              "      <td>Acidic</td>\n",
              "    </tr>\n",
              "    <tr>\n",
              "      <th>7</th>\n",
              "      <td>13</td>\n",
              "      <td>156</td>\n",
              "      <td>0</td>\n",
              "      <td>7</td>\n",
              "      <td>Neutral</td>\n",
              "    </tr>\n",
              "    <tr>\n",
              "      <th>8</th>\n",
              "      <td>92</td>\n",
              "      <td>166</td>\n",
              "      <td>0</td>\n",
              "      <td>8</td>\n",
              "      <td>Basic</td>\n",
              "    </tr>\n",
              "    <tr>\n",
              "      <th>9</th>\n",
              "      <td>184</td>\n",
              "      <td>191</td>\n",
              "      <td>0</td>\n",
              "      <td>9</td>\n",
              "      <td>Basic</td>\n",
              "    </tr>\n",
              "    <tr>\n",
              "      <th>10</th>\n",
              "      <td>200</td>\n",
              "      <td>136</td>\n",
              "      <td>1</td>\n",
              "      <td>10</td>\n",
              "      <td>Basic</td>\n",
              "    </tr>\n",
              "    <tr>\n",
              "      <th>11</th>\n",
              "      <td>198</td>\n",
              "      <td>76</td>\n",
              "      <td>0</td>\n",
              "      <td>11</td>\n",
              "      <td>Basic</td>\n",
              "    </tr>\n",
              "    <tr>\n",
              "      <th>12</th>\n",
              "      <td>180</td>\n",
              "      <td>38</td>\n",
              "      <td>51</td>\n",
              "      <td>12</td>\n",
              "      <td>Basic</td>\n",
              "    </tr>\n",
              "    <tr>\n",
              "      <th>13</th>\n",
              "      <td>181</td>\n",
              "      <td>22</td>\n",
              "      <td>72</td>\n",
              "      <td>13</td>\n",
              "      <td>Basic</td>\n",
              "    </tr>\n",
              "    <tr>\n",
              "      <th>14</th>\n",
              "      <td>140</td>\n",
              "      <td>17</td>\n",
              "      <td>57</td>\n",
              "      <td>14</td>\n",
              "      <td>Basic</td>\n",
              "    </tr>\n",
              "    <tr>\n",
              "      <th>15</th>\n",
              "      <td>38</td>\n",
              "      <td>27</td>\n",
              "      <td>237</td>\n",
              "      <td>0</td>\n",
              "      <td>Acidic</td>\n",
              "    </tr>\n",
              "    <tr>\n",
              "      <th>16</th>\n",
              "      <td>50</td>\n",
              "      <td>100</td>\n",
              "      <td>244</td>\n",
              "      <td>1</td>\n",
              "      <td>Acidic</td>\n",
              "    </tr>\n",
              "    <tr>\n",
              "      <th>17</th>\n",
              "      <td>30</td>\n",
              "      <td>143</td>\n",
              "      <td>247</td>\n",
              "      <td>2</td>\n",
              "      <td>Acidic</td>\n",
              "    </tr>\n",
              "    <tr>\n",
              "      <th>18</th>\n",
              "      <td>36</td>\n",
              "      <td>195</td>\n",
              "      <td>255</td>\n",
              "      <td>3</td>\n",
              "      <td>Acidic</td>\n",
              "    </tr>\n",
              "    <tr>\n",
              "      <th>19</th>\n",
              "      <td>0</td>\n",
              "      <td>242</td>\n",
              "      <td>254</td>\n",
              "      <td>4</td>\n",
              "      <td>Acidic</td>\n",
              "    </tr>\n",
              "    <tr>\n",
              "      <th>20</th>\n",
              "      <td>65</td>\n",
              "      <td>195</td>\n",
              "      <td>132</td>\n",
              "      <td>5</td>\n",
              "      <td>Acidic</td>\n",
              "    </tr>\n",
              "    <tr>\n",
              "      <th>21</th>\n",
              "      <td>73</td>\n",
              "      <td>183</td>\n",
              "      <td>77</td>\n",
              "      <td>6</td>\n",
              "      <td>Acidic</td>\n",
              "    </tr>\n",
              "    <tr>\n",
              "      <th>22</th>\n",
              "      <td>75</td>\n",
              "      <td>169</td>\n",
              "      <td>51</td>\n",
              "      <td>7</td>\n",
              "      <td>Neutral</td>\n",
              "    </tr>\n",
              "    <tr>\n",
              "      <th>23</th>\n",
              "      <td>182</td>\n",
              "      <td>184</td>\n",
              "      <td>10</td>\n",
              "      <td>8</td>\n",
              "      <td>Basic</td>\n",
              "    </tr>\n",
              "    <tr>\n",
              "      <th>24</th>\n",
              "      <td>205</td>\n",
              "      <td>144</td>\n",
              "      <td>70</td>\n",
              "      <td>9</td>\n",
              "      <td>Basic</td>\n",
              "    </tr>\n",
              "    <tr>\n",
              "      <th>25</th>\n",
              "      <td>166</td>\n",
              "      <td>87</td>\n",
              "      <td>60</td>\n",
              "      <td>10</td>\n",
              "      <td>Basic</td>\n",
              "    </tr>\n",
              "    <tr>\n",
              "      <th>26</th>\n",
              "      <td>162</td>\n",
              "      <td>81</td>\n",
              "      <td>90</td>\n",
              "      <td>11</td>\n",
              "      <td>Basic</td>\n",
              "    </tr>\n",
              "    <tr>\n",
              "      <th>27</th>\n",
              "      <td>157</td>\n",
              "      <td>69</td>\n",
              "      <td>99</td>\n",
              "      <td>12</td>\n",
              "      <td>Basic</td>\n",
              "    </tr>\n",
              "    <tr>\n",
              "      <th>28</th>\n",
              "      <td>128</td>\n",
              "      <td>33</td>\n",
              "      <td>108</td>\n",
              "      <td>13</td>\n",
              "      <td>Basic</td>\n",
              "    </tr>\n",
              "    <tr>\n",
              "      <th>29</th>\n",
              "      <td>110</td>\n",
              "      <td>23</td>\n",
              "      <td>73</td>\n",
              "      <td>14</td>\n",
              "      <td>Basic</td>\n",
              "    </tr>\n",
              "    <tr>\n",
              "      <th>...</th>\n",
              "      <td>...</td>\n",
              "      <td>...</td>\n",
              "      <td>...</td>\n",
              "      <td>...</td>\n",
              "      <td>...</td>\n",
              "    </tr>\n",
              "    <tr>\n",
              "      <th>623</th>\n",
              "      <td>15</td>\n",
              "      <td>0</td>\n",
              "      <td>192</td>\n",
              "      <td>0</td>\n",
              "      <td>Acidic</td>\n",
              "    </tr>\n",
              "    <tr>\n",
              "      <th>624</th>\n",
              "      <td>26</td>\n",
              "      <td>100</td>\n",
              "      <td>194</td>\n",
              "      <td>1</td>\n",
              "      <td>Acidic</td>\n",
              "    </tr>\n",
              "    <tr>\n",
              "      <th>625</th>\n",
              "      <td>37</td>\n",
              "      <td>161</td>\n",
              "      <td>225</td>\n",
              "      <td>2</td>\n",
              "      <td>Acidic</td>\n",
              "    </tr>\n",
              "    <tr>\n",
              "      <th>626</th>\n",
              "      <td>12</td>\n",
              "      <td>192</td>\n",
              "      <td>244</td>\n",
              "      <td>3</td>\n",
              "      <td>Acidic</td>\n",
              "    </tr>\n",
              "    <tr>\n",
              "      <th>627</th>\n",
              "      <td>19</td>\n",
              "      <td>227</td>\n",
              "      <td>192</td>\n",
              "      <td>4</td>\n",
              "      <td>Acidic</td>\n",
              "    </tr>\n",
              "    <tr>\n",
              "      <th>628</th>\n",
              "      <td>10</td>\n",
              "      <td>199</td>\n",
              "      <td>137</td>\n",
              "      <td>5</td>\n",
              "      <td>Acidic</td>\n",
              "    </tr>\n",
              "    <tr>\n",
              "      <th>629</th>\n",
              "      <td>12</td>\n",
              "      <td>173</td>\n",
              "      <td>117</td>\n",
              "      <td>6</td>\n",
              "      <td>Acidic</td>\n",
              "    </tr>\n",
              "    <tr>\n",
              "      <th>630</th>\n",
              "      <td>9</td>\n",
              "      <td>146</td>\n",
              "      <td>95</td>\n",
              "      <td>7</td>\n",
              "      <td>Neutral</td>\n",
              "    </tr>\n",
              "    <tr>\n",
              "      <th>631</th>\n",
              "      <td>98</td>\n",
              "      <td>157</td>\n",
              "      <td>96</td>\n",
              "      <td>8</td>\n",
              "      <td>Basic</td>\n",
              "    </tr>\n",
              "    <tr>\n",
              "      <th>632</th>\n",
              "      <td>180</td>\n",
              "      <td>175</td>\n",
              "      <td>96</td>\n",
              "      <td>9</td>\n",
              "      <td>Basic</td>\n",
              "    </tr>\n",
              "    <tr>\n",
              "      <th>633</th>\n",
              "      <td>206</td>\n",
              "      <td>128</td>\n",
              "      <td>85</td>\n",
              "      <td>10</td>\n",
              "      <td>Basic</td>\n",
              "    </tr>\n",
              "    <tr>\n",
              "      <th>634</th>\n",
              "      <td>209</td>\n",
              "      <td>64</td>\n",
              "      <td>56</td>\n",
              "      <td>11</td>\n",
              "      <td>Basic</td>\n",
              "    </tr>\n",
              "    <tr>\n",
              "      <th>635</th>\n",
              "      <td>170</td>\n",
              "      <td>63</td>\n",
              "      <td>59</td>\n",
              "      <td>12</td>\n",
              "      <td>Basic</td>\n",
              "    </tr>\n",
              "    <tr>\n",
              "      <th>636</th>\n",
              "      <td>184</td>\n",
              "      <td>48</td>\n",
              "      <td>74</td>\n",
              "      <td>13</td>\n",
              "      <td>Basic</td>\n",
              "    </tr>\n",
              "    <tr>\n",
              "      <th>637</th>\n",
              "      <td>146</td>\n",
              "      <td>31</td>\n",
              "      <td>71</td>\n",
              "      <td>14</td>\n",
              "      <td>Basic</td>\n",
              "    </tr>\n",
              "    <tr>\n",
              "      <th>638</th>\n",
              "      <td>3</td>\n",
              "      <td>0</td>\n",
              "      <td>199</td>\n",
              "      <td>0</td>\n",
              "      <td>Acidic</td>\n",
              "    </tr>\n",
              "    <tr>\n",
              "      <th>639</th>\n",
              "      <td>1</td>\n",
              "      <td>79</td>\n",
              "      <td>232</td>\n",
              "      <td>1</td>\n",
              "      <td>Acidic</td>\n",
              "    </tr>\n",
              "    <tr>\n",
              "      <th>640</th>\n",
              "      <td>26</td>\n",
              "      <td>139</td>\n",
              "      <td>255</td>\n",
              "      <td>2</td>\n",
              "      <td>Acidic</td>\n",
              "    </tr>\n",
              "    <tr>\n",
              "      <th>641</th>\n",
              "      <td>2</td>\n",
              "      <td>197</td>\n",
              "      <td>255</td>\n",
              "      <td>3</td>\n",
              "      <td>Acidic</td>\n",
              "    </tr>\n",
              "    <tr>\n",
              "      <th>642</th>\n",
              "      <td>0</td>\n",
              "      <td>230</td>\n",
              "      <td>177</td>\n",
              "      <td>4</td>\n",
              "      <td>Acidic</td>\n",
              "    </tr>\n",
              "    <tr>\n",
              "      <th>643</th>\n",
              "      <td>1</td>\n",
              "      <td>204</td>\n",
              "      <td>87</td>\n",
              "      <td>5</td>\n",
              "      <td>Acidic</td>\n",
              "    </tr>\n",
              "    <tr>\n",
              "      <th>644</th>\n",
              "      <td>0</td>\n",
              "      <td>171</td>\n",
              "      <td>43</td>\n",
              "      <td>6</td>\n",
              "      <td>Acidic</td>\n",
              "    </tr>\n",
              "    <tr>\n",
              "      <th>645</th>\n",
              "      <td>1</td>\n",
              "      <td>150</td>\n",
              "      <td>40</td>\n",
              "      <td>7</td>\n",
              "      <td>Neutral</td>\n",
              "    </tr>\n",
              "    <tr>\n",
              "      <th>646</th>\n",
              "      <td>97</td>\n",
              "      <td>164</td>\n",
              "      <td>1</td>\n",
              "      <td>8</td>\n",
              "      <td>Basic</td>\n",
              "    </tr>\n",
              "    <tr>\n",
              "      <th>647</th>\n",
              "      <td>192</td>\n",
              "      <td>190</td>\n",
              "      <td>5</td>\n",
              "      <td>9</td>\n",
              "      <td>Basic</td>\n",
              "    </tr>\n",
              "    <tr>\n",
              "      <th>648</th>\n",
              "      <td>201</td>\n",
              "      <td>123</td>\n",
              "      <td>0</td>\n",
              "      <td>10</td>\n",
              "      <td>Basic</td>\n",
              "    </tr>\n",
              "    <tr>\n",
              "      <th>649</th>\n",
              "      <td>203</td>\n",
              "      <td>51</td>\n",
              "      <td>46</td>\n",
              "      <td>11</td>\n",
              "      <td>Basic</td>\n",
              "    </tr>\n",
              "    <tr>\n",
              "      <th>650</th>\n",
              "      <td>169</td>\n",
              "      <td>62</td>\n",
              "      <td>48</td>\n",
              "      <td>12</td>\n",
              "      <td>Basic</td>\n",
              "    </tr>\n",
              "    <tr>\n",
              "      <th>651</th>\n",
              "      <td>173</td>\n",
              "      <td>37</td>\n",
              "      <td>79</td>\n",
              "      <td>13</td>\n",
              "      <td>Basic</td>\n",
              "    </tr>\n",
              "    <tr>\n",
              "      <th>652</th>\n",
              "      <td>131</td>\n",
              "      <td>2</td>\n",
              "      <td>77</td>\n",
              "      <td>14</td>\n",
              "      <td>Basic</td>\n",
              "    </tr>\n",
              "  </tbody>\n",
              "</table>\n",
              "<p>653 rows × 5 columns</p>\n",
              "</div>"
            ],
            "text/plain": [
              "     blue  green  red  label   Nature\n",
              "0      36     27  231      0   Acidic\n",
              "1      36     84  250      1   Acidic\n",
              "2      37    164  255      2   Acidic\n",
              "3      22    205  255      3   Acidic\n",
              "4      38    223  221      4   Acidic\n",
              "5      29    214  148      5   Acidic\n",
              "6       0    181   76      6   Acidic\n",
              "7      13    156    0      7  Neutral\n",
              "8      92    166    0      8    Basic\n",
              "9     184    191    0      9    Basic\n",
              "10    200    136    1     10    Basic\n",
              "11    198     76    0     11    Basic\n",
              "12    180     38   51     12    Basic\n",
              "13    181     22   72     13    Basic\n",
              "14    140     17   57     14    Basic\n",
              "15     38     27  237      0   Acidic\n",
              "16     50    100  244      1   Acidic\n",
              "17     30    143  247      2   Acidic\n",
              "18     36    195  255      3   Acidic\n",
              "19      0    242  254      4   Acidic\n",
              "20     65    195  132      5   Acidic\n",
              "21     73    183   77      6   Acidic\n",
              "22     75    169   51      7  Neutral\n",
              "23    182    184   10      8    Basic\n",
              "24    205    144   70      9    Basic\n",
              "25    166     87   60     10    Basic\n",
              "26    162     81   90     11    Basic\n",
              "27    157     69   99     12    Basic\n",
              "28    128     33  108     13    Basic\n",
              "29    110     23   73     14    Basic\n",
              "..    ...    ...  ...    ...      ...\n",
              "623    15      0  192      0   Acidic\n",
              "624    26    100  194      1   Acidic\n",
              "625    37    161  225      2   Acidic\n",
              "626    12    192  244      3   Acidic\n",
              "627    19    227  192      4   Acidic\n",
              "628    10    199  137      5   Acidic\n",
              "629    12    173  117      6   Acidic\n",
              "630     9    146   95      7  Neutral\n",
              "631    98    157   96      8    Basic\n",
              "632   180    175   96      9    Basic\n",
              "633   206    128   85     10    Basic\n",
              "634   209     64   56     11    Basic\n",
              "635   170     63   59     12    Basic\n",
              "636   184     48   74     13    Basic\n",
              "637   146     31   71     14    Basic\n",
              "638     3      0  199      0   Acidic\n",
              "639     1     79  232      1   Acidic\n",
              "640    26    139  255      2   Acidic\n",
              "641     2    197  255      3   Acidic\n",
              "642     0    230  177      4   Acidic\n",
              "643     1    204   87      5   Acidic\n",
              "644     0    171   43      6   Acidic\n",
              "645     1    150   40      7  Neutral\n",
              "646    97    164    1      8    Basic\n",
              "647   192    190    5      9    Basic\n",
              "648   201    123    0     10    Basic\n",
              "649   203     51   46     11    Basic\n",
              "650   169     62   48     12    Basic\n",
              "651   173     37   79     13    Basic\n",
              "652   131      2   77     14    Basic\n",
              "\n",
              "[653 rows x 5 columns]"
            ]
          },
          "metadata": {
            "tags": []
          },
          "execution_count": 142
        }
      ]
    },
    {
      "cell_type": "code",
      "metadata": {
        "id": "EcNLMU7LQCQg",
        "colab_type": "code",
        "colab": {
          "base_uri": "https://localhost:8080/",
          "height": 300
        },
        "outputId": "6fc48345-0e74-4b65-aa8b-2340be3e658a"
      },
      "source": [
        "sns.countplot(x='label', data=df)"
      ],
      "execution_count": 143,
      "outputs": [
        {
          "output_type": "execute_result",
          "data": {
            "text/plain": [
              "<matplotlib.axes._subplots.AxesSubplot at 0x7f2c58c052e8>"
            ]
          },
          "metadata": {
            "tags": []
          },
          "execution_count": 143
        },
        {
          "output_type": "display_data",
          "data": {
            "image/png": "[encoded data removed]",
            "text/plain": [
              "<Figure size 432x288 with 1 Axes>"
            ]
          },
          "metadata": {
            "tags": []
          }
        }
      ]
    },
    {
      "cell_type": "code",
      "metadata": {
        "id": "Ni3y0DPlQCQl",
        "colab_type": "code",
        "colab": {}
      },
      "source": [
        "# Deal with Nature Column as a dummy variable"
      ],
      "execution_count": 0,
      "outputs": []
    },
    {
      "cell_type": "code",
      "metadata": {
        "id": "ZH8LQg3SQCQo",
        "colab_type": "code",
        "colab": {
          "base_uri": "https://localhost:8080/",
          "height": 1000
        },
        "outputId": "f2b20224-2013-4db8-98fe-292be734f788"
      },
      "source": [
        "pd.get_dummies(df['Nature'])"
      ],
      "execution_count": 145,
      "outputs": [
        {
          "output_type": "execute_result",
          "data": {
            "text/html": [
              "<div>\n",
              "<style scoped>\n",
              "    .dataframe tbody tr th:only-of-type {\n",
              "        vertical-align: middle;\n",
              "    }\n",
              "\n",
              "    .dataframe tbody tr th {\n",
              "        vertical-align: top;\n",
              "    }\n",
              "\n",
              "    .dataframe thead th {\n",
              "        text-align: right;\n",
              "    }\n",
              "</style>\n",
              "<table border=\"1\" class=\"dataframe\">\n",
              "  <thead>\n",
              "    <tr style=\"text-align: right;\">\n",
              "      <th></th>\n",
              "      <th>Acidic</th>\n",
              "      <th>Basic</th>\n",
              "      <th>Neutral</th>\n",
              "    </tr>\n",
              "  </thead>\n",
              "  <tbody>\n",
              "    <tr>\n",
              "      <th>0</th>\n",
              "      <td>1</td>\n",
              "      <td>0</td>\n",
              "      <td>0</td>\n",
              "    </tr>\n",
              "    <tr>\n",
              "      <th>1</th>\n",
              "      <td>1</td>\n",
              "      <td>0</td>\n",
              "      <td>0</td>\n",
              "    </tr>\n",
              "    <tr>\n",
              "      <th>2</th>\n",
              "      <td>1</td>\n",
              "      <td>0</td>\n",
              "      <td>0</td>\n",
              "    </tr>\n",
              "    <tr>\n",
              "      <th>3</th>\n",
              "      <td>1</td>\n",
              "      <td>0</td>\n",
              "      <td>0</td>\n",
              "    </tr>\n",
              "    <tr>\n",
              "      <th>4</th>\n",
              "      <td>1</td>\n",
              "      <td>0</td>\n",
              "      <td>0</td>\n",
              "    </tr>\n",
              "    <tr>\n",
              "      <th>5</th>\n",
              "      <td>1</td>\n",
              "      <td>0</td>\n",
              "      <td>0</td>\n",
              "    </tr>\n",
              "    <tr>\n",
              "      <th>6</th>\n",
              "      <td>1</td>\n",
              "      <td>0</td>\n",
              "      <td>0</td>\n",
              "    </tr>\n",
              "    <tr>\n",
              "      <th>7</th>\n",
              "      <td>0</td>\n",
              "      <td>0</td>\n",
              "      <td>1</td>\n",
              "    </tr>\n",
              "    <tr>\n",
              "      <th>8</th>\n",
              "      <td>0</td>\n",
              "      <td>1</td>\n",
              "      <td>0</td>\n",
              "    </tr>\n",
              "    <tr>\n",
              "      <th>9</th>\n",
              "      <td>0</td>\n",
              "      <td>1</td>\n",
              "      <td>0</td>\n",
              "    </tr>\n",
              "    <tr>\n",
              "      <th>10</th>\n",
              "      <td>0</td>\n",
              "      <td>1</td>\n",
              "      <td>0</td>\n",
              "    </tr>\n",
              "    <tr>\n",
              "      <th>11</th>\n",
              "      <td>0</td>\n",
              "      <td>1</td>\n",
              "      <td>0</td>\n",
              "    </tr>\n",
              "    <tr>\n",
              "      <th>12</th>\n",
              "      <td>0</td>\n",
              "      <td>1</td>\n",
              "      <td>0</td>\n",
              "    </tr>\n",
              "    <tr>\n",
              "      <th>13</th>\n",
              "      <td>0</td>\n",
              "      <td>1</td>\n",
              "      <td>0</td>\n",
              "    </tr>\n",
              "    <tr>\n",
              "      <th>14</th>\n",
              "      <td>0</td>\n",
              "      <td>1</td>\n",
              "      <td>0</td>\n",
              "    </tr>\n",
              "    <tr>\n",
              "      <th>15</th>\n",
              "      <td>1</td>\n",
              "      <td>0</td>\n",
              "      <td>0</td>\n",
              "    </tr>\n",
              "    <tr>\n",
              "      <th>16</th>\n",
              "      <td>1</td>\n",
              "      <td>0</td>\n",
              "      <td>0</td>\n",
              "    </tr>\n",
              "    <tr>\n",
              "      <th>17</th>\n",
              "      <td>1</td>\n",
              "      <td>0</td>\n",
              "      <td>0</td>\n",
              "    </tr>\n",
              "    <tr>\n",
              "      <th>18</th>\n",
              "      <td>1</td>\n",
              "      <td>0</td>\n",
              "      <td>0</td>\n",
              "    </tr>\n",
              "    <tr>\n",
              "      <th>19</th>\n",
              "      <td>1</td>\n",
              "      <td>0</td>\n",
              "      <td>0</td>\n",
              "    </tr>\n",
              "    <tr>\n",
              "      <th>20</th>\n",
              "      <td>1</td>\n",
              "      <td>0</td>\n",
              "      <td>0</td>\n",
              "    </tr>\n",
              "    <tr>\n",
              "      <th>21</th>\n",
              "      <td>1</td>\n",
              "      <td>0</td>\n",
              "      <td>0</td>\n",
              "    </tr>\n",
              "    <tr>\n",
              "      <th>22</th>\n",
              "      <td>0</td>\n",
              "      <td>0</td>\n",
              "      <td>1</td>\n",
              "    </tr>\n",
              "    <tr>\n",
              "      <th>23</th>\n",
              "      <td>0</td>\n",
              "      <td>1</td>\n",
              "      <td>0</td>\n",
              "    </tr>\n",
              "    <tr>\n",
              "      <th>24</th>\n",
              "      <td>0</td>\n",
              "      <td>1</td>\n",
              "      <td>0</td>\n",
              "    </tr>\n",
              "    <tr>\n",
              "      <th>25</th>\n",
              "      <td>0</td>\n",
              "      <td>1</td>\n",
              "      <td>0</td>\n",
              "    </tr>\n",
              "    <tr>\n",
              "      <th>26</th>\n",
              "      <td>0</td>\n",
              "      <td>1</td>\n",
              "      <td>0</td>\n",
              "    </tr>\n",
              "    <tr>\n",
              "      <th>27</th>\n",
              "      <td>0</td>\n",
              "      <td>1</td>\n",
              "      <td>0</td>\n",
              "    </tr>\n",
              "    <tr>\n",
              "      <th>28</th>\n",
              "      <td>0</td>\n",
              "      <td>1</td>\n",
              "      <td>0</td>\n",
              "    </tr>\n",
              "    <tr>\n",
              "      <th>29</th>\n",
              "      <td>0</td>\n",
              "      <td>1</td>\n",
              "      <td>0</td>\n",
              "    </tr>\n",
              "    <tr>\n",
              "      <th>...</th>\n",
              "      <td>...</td>\n",
              "      <td>...</td>\n",
              "      <td>...</td>\n",
              "    </tr>\n",
              "    <tr>\n",
              "      <th>623</th>\n",
              "      <td>1</td>\n",
              "      <td>0</td>\n",
              "      <td>0</td>\n",
              "    </tr>\n",
              "    <tr>\n",
              "      <th>624</th>\n",
              "      <td>1</td>\n",
              "      <td>0</td>\n",
              "      <td>0</td>\n",
              "    </tr>\n",
              "    <tr>\n",
              "      <th>625</th>\n",
              "      <td>1</td>\n",
              "      <td>0</td>\n",
              "      <td>0</td>\n",
              "    </tr>\n",
              "    <tr>\n",
              "      <th>626</th>\n",
              "      <td>1</td>\n",
              "      <td>0</td>\n",
              "      <td>0</td>\n",
              "    </tr>\n",
              "    <tr>\n",
              "      <th>627</th>\n",
              "      <td>1</td>\n",
              "      <td>0</td>\n",
              "      <td>0</td>\n",
              "    </tr>\n",
              "    <tr>\n",
              "      <th>628</th>\n",
              "      <td>1</td>\n",
              "      <td>0</td>\n",
              "      <td>0</td>\n",
              "    </tr>\n",
              "    <tr>\n",
              "      <th>629</th>\n",
              "      <td>1</td>\n",
              "      <td>0</td>\n",
              "      <td>0</td>\n",
              "    </tr>\n",
              "    <tr>\n",
              "      <th>630</th>\n",
              "      <td>0</td>\n",
              "      <td>0</td>\n",
              "      <td>1</td>\n",
              "    </tr>\n",
              "    <tr>\n",
              "      <th>631</th>\n",
              "      <td>0</td>\n",
              "      <td>1</td>\n",
              "      <td>0</td>\n",
              "    </tr>\n",
              "    <tr>\n",
              "      <th>632</th>\n",
              "      <td>0</td>\n",
              "      <td>1</td>\n",
              "      <td>0</td>\n",
              "    </tr>\n",
              "    <tr>\n",
              "      <th>633</th>\n",
              "      <td>0</td>\n",
              "      <td>1</td>\n",
              "      <td>0</td>\n",
              "    </tr>\n",
              "    <tr>\n",
              "      <th>634</th>\n",
              "      <td>0</td>\n",
              "      <td>1</td>\n",
              "      <td>0</td>\n",
              "    </tr>\n",
              "    <tr>\n",
              "      <th>635</th>\n",
              "      <td>0</td>\n",
              "      <td>1</td>\n",
              "      <td>0</td>\n",
              "    </tr>\n",
              "    <tr>\n",
              "      <th>636</th>\n",
              "      <td>0</td>\n",
              "      <td>1</td>\n",
              "      <td>0</td>\n",
              "    </tr>\n",
              "    <tr>\n",
              "      <th>637</th>\n",
              "      <td>0</td>\n",
              "      <td>1</td>\n",
              "      <td>0</td>\n",
              "    </tr>\n",
              "    <tr>\n",
              "      <th>638</th>\n",
              "      <td>1</td>\n",
              "      <td>0</td>\n",
              "      <td>0</td>\n",
              "    </tr>\n",
              "    <tr>\n",
              "      <th>639</th>\n",
              "      <td>1</td>\n",
              "      <td>0</td>\n",
              "      <td>0</td>\n",
              "    </tr>\n",
              "    <tr>\n",
              "      <th>640</th>\n",
              "      <td>1</td>\n",
              "      <td>0</td>\n",
              "      <td>0</td>\n",
              "    </tr>\n",
              "    <tr>\n",
              "      <th>641</th>\n",
              "      <td>1</td>\n",
              "      <td>0</td>\n",
              "      <td>0</td>\n",
              "    </tr>\n",
              "    <tr>\n",
              "      <th>642</th>\n",
              "      <td>1</td>\n",
              "      <td>0</td>\n",
              "      <td>0</td>\n",
              "    </tr>\n",
              "    <tr>\n",
              "      <th>643</th>\n",
              "      <td>1</td>\n",
              "      <td>0</td>\n",
              "      <td>0</td>\n",
              "    </tr>\n",
              "    <tr>\n",
              "      <th>644</th>\n",
              "      <td>1</td>\n",
              "      <td>0</td>\n",
              "      <td>0</td>\n",
              "    </tr>\n",
              "    <tr>\n",
              "      <th>645</th>\n",
              "      <td>0</td>\n",
              "      <td>0</td>\n",
              "      <td>1</td>\n",
              "    </tr>\n",
              "    <tr>\n",
              "      <th>646</th>\n",
              "      <td>0</td>\n",
              "      <td>1</td>\n",
              "      <td>0</td>\n",
              "    </tr>\n",
              "    <tr>\n",
              "      <th>647</th>\n",
              "      <td>0</td>\n",
              "      <td>1</td>\n",
              "      <td>0</td>\n",
              "    </tr>\n",
              "    <tr>\n",
              "      <th>648</th>\n",
              "      <td>0</td>\n",
              "      <td>1</td>\n",
              "      <td>0</td>\n",
              "    </tr>\n",
              "    <tr>\n",
              "      <th>649</th>\n",
              "      <td>0</td>\n",
              "      <td>1</td>\n",
              "      <td>0</td>\n",
              "    </tr>\n",
              "    <tr>\n",
              "      <th>650</th>\n",
              "      <td>0</td>\n",
              "      <td>1</td>\n",
              "      <td>0</td>\n",
              "    </tr>\n",
              "    <tr>\n",
              "      <th>651</th>\n",
              "      <td>0</td>\n",
              "      <td>1</td>\n",
              "      <td>0</td>\n",
              "    </tr>\n",
              "    <tr>\n",
              "      <th>652</th>\n",
              "      <td>0</td>\n",
              "      <td>1</td>\n",
              "      <td>0</td>\n",
              "    </tr>\n",
              "  </tbody>\n",
              "</table>\n",
              "<p>653 rows × 3 columns</p>\n",
              "</div>"
            ],
            "text/plain": [
              "     Acidic  Basic  Neutral\n",
              "0         1      0        0\n",
              "1         1      0        0\n",
              "2         1      0        0\n",
              "3         1      0        0\n",
              "4         1      0        0\n",
              "5         1      0        0\n",
              "6         1      0        0\n",
              "7         0      0        1\n",
              "8         0      1        0\n",
              "9         0      1        0\n",
              "10        0      1        0\n",
              "11        0      1        0\n",
              "12        0      1        0\n",
              "13        0      1        0\n",
              "14        0      1        0\n",
              "15        1      0        0\n",
              "16        1      0        0\n",
              "17        1      0        0\n",
              "18        1      0        0\n",
              "19        1      0        0\n",
              "20        1      0        0\n",
              "21        1      0        0\n",
              "22        0      0        1\n",
              "23        0      1        0\n",
              "24        0      1        0\n",
              "25        0      1        0\n",
              "26        0      1        0\n",
              "27        0      1        0\n",
              "28        0      1        0\n",
              "29        0      1        0\n",
              "..      ...    ...      ...\n",
              "623       1      0        0\n",
              "624       1      0        0\n",
              "625       1      0        0\n",
              "626       1      0        0\n",
              "627       1      0        0\n",
              "628       1      0        0\n",
              "629       1      0        0\n",
              "630       0      0        1\n",
              "631       0      1        0\n",
              "632       0      1        0\n",
              "633       0      1        0\n",
              "634       0      1        0\n",
              "635       0      1        0\n",
              "636       0      1        0\n",
              "637       0      1        0\n",
              "638       1      0        0\n",
              "639       1      0        0\n",
              "640       1      0        0\n",
              "641       1      0        0\n",
              "642       1      0        0\n",
              "643       1      0        0\n",
              "644       1      0        0\n",
              "645       0      0        1\n",
              "646       0      1        0\n",
              "647       0      1        0\n",
              "648       0      1        0\n",
              "649       0      1        0\n",
              "650       0      1        0\n",
              "651       0      1        0\n",
              "652       0      1        0\n",
              "\n",
              "[653 rows x 3 columns]"
            ]
          },
          "metadata": {
            "tags": []
          },
          "execution_count": 145
        }
      ]
    },
    {
      "cell_type": "code",
      "metadata": {
        "id": "lE5IXWieQCQr",
        "colab_type": "code",
        "colab": {}
      },
      "source": [
        "# Use OHE to work on categorical data(WIP)"
      ],
      "execution_count": 0,
      "outputs": []
    },
    {
      "cell_type": "code",
      "metadata": {
        "id": "wmoWkrsTQCQv",
        "colab_type": "code",
        "colab": {}
      },
      "source": [
        "from sklearn.preprocessing import OneHotEncoder"
      ],
      "execution_count": 0,
      "outputs": []
    },
    {
      "cell_type": "code",
      "metadata": {
        "id": "5z9l3E6bQCQy",
        "colab_type": "code",
        "colab": {}
      },
      "source": [
        "enc = OneHotEncoder(handle_unknown='ignore')"
      ],
      "execution_count": 0,
      "outputs": []
    },
    {
      "cell_type": "code",
      "metadata": {
        "id": "Lxd4xHR1QCQ3",
        "colab_type": "code",
        "colab": {}
      },
      "source": [
        ""
      ],
      "execution_count": 0,
      "outputs": []
    },
    {
      "cell_type": "code",
      "metadata": {
        "id": "vgRzCRlfQCQ5",
        "colab_type": "code",
        "colab": {}
      },
      "source": [
        "from sklearn.linear_model import LogisticRegression"
      ],
      "execution_count": 0,
      "outputs": []
    },
    {
      "cell_type": "code",
      "metadata": {
        "id": "-YvpVi7-QCQ-",
        "colab_type": "code",
        "colab": {}
      },
      "source": [
        "logreg = LogisticRegression()"
      ],
      "execution_count": 0,
      "outputs": []
    },
    {
      "cell_type": "code",
      "metadata": {
        "id": "hxsuy-7EQCRA",
        "colab_type": "code",
        "colab": {
          "base_uri": "https://localhost:8080/",
          "height": 190
        },
        "outputId": "a318cbce-1219-47d9-e47f-a613886277f4"
      },
      "source": [
        "logreg.fit(X_train, y_train)"
      ],
      "execution_count": 151,
      "outputs": [
        {
          "output_type": "stream",
          "text": [
            "/usr/local/lib/python3.6/dist-packages/sklearn/linear_model/logistic.py:432: FutureWarning: Default solver will be changed to 'lbfgs' in 0.22. Specify a solver to silence this warning.\n",
            "  FutureWarning)\n",
            "/usr/local/lib/python3.6/dist-packages/sklearn/linear_model/logistic.py:469: FutureWarning: Default multi_class will be changed to 'auto' in 0.22. Specify the multi_class option to silence this warning.\n",
            "  \"this warning.\", FutureWarning)\n"
          ],
          "name": "stderr"
        },
        {
          "output_type": "execute_result",
          "data": {
            "text/plain": [
              "LogisticRegression(C=1.0, class_weight=None, dual=False, fit_intercept=True,\n",
              "                   intercept_scaling=1, l1_ratio=None, max_iter=100,\n",
              "                   multi_class='warn', n_jobs=None, penalty='l2',\n",
              "                   random_state=None, solver='warn', tol=0.0001, verbose=0,\n",
              "                   warm_start=False)"
            ]
          },
          "metadata": {
            "tags": []
          },
          "execution_count": 151
        }
      ]
    },
    {
      "cell_type": "code",
      "metadata": {
        "id": "2T7CQNK9QCRD",
        "colab_type": "code",
        "colab": {}
      },
      "source": [
        "pred_LogReg = logreg.predict(X_test)"
      ],
      "execution_count": 0,
      "outputs": []
    },
    {
      "cell_type": "code",
      "metadata": {
        "id": "OsFCGj_CQCRF",
        "colab_type": "code",
        "colab": {}
      },
      "source": [
        "# Class Report"
      ],
      "execution_count": 0,
      "outputs": []
    },
    {
      "cell_type": "code",
      "metadata": {
        "id": "NRYbkSfkQCRI",
        "colab_type": "code",
        "colab": {
          "base_uri": "https://localhost:8080/",
          "height": 445
        },
        "outputId": "11292430-230c-4db4-9b6b-c46ffcfcf006"
      },
      "source": [
        "print(metrics.classification_report(y_test, pred_LogReg))"
      ],
      "execution_count": 154,
      "outputs": [
        {
          "output_type": "stream",
          "text": [
            "              precision    recall  f1-score   support\n",
            "\n",
            "           0       0.40      0.80      0.53         5\n",
            "           1       0.60      0.90      0.72        10\n",
            "           2       0.50      0.08      0.13        13\n",
            "           3       0.30      0.25      0.27        12\n",
            "           4       0.17      0.67      0.28         6\n",
            "           5       0.62      0.36      0.45        14\n",
            "           6       0.75      0.55      0.63        11\n",
            "           7       0.69      0.75      0.72        12\n",
            "           8       1.00      0.64      0.78        14\n",
            "           9       0.67      0.67      0.67        12\n",
            "          10       0.45      0.62      0.53         8\n",
            "          11       0.39      0.88      0.54         8\n",
            "          12       0.00      0.00      0.00        19\n",
            "          13       0.62      0.80      0.70        10\n",
            "          14       0.67      0.80      0.73        10\n",
            "\n",
            "    accuracy                           0.52       164\n",
            "   macro avg       0.52      0.58      0.51       164\n",
            "weighted avg       0.52      0.52      0.49       164\n",
            "\n"
          ],
          "name": "stdout"
        },
        {
          "output_type": "stream",
          "text": [
            "/usr/local/lib/python3.6/dist-packages/sklearn/metrics/classification.py:1437: UndefinedMetricWarning: Precision and F-score are ill-defined and being set to 0.0 in labels with no predicted samples.\n",
            "  'precision', 'predicted', average, warn_for)\n"
          ],
          "name": "stderr"
        }
      ]
    },
    {
      "cell_type": "code",
      "metadata": {
        "id": "mQpvWOT1QCRL",
        "colab_type": "code",
        "colab": {
          "base_uri": "https://localhost:8080/",
          "height": 272
        },
        "outputId": "c9e25e1c-a7bc-46e4-8005-36166fee1dbe"
      },
      "source": [
        "print(metrics.confusion_matrix(y_test, pred_LogReg))"
      ],
      "execution_count": 155,
      "outputs": [
        {
          "output_type": "stream",
          "text": [
            "[[ 4  1  0  0  0  0  0  0  0  0  0  0  0  0  0]\n",
            " [ 1  9  0  0  0  0  0  0  0  0  0  0  0  0  0]\n",
            " [ 3  3  1  3  3  0  0  0  0  0  0  0  0  0  0]\n",
            " [ 2  1  0  3  6  0  0  0  0  0  0  0  0  0  0]\n",
            " [ 0  1  0  1  4  0  0  0  0  0  0  0  0  0  0]\n",
            " [ 0  0  1  1  5  5  2  0  0  0  0  0  0  0  0]\n",
            " [ 0  0  0  1  1  1  6  2  0  0  0  0  0  0  0]\n",
            " [ 0  0  0  1  2  0  0  9  0  0  0  0  0  0  0]\n",
            " [ 0  0  0  0  2  1  0  1  9  1  0  0  0  0  0]\n",
            " [ 0  0  0  0  0  1  0  0  0  8  3  0  0  0  0]\n",
            " [ 0  0  0  0  0  0  0  1  0  1  5  1  0  0  0]\n",
            " [ 0  0  0  0  0  0  0  0  0  0  1  7  0  0  0]\n",
            " [ 0  0  0  0  0  0  0  0  0  2  1 10  0  4  2]\n",
            " [ 0  0  0  0  0  0  0  0  0  0  0  0  0  8  2]\n",
            " [ 0  0  0  0  0  0  0  0  0  0  1  0  0  1  8]]\n"
          ],
          "name": "stdout"
        }
      ]
    },
    {
      "cell_type": "code",
      "metadata": {
        "id": "YOCYyaE6QCRN",
        "colab_type": "code",
        "colab": {
          "base_uri": "https://localhost:8080/",
          "height": 286
        },
        "outputId": "0aa67ab9-524d-4f98-874a-63076a00d201"
      },
      "source": [
        "plt.scatter(y_test, pred_LogReg)"
      ],
      "execution_count": 156,
      "outputs": [
        {
          "output_type": "execute_result",
          "data": {
            "text/plain": [
              "<matplotlib.collections.PathCollection at 0x7f2c58b82f28>"
            ]
          },
          "metadata": {
            "tags": []
          },
          "execution_count": 156
        },
        {
          "output_type": "display_data",
          "data": {
            "image/png": "[encoded data removed]",
            "text/plain": [
              "<Figure size 432x288 with 1 Axes>"
            ]
          },
          "metadata": {
            "tags": []
          }
        }
      ]
    },
    {
      "cell_type": "code",
      "metadata": {
        "id": "JCXe6_dnQCRQ",
        "colab_type": "code",
        "colab": {
          "base_uri": "https://localhost:8080/",
          "height": 51
        },
        "outputId": "43eee123-126b-423c-ac9f-ad069ebe17c4"
      },
      "source": [
        "print(metrics.mean_absolute_error(y_test, pred_LinearReg))\n",
        "print(metrics.mean_absolute_error(y_test, pred_LogReg))"
      ],
      "execution_count": 157,
      "outputs": [
        {
          "output_type": "stream",
          "text": [
            "1.8821920059984991\n",
            "0.774390243902439\n"
          ],
          "name": "stdout"
        }
      ]
    },
    {
      "cell_type": "code",
      "metadata": {
        "id": "yDMsms3kQCRU",
        "colab_type": "code",
        "colab": {
          "base_uri": "https://localhost:8080/",
          "height": 51
        },
        "outputId": "f8c60597-1db5-445a-95aa-7c43eff88bca"
      },
      "source": [
        "print(np.sqrt(metrics.mean_squared_error(y_test, pred_LinearReg)))\n",
        "print(np.sqrt(metrics.mean_squared_error(y_test, pred_LogReg)))"
      ],
      "execution_count": 158,
      "outputs": [
        {
          "output_type": "stream",
          "text": [
            "2.358096613597293\n",
            "1.299624711308577\n"
          ],
          "name": "stdout"
        }
      ]
    },
    {
      "cell_type": "code",
      "metadata": {
        "id": "sYeYlrH7QCRW",
        "colab_type": "code",
        "colab": {}
      },
      "source": [
        "# We can see considerable improvements in using Logistic Regression\n",
        "# over Linear Regression.\n",
        "# Mean Error is now only 0.77 compared to 1.88.\n",
        "# Mean Squared Error is also now only 1.29 compared to 2.35."
      ],
      "execution_count": 0,
      "outputs": []
    },
    {
      "cell_type": "code",
      "metadata": {
        "scrolled": true,
        "id": "EPd4Y0_hQCRZ",
        "colab_type": "code",
        "colab": {
          "base_uri": "https://localhost:8080/",
          "height": 300
        },
        "outputId": "69e28743-90f1-4e55-d32f-1b632d633b19"
      },
      "source": [
        "sns.distplot((y_test-pred_LogReg))\n",
        "plt.xlabel('Actual - Predicted using Logistic Regression')\n",
        "# Residual plot is also now closer to 0."
      ],
      "execution_count": 160,
      "outputs": [
        {
          "output_type": "execute_result",
          "data": {
            "text/plain": [
              "Text(0.5, 0, 'Actual - Predicted using Logistic Regression')"
            ]
          },
          "metadata": {
            "tags": []
          },
          "execution_count": 160
        },
        {
          "output_type": "display_data",
          "data": {
            "image/png": "[encoded data removed]",
            "text/plain": [
              "<Figure size 432x288 with 1 Axes>"
            ]
          },
          "metadata": {
            "tags": []
          }
        }
      ]
    },
    {
      "cell_type": "code",
      "metadata": {
        "id": "0k6kPSe4QCRb",
        "colab_type": "code",
        "colab": {}
      },
      "source": [
        ""
      ],
      "execution_count": 0,
      "outputs": []
    },
    {
      "cell_type": "markdown",
      "metadata": {
        "id": "nEGZAL9emjcL",
        "colab_type": "text"
      },
      "source": [
        "##K Nearest Neighbours"
      ]
    },
    {
      "cell_type": "markdown",
      "metadata": {
        "id": "BuQxL9xgmtLa",
        "colab_type": "text"
      },
      "source": [
        "Step 1 - Scale the data as KNN depends on distance between the points"
      ]
    },
    {
      "cell_type": "code",
      "metadata": {
        "id": "Zltom2annSSv",
        "colab_type": "code",
        "colab": {}
      },
      "source": [
        "from sklearn.preprocessing import StandardScaler"
      ],
      "execution_count": 0,
      "outputs": []
    },
    {
      "cell_type": "code",
      "metadata": {
        "id": "oBDdlaPHnaYU",
        "colab_type": "code",
        "colab": {}
      },
      "source": [
        "scaler = StandardScaler()"
      ],
      "execution_count": 0,
      "outputs": []
    },
    {
      "cell_type": "code",
      "metadata": {
        "id": "lP6V99FvneqS",
        "colab_type": "code",
        "colab": {
          "base_uri": "https://localhost:8080/",
          "height": 204
        },
        "outputId": "7c491c35-15a5-45b6-8678-25e74e6dd484"
      },
      "source": [
        "df.head()"
      ],
      "execution_count": 163,
      "outputs": [
        {
          "output_type": "execute_result",
          "data": {
            "text/html": [
              "<div>\n",
              "<style scoped>\n",
              "    .dataframe tbody tr th:only-of-type {\n",
              "        vertical-align: middle;\n",
              "    }\n",
              "\n",
              "    .dataframe tbody tr th {\n",
              "        vertical-align: top;\n",
              "    }\n",
              "\n",
              "    .dataframe thead th {\n",
              "        text-align: right;\n",
              "    }\n",
              "</style>\n",
              "<table border=\"1\" class=\"dataframe\">\n",
              "  <thead>\n",
              "    <tr style=\"text-align: right;\">\n",
              "      <th></th>\n",
              "      <th>blue</th>\n",
              "      <th>green</th>\n",
              "      <th>red</th>\n",
              "      <th>label</th>\n",
              "      <th>Nature</th>\n",
              "    </tr>\n",
              "  </thead>\n",
              "  <tbody>\n",
              "    <tr>\n",
              "      <th>0</th>\n",
              "      <td>36</td>\n",
              "      <td>27</td>\n",
              "      <td>231</td>\n",
              "      <td>0</td>\n",
              "      <td>Acidic</td>\n",
              "    </tr>\n",
              "    <tr>\n",
              "      <th>1</th>\n",
              "      <td>36</td>\n",
              "      <td>84</td>\n",
              "      <td>250</td>\n",
              "      <td>1</td>\n",
              "      <td>Acidic</td>\n",
              "    </tr>\n",
              "    <tr>\n",
              "      <th>2</th>\n",
              "      <td>37</td>\n",
              "      <td>164</td>\n",
              "      <td>255</td>\n",
              "      <td>2</td>\n",
              "      <td>Acidic</td>\n",
              "    </tr>\n",
              "    <tr>\n",
              "      <th>3</th>\n",
              "      <td>22</td>\n",
              "      <td>205</td>\n",
              "      <td>255</td>\n",
              "      <td>3</td>\n",
              "      <td>Acidic</td>\n",
              "    </tr>\n",
              "    <tr>\n",
              "      <th>4</th>\n",
              "      <td>38</td>\n",
              "      <td>223</td>\n",
              "      <td>221</td>\n",
              "      <td>4</td>\n",
              "      <td>Acidic</td>\n",
              "    </tr>\n",
              "  </tbody>\n",
              "</table>\n",
              "</div>"
            ],
            "text/plain": [
              "   blue  green  red  label  Nature\n",
              "0    36     27  231      0  Acidic\n",
              "1    36     84  250      1  Acidic\n",
              "2    37    164  255      2  Acidic\n",
              "3    22    205  255      3  Acidic\n",
              "4    38    223  221      4  Acidic"
            ]
          },
          "metadata": {
            "tags": []
          },
          "execution_count": 163
        }
      ]
    },
    {
      "cell_type": "code",
      "metadata": {
        "id": "_lCocK4Znwxo",
        "colab_type": "code",
        "colab": {
          "base_uri": "https://localhost:8080/",
          "height": 34
        },
        "outputId": "d1f415d8-243a-43db-ba45-3b1c42007001"
      },
      "source": [
        "scaler.fit(df.drop([\"label\",\"Nature\"], axis=1))"
      ],
      "execution_count": 164,
      "outputs": [
        {
          "output_type": "execute_result",
          "data": {
            "text/plain": [
              "StandardScaler(copy=True, with_mean=True, with_std=True)"
            ]
          },
          "metadata": {
            "tags": []
          },
          "execution_count": 164
        }
      ]
    },
    {
      "cell_type": "code",
      "metadata": {
        "id": "0C67Ueu5oBF_",
        "colab_type": "code",
        "colab": {}
      },
      "source": [
        "scaled_feat = scaler.transform(df.drop([\"label\",\"Nature\"], axis=1))"
      ],
      "execution_count": 0,
      "outputs": []
    },
    {
      "cell_type": "code",
      "metadata": {
        "id": "X8NzqnbbrdB-",
        "colab_type": "code",
        "colab": {}
      },
      "source": [
        "df_feat = pd.DataFrame(scaled_feat, columns=df.columns[:-2])"
      ],
      "execution_count": 0,
      "outputs": []
    },
    {
      "cell_type": "code",
      "metadata": {
        "id": "y6YfvjJYrogS",
        "colab_type": "code",
        "colab": {
          "base_uri": "https://localhost:8080/",
          "height": 204
        },
        "outputId": "47266b55-7df0-43c8-d9cb-fb371d25ec66"
      },
      "source": [
        "df_feat.head()"
      ],
      "execution_count": 167,
      "outputs": [
        {
          "output_type": "execute_result",
          "data": {
            "text/html": [
              "<div>\n",
              "<style scoped>\n",
              "    .dataframe tbody tr th:only-of-type {\n",
              "        vertical-align: middle;\n",
              "    }\n",
              "\n",
              "    .dataframe tbody tr th {\n",
              "        vertical-align: top;\n",
              "    }\n",
              "\n",
              "    .dataframe thead th {\n",
              "        text-align: right;\n",
              "    }\n",
              "</style>\n",
              "<table border=\"1\" class=\"dataframe\">\n",
              "  <thead>\n",
              "    <tr style=\"text-align: right;\">\n",
              "      <th></th>\n",
              "      <th>blue</th>\n",
              "      <th>green</th>\n",
              "      <th>red</th>\n",
              "    </tr>\n",
              "  </thead>\n",
              "  <tbody>\n",
              "    <tr>\n",
              "      <th>0</th>\n",
              "      <td>-0.711329</td>\n",
              "      <td>-1.423343</td>\n",
              "      <td>1.232726</td>\n",
              "    </tr>\n",
              "    <tr>\n",
              "      <th>1</th>\n",
              "      <td>-0.711329</td>\n",
              "      <td>-0.636393</td>\n",
              "      <td>1.444986</td>\n",
              "    </tr>\n",
              "    <tr>\n",
              "      <th>2</th>\n",
              "      <td>-0.697981</td>\n",
              "      <td>0.468098</td>\n",
              "      <td>1.500845</td>\n",
              "    </tr>\n",
              "    <tr>\n",
              "      <th>3</th>\n",
              "      <td>-0.898202</td>\n",
              "      <td>1.034149</td>\n",
              "      <td>1.500845</td>\n",
              "    </tr>\n",
              "    <tr>\n",
              "      <th>4</th>\n",
              "      <td>-0.684633</td>\n",
              "      <td>1.282660</td>\n",
              "      <td>1.121010</td>\n",
              "    </tr>\n",
              "  </tbody>\n",
              "</table>\n",
              "</div>"
            ],
            "text/plain": [
              "       blue     green       red\n",
              "0 -0.711329 -1.423343  1.232726\n",
              "1 -0.711329 -0.636393  1.444986\n",
              "2 -0.697981  0.468098  1.500845\n",
              "3 -0.898202  1.034149  1.500845\n",
              "4 -0.684633  1.282660  1.121010"
            ]
          },
          "metadata": {
            "tags": []
          },
          "execution_count": 167
        }
      ]
    },
    {
      "cell_type": "code",
      "metadata": {
        "id": "4hoOuOE5rvZW",
        "colab_type": "code",
        "colab": {}
      },
      "source": [
        "XKNN = df_feat\n",
        "yKNN = df['label']"
      ],
      "execution_count": 0,
      "outputs": []
    },
    {
      "cell_type": "code",
      "metadata": {
        "id": "VfG0RYq1sNtp",
        "colab_type": "code",
        "colab": {}
      },
      "source": [
        "X_trainKNN, X_testKNN, y_trainKNN, y_testKNN = train_test_split(X, y, test_size=0.25, random_state=10)"
      ],
      "execution_count": 0,
      "outputs": []
    },
    {
      "cell_type": "code",
      "metadata": {
        "id": "7X80gkjYs_Ld",
        "colab_type": "code",
        "colab": {}
      },
      "source": [
        "from sklearn.neighbors import KNeighborsClassifier"
      ],
      "execution_count": 0,
      "outputs": []
    },
    {
      "cell_type": "code",
      "metadata": {
        "id": "sXbgE8ixtjEz",
        "colab_type": "code",
        "colab": {}
      },
      "source": [
        "knn = KNeighborsClassifier(n_neighbors=3)"
      ],
      "execution_count": 0,
      "outputs": []
    },
    {
      "cell_type": "code",
      "metadata": {
        "id": "qYbVbOqWuKIH",
        "colab_type": "code",
        "colab": {
          "base_uri": "https://localhost:8080/",
          "height": 88
        },
        "outputId": "48235b47-e945-4b2e-e75e-5bee6801e7b8"
      },
      "source": [
        "knn.fit(X_trainKNN, y_trainKNN)"
      ],
      "execution_count": 238,
      "outputs": [
        {
          "output_type": "execute_result",
          "data": {
            "text/plain": [
              "KNeighborsClassifier(algorithm='auto', leaf_size=30, metric='minkowski',\n",
              "                     metric_params=None, n_jobs=None, n_neighbors=3, p=2,\n",
              "                     weights='uniform')"
            ]
          },
          "metadata": {
            "tags": []
          },
          "execution_count": 238
        }
      ]
    },
    {
      "cell_type": "code",
      "metadata": {
        "id": "TbMkBVfCuYHX",
        "colab_type": "code",
        "colab": {}
      },
      "source": [
        "pred_KNN = knn.predict(X_testKNN)"
      ],
      "execution_count": 0,
      "outputs": []
    },
    {
      "cell_type": "code",
      "metadata": {
        "id": "fmpXgP12ugOS",
        "colab_type": "code",
        "colab": {
          "base_uri": "https://localhost:8080/",
          "height": 391
        },
        "outputId": "1a90abaa-79d1-4ed4-f6e3-be4b3238500d"
      },
      "source": [
        "print(metrics.classification_report(y_testKNN, pred_KNN))"
      ],
      "execution_count": 240,
      "outputs": [
        {
          "output_type": "stream",
          "text": [
            "              precision    recall  f1-score   support\n",
            "\n",
            "           0       0.25      0.40      0.31         5\n",
            "           1       0.47      0.80      0.59        10\n",
            "           2       0.75      0.46      0.57        13\n",
            "           3       0.75      0.75      0.75        12\n",
            "           4       0.21      0.50      0.30         6\n",
            "           5       0.89      0.57      0.70        14\n",
            "           6       0.80      0.73      0.76        11\n",
            "           7       0.90      0.75      0.82        12\n",
            "           8       0.85      0.79      0.81        14\n",
            "           9       1.00      0.83      0.91        12\n",
            "          10       0.70      0.88      0.78         8\n",
            "          11       0.50      0.62      0.56         8\n",
            "          12       0.85      0.58      0.69        19\n",
            "          13       0.69      0.90      0.78        10\n",
            "          14       0.86      0.60      0.71        10\n",
            "\n",
            "    accuracy                           0.68       164\n",
            "   macro avg       0.70      0.68      0.67       164\n",
            "weighted avg       0.75      0.68      0.70       164\n",
            "\n"
          ],
          "name": "stdout"
        }
      ]
    },
    {
      "cell_type": "code",
      "metadata": {
        "id": "Xr9EFcAKu9Zv",
        "colab_type": "code",
        "colab": {
          "base_uri": "https://localhost:8080/",
          "height": 272
        },
        "outputId": "953c3f06-5d79-4637-c302-d8a485987323"
      },
      "source": [
        "print(metrics.confusion_matrix(y_testKNN, pred_KNN))"
      ],
      "execution_count": 241,
      "outputs": [
        {
          "output_type": "stream",
          "text": [
            "[[ 2  3  0  0  0  0  0  0  0  0  0  0  0  0  0]\n",
            " [ 2  8  0  0  0  0  0  0  0  0  0  0  0  0  0]\n",
            " [ 3  4  6  0  0  0  0  0  0  0  0  0  0  0  0]\n",
            " [ 1  0  1  9  1  0  0  0  0  0  0  0  0  0  0]\n",
            " [ 0  1  1  1  3  0  0  0  0  0  0  0  0  0  0]\n",
            " [ 0  1  0  1  4  8  0  0  0  0  0  0  0  0  0]\n",
            " [ 0  0  0  1  2  0  8  0  0  0  0  0  0  0  0]\n",
            " [ 0  0  0  0  2  0  1  9  0  0  0  0  0  0  0]\n",
            " [ 0  0  0  0  2  0  1  0 11  0  0  0  0  0  0]\n",
            " [ 0  0  0  0  0  1  0  0  0 10  1  0  0  0  0]\n",
            " [ 0  0  0  0  0  0  0  0  1  0  7  0  0  0  0]\n",
            " [ 0  0  0  0  0  0  0  1  0  0  0  5  2  0  0]\n",
            " [ 0  0  0  0  0  0  0  0  1  0  2  4 11  1  0]\n",
            " [ 0  0  0  0  0  0  0  0  0  0  0  0  0  9  1]\n",
            " [ 0  0  0  0  0  0  0  0  0  0  0  1  0  3  6]]\n"
          ],
          "name": "stdout"
        }
      ]
    },
    {
      "cell_type": "code",
      "metadata": {
        "id": "GltX0qE8vSoB",
        "colab_type": "code",
        "colab": {
          "base_uri": "https://localhost:8080/",
          "height": 286
        },
        "outputId": "6d2d97a4-0507-4deb-e214-78a524bedf82"
      },
      "source": [
        "plt.scatter(y_testKNN, pred_KNN)"
      ],
      "execution_count": 242,
      "outputs": [
        {
          "output_type": "execute_result",
          "data": {
            "text/plain": [
              "<matplotlib.collections.PathCollection at 0x7f2c585e6be0>"
            ]
          },
          "metadata": {
            "tags": []
          },
          "execution_count": 242
        },
        {
          "output_type": "display_data",
          "data": {
            "image/png": "[encoded data removed]",
            "text/plain": [
              "<Figure size 432x288 with 1 Axes>"
            ]
          },
          "metadata": {
            "tags": []
          }
        }
      ]
    },
    {
      "cell_type": "code",
      "metadata": {
        "id": "iOC_jkMdvd42",
        "colab_type": "code",
        "colab": {
          "base_uri": "https://localhost:8080/",
          "height": 34
        },
        "outputId": "7130bc22-9fe8-4a0f-ba16-4d230677697b"
      },
      "source": [
        "print(metrics.mean_absolute_error(y_testKNN, pred_KNN))"
      ],
      "execution_count": 243,
      "outputs": [
        {
          "output_type": "stream",
          "text": [
            "0.5670731707317073\n"
          ],
          "name": "stdout"
        }
      ]
    },
    {
      "cell_type": "code",
      "metadata": {
        "id": "kxW8p703vowA",
        "colab_type": "code",
        "colab": {
          "base_uri": "https://localhost:8080/",
          "height": 34
        },
        "outputId": "1343c300-d988-481e-cc50-e53fe09a7ed4"
      },
      "source": [
        "print(np.sqrt(metrics.mean_squared_error(y_testKNN, pred_KNN)))"
      ],
      "execution_count": 244,
      "outputs": [
        {
          "output_type": "stream",
          "text": [
            "1.1660858019721259\n"
          ],
          "name": "stdout"
        }
      ]
    },
    {
      "cell_type": "code",
      "metadata": {
        "id": "TIKFI5rKv0zY",
        "colab_type": "code",
        "colab": {
          "base_uri": "https://localhost:8080/",
          "height": 300
        },
        "outputId": "d111aee8-5d83-4144-9efe-3e78e6493c1a"
      },
      "source": [
        "sns.distplot((y_testKNN-pred_KNN))\n",
        "plt.xlabel('Actual - Predicted using KNN')"
      ],
      "execution_count": 245,
      "outputs": [
        {
          "output_type": "execute_result",
          "data": {
            "text/plain": [
              "Text(0.5, 0, 'Actual - Predicted using KNN')"
            ]
          },
          "metadata": {
            "tags": []
          },
          "execution_count": 245
        },
        {
          "output_type": "display_data",
          "data": {
            "image/png": "[encoded data removed]",
            "text/plain": [
              "<Figure size 432x288 with 1 Axes>"
            ]
          },
          "metadata": {
            "tags": []
          }
        }
      ]
    },
    {
      "cell_type": "code",
      "metadata": {
        "id": "ztRMPfpnwDUw",
        "colab_type": "code",
        "colab": {
          "base_uri": "https://localhost:8080/",
          "height": 51
        },
        "outputId": "d8f57e20-69f0-4845-a01c-5e9eb6a23fa9"
      },
      "source": [
        "mini = 0;\n",
        "min_val = 2;\n",
        "\n",
        "for i in range(1,489):\n",
        "  knn = KNeighborsClassifier(n_neighbors=i)\n",
        "  knn.fit(X_trainKNN, y_trainKNN)\n",
        "  pred_i = knn.predict(X_testKNN)\n",
        "  if(min_val > metrics.mean_absolute_error(y_testKNN, pred_i)):\n",
        "    min_val = metrics.mean_absolute_error(y_testKNN, pred_i)\n",
        "    mini = i\n",
        "print(min_val)\n",
        "print(mini)"
      ],
      "execution_count": 246,
      "outputs": [
        {
          "output_type": "stream",
          "text": [
            "0.5670731707317073\n",
            "3\n"
          ],
          "name": "stdout"
        }
      ]
    },
    {
      "cell_type": "code",
      "metadata": {
        "id": "ZAwuNNhhzamu",
        "colab_type": "code",
        "colab": {
          "base_uri": "https://localhost:8080/",
          "height": 34
        },
        "outputId": "c82067e8-35fc-4fd9-9cff-5e9ed90399fb"
      },
      "source": [
        "mini"
      ],
      "execution_count": 247,
      "outputs": [
        {
          "output_type": "execute_result",
          "data": {
            "text/plain": [
              "3"
            ]
          },
          "metadata": {
            "tags": []
          },
          "execution_count": 247
        }
      ]
    },
    {
      "cell_type": "markdown",
      "metadata": {
        "id": "qHorsdVh4L-I",
        "colab_type": "text"
      },
      "source": [
        "#### K=1 has the highest accuracy"
      ]
    },
    {
      "cell_type": "markdown",
      "metadata": {
        "id": "IK9v0g2l-uBH",
        "colab_type": "text"
      },
      "source": [
        "## Decision Trees Model"
      ]
    },
    {
      "cell_type": "code",
      "metadata": {
        "id": "oquaAdFF4ZgE",
        "colab_type": "code",
        "colab": {}
      },
      "source": [
        "from sklearn.tree import DecisionTreeClassifier"
      ],
      "execution_count": 0,
      "outputs": []
    },
    {
      "cell_type": "code",
      "metadata": {
        "id": "ggzpwhN2--Vv",
        "colab_type": "code",
        "colab": {}
      },
      "source": [
        "dtree = DecisionTreeClassifier()"
      ],
      "execution_count": 0,
      "outputs": []
    },
    {
      "cell_type": "code",
      "metadata": {
        "id": "lJaVpF12_CF3",
        "colab_type": "code",
        "colab": {
          "base_uri": "https://localhost:8080/",
          "height": 139
        },
        "outputId": "bb25ee9d-c470-4ffd-d8a9-6766833a072e"
      },
      "source": [
        "dtree.fit(X_trainKNN, y_trainKNN)"
      ],
      "execution_count": 250,
      "outputs": [
        {
          "output_type": "execute_result",
          "data": {
            "text/plain": [
              "DecisionTreeClassifier(class_weight=None, criterion='gini', max_depth=None,\n",
              "                       max_features=None, max_leaf_nodes=None,\n",
              "                       min_impurity_decrease=0.0, min_impurity_split=None,\n",
              "                       min_samples_leaf=1, min_samples_split=2,\n",
              "                       min_weight_fraction_leaf=0.0, presort=False,\n",
              "                       random_state=None, splitter='best')"
            ]
          },
          "metadata": {
            "tags": []
          },
          "execution_count": 250
        }
      ]
    },
    {
      "cell_type": "code",
      "metadata": {
        "id": "PpR2AcmWF5xq",
        "colab_type": "code",
        "colab": {}
      },
      "source": [
        "pred_dtree = dtree.predict(X_testKNN)"
      ],
      "execution_count": 0,
      "outputs": []
    },
    {
      "cell_type": "code",
      "metadata": {
        "id": "DpT57_27GB9S",
        "colab_type": "code",
        "colab": {
          "base_uri": "https://localhost:8080/",
          "height": 391
        },
        "outputId": "581125c1-9d96-4243-e572-f5252fc4b8b6"
      },
      "source": [
        "print(metrics.classification_report(y_testKNN, pred_dtree))"
      ],
      "execution_count": 252,
      "outputs": [
        {
          "output_type": "stream",
          "text": [
            "              precision    recall  f1-score   support\n",
            "\n",
            "           0       0.43      0.60      0.50         5\n",
            "           1       0.44      0.70      0.54        10\n",
            "           2       0.56      0.38      0.45        13\n",
            "           3       0.64      0.58      0.61        12\n",
            "           4       0.50      0.67      0.57         6\n",
            "           5       0.88      0.50      0.64        14\n",
            "           6       0.64      0.82      0.72        11\n",
            "           7       0.82      0.75      0.78        12\n",
            "           8       0.79      0.79      0.79        14\n",
            "           9       0.82      0.75      0.78        12\n",
            "          10       0.75      0.75      0.75         8\n",
            "          11       0.64      0.88      0.74         8\n",
            "          12       0.80      0.63      0.71        19\n",
            "          13       0.57      0.80      0.67        10\n",
            "          14       0.86      0.60      0.71        10\n",
            "\n",
            "    accuracy                           0.67       164\n",
            "   macro avg       0.67      0.68      0.66       164\n",
            "weighted avg       0.70      0.67      0.67       164\n",
            "\n"
          ],
          "name": "stdout"
        }
      ]
    },
    {
      "cell_type": "code",
      "metadata": {
        "id": "vAl4oh4BGQb9",
        "colab_type": "code",
        "colab": {
          "base_uri": "https://localhost:8080/",
          "height": 272
        },
        "outputId": "6ee79293-e138-4a5d-edae-2d1bc906484e"
      },
      "source": [
        "print(metrics.confusion_matrix(y_testKNN, pred_dtree))"
      ],
      "execution_count": 253,
      "outputs": [
        {
          "output_type": "stream",
          "text": [
            "[[ 3  2  0  0  0  0  0  0  0  0  0  0  0  0  0]\n",
            " [ 2  7  1  0  0  0  0  0  0  0  0  0  0  0  0]\n",
            " [ 1  5  5  2  0  0  0  0  0  0  0  0  0  0  0]\n",
            " [ 1  1  1  7  1  0  1  0  0  0  0  0  0  0  0]\n",
            " [ 0  1  0  1  4  0  0  0  0  0  0  0  0  0  0]\n",
            " [ 0  0  2  0  2  7  1  1  0  1  0  0  0  0  0]\n",
            " [ 0  0  0  1  0  0  9  0  1  0  0  0  0  0  0]\n",
            " [ 0  0  0  0  1  0  1  9  1  0  0  0  0  0  0]\n",
            " [ 0  0  0  0  0  0  2  0 11  1  0  0  0  0  0]\n",
            " [ 0  0  0  0  0  1  0  0  0  9  1  1  0  0  0]\n",
            " [ 0  0  0  0  0  0  0  1  0  0  6  1  0  0  0]\n",
            " [ 0  0  0  0  0  0  0  0  0  0  0  7  1  0  0]\n",
            " [ 0  0  0  0  0  0  0  0  1  0  1  1 12  4  0]\n",
            " [ 0  0  0  0  0  0  0  0  0  0  0  0  1  8  1]\n",
            " [ 0  0  0  0  0  0  0  0  0  0  0  1  1  2  6]]\n"
          ],
          "name": "stdout"
        }
      ]
    },
    {
      "cell_type": "code",
      "metadata": {
        "id": "jJJdQmAfGa4-",
        "colab_type": "code",
        "colab": {
          "base_uri": "https://localhost:8080/",
          "height": 34
        },
        "outputId": "919ba6b1-1ee0-4ea6-bdb7-38fbb2ccbe72"
      },
      "source": [
        "print(metrics.mean_absolute_error(y_testKNN, pred_dtree))"
      ],
      "execution_count": 254,
      "outputs": [
        {
          "output_type": "stream",
          "text": [
            "0.5487804878048781\n"
          ],
          "name": "stdout"
        }
      ]
    },
    {
      "cell_type": "code",
      "metadata": {
        "id": "2D8ru-zEGi4E",
        "colab_type": "code",
        "colab": {
          "base_uri": "https://localhost:8080/",
          "height": 286
        },
        "outputId": "713498aa-bde0-4ea6-faae-8e7d21ef759d"
      },
      "source": [
        "plt.scatter(y_testKNN, pred_dtree)"
      ],
      "execution_count": 255,
      "outputs": [
        {
          "output_type": "execute_result",
          "data": {
            "text/plain": [
              "<matplotlib.collections.PathCollection at 0x7f2c584d1da0>"
            ]
          },
          "metadata": {
            "tags": []
          },
          "execution_count": 255
        },
        {
          "output_type": "display_data",
          "data": {
            "image/png": "[encoded data removed]",
            "text/plain": [
              "<Figure size 432x288 with 1 Axes>"
            ]
          },
          "metadata": {
            "tags": []
          }
        }
      ]
    },
    {
      "cell_type": "code",
      "metadata": {
        "id": "BdzbToNVGtca",
        "colab_type": "code",
        "colab": {
          "base_uri": "https://localhost:8080/",
          "height": 34
        },
        "outputId": "d8c7755b-e67a-49a0-a4a3-e461ae10acfc"
      },
      "source": [
        "print(np.sqrt(metrics.mean_squared_error(y_testKNN, pred_dtree)))"
      ],
      "execution_count": 256,
      "outputs": [
        {
          "output_type": "stream",
          "text": [
            "1.0987798110498443\n"
          ],
          "name": "stdout"
        }
      ]
    },
    {
      "cell_type": "markdown",
      "metadata": {
        "id": "zFRt0ic2K5NX",
        "colab_type": "text"
      },
      "source": [
        "## Random Forest Classification"
      ]
    },
    {
      "cell_type": "code",
      "metadata": {
        "id": "xz6riJx0K_M6",
        "colab_type": "code",
        "colab": {}
      },
      "source": [
        "from sklearn.ensemble import RandomForestClassifier"
      ],
      "execution_count": 0,
      "outputs": []
    },
    {
      "cell_type": "code",
      "metadata": {
        "id": "DBVujNiKNavi",
        "colab_type": "code",
        "colab": {}
      },
      "source": [
        "rfc = RandomForestClassifier(n_estimators=30)"
      ],
      "execution_count": 0,
      "outputs": []
    },
    {
      "cell_type": "code",
      "metadata": {
        "id": "Q5rCdpcKNwLT",
        "colab_type": "code",
        "colab": {
          "base_uri": "https://localhost:8080/",
          "height": 156
        },
        "outputId": "2c571eea-39e5-4857-c32b-304abad1e63c"
      },
      "source": [
        "rfc.fit(X_train, y_train)"
      ],
      "execution_count": 311,
      "outputs": [
        {
          "output_type": "execute_result",
          "data": {
            "text/plain": [
              "RandomForestClassifier(bootstrap=True, class_weight=None, criterion='gini',\n",
              "                       max_depth=None, max_features='auto', max_leaf_nodes=None,\n",
              "                       min_impurity_decrease=0.0, min_impurity_split=None,\n",
              "                       min_samples_leaf=1, min_samples_split=2,\n",
              "                       min_weight_fraction_leaf=0.0, n_estimators=30,\n",
              "                       n_jobs=None, oob_score=False, random_state=None,\n",
              "                       verbose=0, warm_start=False)"
            ]
          },
          "metadata": {
            "tags": []
          },
          "execution_count": 311
        }
      ]
    },
    {
      "cell_type": "code",
      "metadata": {
        "id": "t4qCzVI1N12Q",
        "colab_type": "code",
        "colab": {}
      },
      "source": [
        "pred_rfc = rfc.predict(X_test)"
      ],
      "execution_count": 0,
      "outputs": []
    },
    {
      "cell_type": "code",
      "metadata": {
        "id": "jhHhyGAEOAu1",
        "colab_type": "code",
        "colab": {
          "base_uri": "https://localhost:8080/",
          "height": 391
        },
        "outputId": "2ac9483a-1b7f-4dcf-c4ab-19d712a2c088"
      },
      "source": [
        "print(metrics.classification_report(y_test, pred_rfc))"
      ],
      "execution_count": 313,
      "outputs": [
        {
          "output_type": "stream",
          "text": [
            "              precision    recall  f1-score   support\n",
            "\n",
            "           0       0.50      0.60      0.55         5\n",
            "           1       0.47      0.80      0.59        10\n",
            "           2       0.64      0.54      0.58        13\n",
            "           3       0.89      0.67      0.76        12\n",
            "           4       0.50      0.83      0.62         6\n",
            "           5       0.64      0.50      0.56        14\n",
            "           6       0.80      0.73      0.76        11\n",
            "           7       0.75      0.75      0.75        12\n",
            "           8       0.92      0.86      0.89        14\n",
            "           9       0.91      0.83      0.87        12\n",
            "          10       0.60      0.75      0.67         8\n",
            "          11       0.86      0.75      0.80         8\n",
            "          12       0.92      0.63      0.75        19\n",
            "          13       0.64      0.90      0.75        10\n",
            "          14       0.70      0.70      0.70        10\n",
            "\n",
            "    accuracy                           0.71       164\n",
            "   macro avg       0.72      0.72      0.71       164\n",
            "weighted avg       0.75      0.71      0.72       164\n",
            "\n"
          ],
          "name": "stdout"
        }
      ]
    },
    {
      "cell_type": "code",
      "metadata": {
        "id": "RPB8HVRXOOSe",
        "colab_type": "code",
        "colab": {
          "base_uri": "https://localhost:8080/",
          "height": 272
        },
        "outputId": "e690832f-5e71-41e1-c857-ea664c50706f"
      },
      "source": [
        "print(metrics.confusion_matrix(y_test, pred_rfc))"
      ],
      "execution_count": 306,
      "outputs": [
        {
          "output_type": "stream",
          "text": [
            "[[ 3  2  0  0  0  0  0  0  0  0  0  0  0  0  0]\n",
            " [ 1  8  1  0  0  0  0  0  0  0  0  0  0  0  0]\n",
            " [ 1  5  7  0  0  0  0  0  0  0  0  0  0  0  0]\n",
            " [ 1  1  1  8  1  0  0  0  0  0  0  0  0  0  0]\n",
            " [ 0  1  0  0  5  0  0  0  0  0  0  0  0  0  0]\n",
            " [ 0  0  2  0  2  7  1  2  0  0  0  0  0  0  0]\n",
            " [ 0  0  0  1  0  1  8  0  1  0  0  0  0  0  0]\n",
            " [ 0  0  0  0  1  2  0  9  0  0  0  0  0  0  0]\n",
            " [ 0  0  0  0  1  0  1  0 12  0  0  0  0  0  0]\n",
            " [ 0  0  0  0  0  1  0  0  0 10  1  0  0  0  0]\n",
            " [ 0  0  0  0  0  0  0  1  0  0  6  1  0  0  0]\n",
            " [ 0  0  0  0  0  0  0  0  0  0  1  6  1  0  0]\n",
            " [ 0  0  0  0  0  0  0  0  0  1  2  0 12  2  2]\n",
            " [ 0  0  0  0  0  0  0  0  0  0  0  0  0  9  1]\n",
            " [ 0  0  0  0  0  0  0  0  0  0  0  0  0  3  7]]\n"
          ],
          "name": "stdout"
        }
      ]
    },
    {
      "cell_type": "code",
      "metadata": {
        "id": "SVSeMugxObCD",
        "colab_type": "code",
        "colab": {
          "base_uri": "https://localhost:8080/",
          "height": 51
        },
        "outputId": "e139cced-62a3-4224-b719-70679179b3af"
      },
      "source": [
        "print(metrics.mean_absolute_error(y_testKNN, pred_rfc))\n",
        "print(np.sqrt(metrics.mean_squared_error(y_testKNN, pred_rfc)))"
      ],
      "execution_count": 312,
      "outputs": [
        {
          "output_type": "stream",
          "text": [
            "0.49390243902439024\n",
            "1.0388783820461984\n"
          ],
          "name": "stdout"
        }
      ]
    },
    {
      "cell_type": "code",
      "metadata": {
        "id": "4aCiRwAXO-rL",
        "colab_type": "code",
        "colab": {
          "base_uri": "https://localhost:8080/",
          "height": 286
        },
        "outputId": "d9f0c810-b42c-4a10-f380-c8737758bbd5"
      },
      "source": [
        "plt.scatter(y_testKNN, pred_rfc)"
      ],
      "execution_count": 315,
      "outputs": [
        {
          "output_type": "execute_result",
          "data": {
            "text/plain": [
              "<matplotlib.collections.PathCollection at 0x7f2c57e79208>"
            ]
          },
          "metadata": {
            "tags": []
          },
          "execution_count": 315
        },
        {
          "output_type": "display_data",
          "data": {
            "image/png": "[encoded data removed]",
            "text/plain": [
              "<Figure size 432x288 with 1 Axes>"
            ]
          },
          "metadata": {
            "tags": []
          }
        }
      ]
    },
    {
      "cell_type": "code",
      "metadata": {
        "id": "j_g1efayUvqj",
        "colab_type": "code",
        "colab": {
          "base_uri": "https://localhost:8080/",
          "height": 85
        },
        "outputId": "048da914-a634-45c5-e180-227c68b5be0f"
      },
      "source": [
        "print(metrics.accuracy_score(y_test, pred_rfc))\n",
        "print(metrics.accuracy_score(y_test, pred_dtree))\n",
        "print(metrics.accuracy_score(y_test, pred_KNN))\n",
        "print(metrics.accuracy_score(y_test, pred_LogReg))"
      ],
      "execution_count": 322,
      "outputs": [
        {
          "output_type": "stream",
          "text": [
            "0.7073170731707317\n",
            "0.6707317073170732\n",
            "0.6829268292682927\n",
            "0.524390243902439\n"
          ],
          "name": "stdout"
        }
      ]
    },
    {
      "cell_type": "code",
      "metadata": {
        "id": "YgB2Boq3ccLV",
        "colab_type": "code",
        "colab": {}
      },
      "source": [
        ""
      ],
      "execution_count": 0,
      "outputs": []
    }
  ]
}